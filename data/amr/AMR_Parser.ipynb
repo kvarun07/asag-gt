{
 "cells": [
  {
   "cell_type": "code",
   "execution_count": null,
   "metadata": {
    "scrolled": true
   },
   "outputs": [],
   "source": [
    "!pip3 install amrlib"
   ]
  },
  {
   "cell_type": "code",
   "execution_count": 1,
   "metadata": {},
   "outputs": [
    {
     "name": "stdout",
     "output_type": "stream",
     "text": [
      ">>> 1 1\n"
     ]
    },
    {
     "name": "stderr",
     "output_type": "stream",
     "text": [
      "C:\\Users\\Rajat\\Anaconda3\\envs\\class_hop\\lib\\site-packages\\torch\\_tensor.py:575: UserWarning: floor_divide is deprecated, and will be removed in a future version of pytorch. It currently rounds toward 0 (like the 'trunc' function NOT 'floor'). This results in incorrect rounding for negative values.\n",
      "To keep the current behavior, use torch.div(a, b, rounding_mode='trunc'), or for actual floor division, use torch.div(a, b, rounding_mode='floor'). (Triggered internally at  ..\\aten\\src\\ATen\\native\\BinaryOps.cpp:467.)\n",
      "  return torch.floor_divide(self, other)\n"
     ]
    },
    {
     "name": "stdout",
     "output_type": "stream",
     "text": [
      ">>> 2 1\n",
      ">>> 3 1\n",
      ">>> 4 1\n",
      ">>> 5 1\n",
      ">>> 6 1\n",
      ">>> 7 1\n",
      ">>> 8 1\n",
      ">>> 9 1\n",
      ">>> 10 1\n",
      ">>> 11 11\n",
      ">>> 12 11\n",
      ">>> 13 11\n",
      ">>> 14 11\n",
      ">>> 15 11\n",
      ">>> 16 11\n",
      ">>> 17 11\n",
      ">>> 18 11\n",
      ">>> 19 11\n",
      ">>> 20 11\n",
      ">>> 21 21\n",
      ">>> 22 21\n",
      ">>> 23 21\n",
      ">>> 24 21\n",
      ">>> 25 21\n",
      ">>> 26 21\n",
      ">>> 27 21\n",
      ">>> 28 21\n",
      ">>> 29 21\n",
      ">>> 30 21\n",
      ">>> 31 31\n",
      ">>> 32 31\n",
      ">>> 33 31\n",
      ">>> 34 31\n",
      ">>> 35 31\n",
      ">>> 36 31\n",
      ">>> 37 31\n"
     ]
    },
    {
     "name": "stderr",
     "output_type": "stream",
     "text": [
      "gid=x Start paren present but thing is not a new concept\n"
     ]
    },
    {
     "name": "stdout",
     "output_type": "stream",
     "text": [
      ">>> 38 31\n",
      ">>> 39 31\n",
      ">>> 40 31\n",
      ">>> 41 41\n",
      ">>> 42 41\n",
      ">>> 43 41\n",
      ">>> 44 41\n",
      ">>> 45 41\n",
      ">>> 46 41\n",
      ">>> 47 41\n",
      ">>> 48 41\n",
      ">>> 49 41\n",
      ">>> 50 41\n",
      ">>> 51 51\n",
      ">>> 52 51\n",
      ">>> 53 51\n",
      ">>> 54 51\n",
      ">>> 55 51\n",
      ">>> 56 51\n",
      ">>> 57 51\n",
      ">>> 58 51\n",
      ">>> 59 51\n",
      ">>> 60 51\n",
      ">>> 61 61\n",
      ">>> 62 61\n",
      ">>> 63 61\n",
      ">>> 64 61\n",
      ">>> 65 61\n",
      ">>> 66 61\n",
      ">>> 67 61\n",
      ">>> 68 61\n",
      ">>> 69 61\n",
      ">>> 70 61\n",
      ">>> 71 71\n",
      ">>> 72 71\n",
      ">>> 73 71\n",
      ">>> 74 71\n",
      ">>> 75 71\n",
      ">>> 76 71\n",
      ">>> 77 71\n",
      ">>> 78 71\n",
      ">>> 79 71\n",
      ">>> 80 71\n"
     ]
    },
    {
     "name": "stderr",
     "output_type": "stream",
     "text": [
      "gid=x Unhandled token /\n",
      "gid=x Unhandled token 3\n"
     ]
    },
    {
     "name": "stdout",
     "output_type": "stream",
     "text": [
      ">>> 81 81\n",
      ">>> 82 81\n",
      ">>> 83 81\n",
      ">>> 84 81\n",
      ">>> 85 81\n",
      ">>> 86 81\n",
      ">>> 87 81\n",
      ">>> 88 81\n",
      ">>> 89 81\n",
      ">>> 90 81\n",
      ">>> 91 91\n",
      ">>> 92 91\n",
      ">>> 93 91\n",
      ">>> 94 91\n",
      ">>> 95 91\n",
      ">>> 96 91\n",
      ">>> 97 91\n",
      ">>> 98 91\n",
      ">>> 99 91\n",
      ">>> 100 91\n",
      ">>> 101 101\n",
      ">>> 102 101\n",
      ">>> 103 101\n",
      ">>> 104 101\n",
      ">>> 105 101\n",
      ">>> 106 101\n",
      ">>> 107 101\n",
      ">>> 108 101\n",
      ">>> 109 101\n",
      ">>> 110 101\n",
      ">>> 111 111\n",
      ">>> 112 111\n",
      ">>> 113 111\n",
      ">>> 114 111\n",
      ">>> 115 111\n",
      ">>> 116 111\n",
      ">>> 117 111\n",
      ">>> 118 111\n",
      ">>> 119 111\n",
      ">>> 120 111\n",
      ">>> 121 121\n",
      ">>> 122 121\n",
      ">>> 123 121\n",
      ">>> 124 121\n",
      ">>> 125 121\n",
      ">>> 126 121\n",
      ">>> 127 121\n",
      ">>> 128 121\n",
      ">>> 129 121\n",
      ">>> 130 121\n",
      ">>> 131 131\n",
      ">>> 132 131\n",
      ">>> 133 131\n",
      ">>> 134 131\n",
      ">>> 135 131\n",
      ">>> 136 131\n",
      ">>> 137 131\n",
      ">>> 138 131\n",
      ">>> 139 131\n",
      ">>> 140 131\n",
      ">>> 141 141\n",
      ">>> 142 141\n",
      ">>> 143 141\n",
      ">>> 144 141\n",
      ">>> 145 141\n",
      ">>> 146 141\n",
      ">>> 147 141\n",
      ">>> 148 141\n",
      ">>> 149 141\n",
      ">>> 150 141\n",
      ">>> 151 151\n",
      ">>> 152 151\n",
      ">>> 153 151\n",
      ">>> 154 151\n",
      ">>> 155 151\n",
      ">>> 156 151\n",
      ">>> 157 151\n",
      ">>> 158 151\n",
      ">>> 159 151\n",
      ">>> 160 151\n",
      ">>> 161 161\n",
      ">>> 162 161\n",
      ">>> 163 161\n",
      ">>> 164 161\n",
      ">>> 165 161\n",
      ">>> 166 161\n",
      ">>> 167 161\n",
      ">>> 168 161\n",
      ">>> 169 161\n",
      ">>> 170 161\n",
      ">>> 171 171\n",
      ">>> 172 171\n",
      ">>> 173 171\n",
      ">>> 174 171\n",
      ">>> 175 171\n",
      ">>> 176 171\n",
      ">>> 177 171\n",
      ">>> 178 171\n",
      ">>> 179 171\n",
      ">>> 180 171\n",
      ">>> 181 181\n"
     ]
    },
    {
     "name": "stderr",
     "output_type": "stream",
     "text": [
      "gid=x Start paren present but rock is not a new concept\n"
     ]
    },
    {
     "name": "stdout",
     "output_type": "stream",
     "text": [
      ">>> 182 181\n",
      ">>> 183 181\n",
      ">>> 184 181\n",
      ">>> 185 181\n",
      ">>> 186 181\n"
     ]
    },
    {
     "name": "stderr",
     "output_type": "stream",
     "text": [
      "gid=x Start paren present but recommend-01 is not a new concept\n"
     ]
    },
    {
     "name": "stdout",
     "output_type": "stream",
     "text": [
      ">>> 187 181\n"
     ]
    },
    {
     "name": "stderr",
     "output_type": "stream",
     "text": [
      "gid=x Start paren present but have-03 is not a new concept\n"
     ]
    },
    {
     "name": "stdout",
     "output_type": "stream",
     "text": [
      ">>> 188 181\n",
      ">>> 189 181\n",
      ">>> 190 181\n",
      ">>> 191 191\n",
      ">>> 192 191\n",
      ">>> 193 191\n",
      ">>> 194 191\n",
      ">>> 195 191\n",
      ">>> 196 191\n",
      ">>> 197 191\n",
      ">>> 198 191\n"
     ]
    },
    {
     "name": "stderr",
     "output_type": "stream",
     "text": [
      "gid=x Start paren present but vial is not a new concept\n"
     ]
    },
    {
     "name": "stdout",
     "output_type": "stream",
     "text": [
      ">>> 199 191\n",
      ">>> 200 191\n",
      ">>> 201 201\n",
      ">>> 202 201\n"
     ]
    },
    {
     "name": "stderr",
     "output_type": "stream",
     "text": [
      "gid=x Start paren present but hand is not a new concept\n"
     ]
    },
    {
     "name": "stdout",
     "output_type": "stream",
     "text": [
      ">>> 203 201\n",
      ">>> 204 201\n",
      ">>> 205 201\n",
      ">>> 206 201\n",
      ">>> 207 201\n",
      ">>> 208 201\n",
      ">>> 209 201\n",
      ">>> 210 201\n",
      ">>> 211 211\n",
      ">>> 212 211\n",
      ">>> 213 211\n",
      ">>> 214 211\n",
      ">>> 215 211\n",
      ">>> 216 211\n",
      ">>> 217 211\n",
      ">>> 218 211\n",
      ">>> 219 211\n",
      ">>> 220 211\n",
      ">>> 221 221\n",
      ">>> 222 221\n",
      ">>> 223 221\n",
      ">>> 224 221\n",
      ">>> 225 221\n",
      ">>> 226 221\n",
      ">>> 227 221\n",
      ">>> 228 221\n",
      ">>> 229 221\n",
      ">>> 230 221\n",
      ">>> 231 231\n",
      ">>> 232 231\n",
      ">>> 233 231\n",
      ">>> 234 231\n",
      ">>> 235 231\n",
      ">>> 236 231\n",
      ">>> 237 231\n"
     ]
    },
    {
     "name": "stderr",
     "output_type": "stream",
     "text": [
      "gid=x Start paren present but cause-01 is not a new concept\n",
      "gid=x Start paren present but have-03 is not a new concept\n",
      "ignoring epigraph data for duplicate triple: ('h', ':ARG1', 's3')\n"
     ]
    },
    {
     "name": "stdout",
     "output_type": "stream",
     "text": [
      ">>> 238 231\n",
      ">>> 239 231\n",
      ">>> 240 231\n",
      ">>> 241 241\n",
      ">>> 242 241\n",
      ">>> 243 241\n",
      ">>> 244 241\n",
      ">>> 245 241\n"
     ]
    },
    {
     "name": "stderr",
     "output_type": "stream",
     "text": [
      "gid=x Start paren present but have-03 is not a new concept\n"
     ]
    },
    {
     "name": "stdout",
     "output_type": "stream",
     "text": [
      ">>> 246 241\n",
      ">>> 247 241\n"
     ]
    },
    {
     "name": "stderr",
     "output_type": "stream",
     "text": [
      "gid=x Start paren present but have-03 is not a new concept\n"
     ]
    },
    {
     "name": "stdout",
     "output_type": "stream",
     "text": [
      ">>> 248 241\n",
      ">>> 249 241\n",
      ">>> 250 241\n",
      ">>> 251 251\n",
      ">>> 252 251\n",
      ">>> 253 251\n",
      ">>> 254 251\n",
      ">>> 255 251\n",
      ">>> 256 251\n",
      ">>> 257 251\n",
      ">>> 258 251\n",
      ">>> 259 251\n",
      ">>> 260 251\n",
      ">>> 261 261\n",
      ">>> 262 261\n",
      ">>> 263 261\n",
      ">>> 264 261\n",
      ">>> 265 261\n",
      ">>> 266 261\n",
      ">>> 267 261\n",
      ">>> 268 261\n",
      ">>> 269 261\n",
      ">>> 270 261\n",
      ">>> 271 271\n",
      ">>> 272 271\n",
      ">>> 273 271\n",
      ">>> 274 271\n",
      ">>> 275 271\n",
      ">>> 276 271\n",
      ">>> 277 271\n",
      ">>> 278 271\n",
      ">>> 279 271\n",
      ">>> 280 271\n",
      ">>> 281 281\n",
      ">>> 282 281\n",
      ">>> 283 281\n",
      ">>> 284 281\n",
      ">>> 285 281\n",
      ">>> 286 281\n",
      ">>> 287 281\n",
      ">>> 288 281\n",
      ">>> 289 281\n",
      ">>> 290 281\n",
      ">>> 291 291\n",
      ">>> 292 291\n",
      ">>> 293 291\n",
      ">>> 294 291\n",
      ">>> 295 291\n",
      ">>> 296 291\n",
      ">>> 297 291\n",
      ">>> 298 291\n",
      ">>> 299 291\n",
      ">>> 300 291\n",
      ">>> 301 301\n",
      ">>> 302 301\n",
      ">>> 303 301\n",
      ">>> 304 301\n",
      ">>> 305 301\n",
      ">>> 306 301\n",
      ">>> 307 301\n",
      ">>> 308 301\n",
      ">>> 309 301\n",
      ">>> 310 301\n",
      ">>> 311 311\n",
      ">>> 312 311\n",
      ">>> 313 311\n",
      ">>> 314 311\n",
      ">>> 315 311\n",
      ">>> 316 311\n",
      ">>> 317 311\n",
      ">>> 318 311\n",
      ">>> 319 311\n",
      ">>> 320 311\n"
     ]
    },
    {
     "name": "stderr",
     "output_type": "stream",
     "text": [
      "gid=x Start paren present but have-03 is not a new concept\n"
     ]
    },
    {
     "name": "stdout",
     "output_type": "stream",
     "text": [
      ">>> 321 321\n",
      ">>> 322 321\n",
      ">>> 323 321\n",
      ">>> 324 321\n",
      ">>> 325 321\n",
      ">>> 326 321\n",
      ">>> 327 321\n",
      ">>> 328 321\n",
      ">>> 329 321\n",
      ">>> 330 321\n",
      ">>> 331 331\n",
      ">>> 332 331\n",
      ">>> 333 331\n",
      ">>> 334 331\n",
      ">>> 335 331\n",
      ">>> 336 331\n",
      ">>> 337 331\n",
      ">>> 338 331\n",
      ">>> 339 331\n",
      ">>> 340 331\n",
      ">>> 341 341\n",
      ">>> 342 341\n",
      ">>> 343 341\n",
      ">>> 344 341\n",
      ">>> 345 341\n",
      ">>> 346 341\n",
      ">>> 347 341\n",
      ">>> 348 341\n",
      ">>> 349 341\n",
      ">>> 350 341\n",
      ">>> 351 351\n",
      ">>> 352 351\n",
      ">>> 353 351\n",
      ">>> 354 351\n",
      ">>> 355 351\n",
      ">>> 356 351\n",
      ">>> 357 351\n",
      ">>> 358 351\n",
      ">>> 359 351\n",
      ">>> 360 351\n"
     ]
    },
    {
     "name": "stderr",
     "output_type": "stream",
     "text": [
      "gid=x Start paren present but most is not a new concept\n"
     ]
    },
    {
     "name": "stdout",
     "output_type": "stream",
     "text": [
      ">>> 361 361\n",
      ">>> 362 361\n",
      ">>> 363 361\n",
      ">>> 364 361\n",
      ">>> 365 361\n",
      ">>> 366 361\n",
      ">>> 367 361\n",
      ">>> 368 361\n",
      ">>> 369 361\n",
      ">>> 370 361\n",
      ">>> 371 371\n",
      ">>> 372 371\n"
     ]
    },
    {
     "name": "stderr",
     "output_type": "stream",
     "text": [
      "gid=x Start paren present but mean-01 is not a new concept\n"
     ]
    },
    {
     "name": "stdout",
     "output_type": "stream",
     "text": [
      ">>> 373 371\n",
      ">>> 374 371\n",
      ">>> 375 371\n",
      ">>> 376 371\n",
      ">>> 377 371\n",
      ">>> 378 371\n",
      ">>> 379 371\n",
      ">>> 380 371\n",
      ">>> 381 381\n",
      ">>> 382 381\n",
      ">>> 383 381\n",
      ">>> 384 381\n",
      ">>> 385 381\n",
      ">>> 386 381\n",
      ">>> 387 381\n",
      ">>> 388 381\n",
      ">>> 389 381\n",
      ">>> 390 381\n",
      ">>> 391 391\n",
      ">>> 392 391\n",
      ">>> 393 391\n",
      ">>> 394 391\n",
      ">>> 395 391\n",
      ">>> 396 391\n",
      ">>> 397 391\n",
      ">>> 398 391\n",
      ">>> 399 391\n",
      ">>> 400 391\n"
     ]
    },
    {
     "name": "stderr",
     "output_type": "stream",
     "text": [
      "gid=x Start paren present but flour is not a new concept\n"
     ]
    },
    {
     "name": "stdout",
     "output_type": "stream",
     "text": [
      ">>> 401 401\n",
      ">>> 402 401\n",
      ">>> 403 401\n",
      ">>> 404 401\n",
      ">>> 405 401\n",
      ">>> 406 401\n"
     ]
    },
    {
     "name": "stderr",
     "output_type": "stream",
     "text": [
      "gid=x Missing starting paren for node s5/sand\n"
     ]
    },
    {
     "name": "stdout",
     "output_type": "stream",
     "text": [
      ">>> 407 401\n",
      ">>> 408 401\n",
      ">>> 409 401\n",
      ">>> 410 401\n",
      ">>> 411 411\n",
      ">>> 412 411\n",
      ">>> 413 411\n",
      ">>> 414 411\n"
     ]
    },
    {
     "name": "stderr",
     "output_type": "stream",
     "text": [
      "gid=x Start paren present but flour is not a new concept\n"
     ]
    },
    {
     "name": "stdout",
     "output_type": "stream",
     "text": [
      ">>> 415 411\n",
      ">>> 416 411\n",
      ">>> 417 411\n"
     ]
    },
    {
     "name": "stderr",
     "output_type": "stream",
     "text": [
      "gid=x Start paren present but heavy is not a new concept\n"
     ]
    },
    {
     "name": "stdout",
     "output_type": "stream",
     "text": [
      ">>> 418 411\n",
      ">>> 419 411\n"
     ]
    },
    {
     "name": "stderr",
     "output_type": "stream",
     "text": [
      "gid=x Start paren present but sand is not a new concept\n"
     ]
    },
    {
     "name": "stdout",
     "output_type": "stream",
     "text": [
      ">>> 420 411\n",
      ">>> 421 421\n"
     ]
    },
    {
     "name": "stderr",
     "output_type": "stream",
     "text": [
      "gid=x Start paren present but flour is not a new concept\n"
     ]
    },
    {
     "name": "stdout",
     "output_type": "stream",
     "text": [
      ">>> 422 421\n",
      ">>> 423 421\n",
      ">>> 424 421\n",
      ">>> 425 421\n",
      ">>> 426 421\n",
      ">>> 427 421\n",
      ">>> 428 421\n",
      ">>> 429 421\n"
     ]
    },
    {
     "name": "stderr",
     "output_type": "stream",
     "text": [
      "gid=x Start paren present but sand is not a new concept\n",
      "gid=x Start paren present but heavy is not a new concept\n"
     ]
    },
    {
     "name": "stdout",
     "output_type": "stream",
     "text": [
      ">>> 430 421\n",
      ">>> 431 431\n",
      ">>> 432 431\n",
      ">>> 433 431\n"
     ]
    },
    {
     "name": "stderr",
     "output_type": "stream",
     "text": [
      "gid=x Start paren present but amount is not a new concept\n"
     ]
    },
    {
     "name": "stdout",
     "output_type": "stream",
     "text": [
      ">>> 434 431\n",
      ">>> 435 431\n",
      ">>> 436 431\n",
      ">>> 437 431\n"
     ]
    },
    {
     "name": "stderr",
     "output_type": "stream",
     "text": [
      "gid=x Start paren present but paper is not a new concept\n"
     ]
    },
    {
     "name": "stdout",
     "output_type": "stream",
     "text": [
      ">>> 438 431\n",
      ">>> 439 431\n",
      ">>> 440 431\n",
      ">>> 441 441\n",
      ">>> 442 441\n"
     ]
    },
    {
     "name": "stderr",
     "output_type": "stream",
     "text": [
      "gid=x Start paren present but circle is not a new concept\n"
     ]
    },
    {
     "name": "stdout",
     "output_type": "stream",
     "text": [
      ">>> 443 441\n",
      ">>> 444 441\n",
      ">>> 445 441\n"
     ]
    },
    {
     "name": "stderr",
     "output_type": "stream",
     "text": [
      "gid=x Start paren present but put-01 is not a new concept\n",
      "gid=x Start paren present but you is not a new concept\n"
     ]
    },
    {
     "name": "stdout",
     "output_type": "stream",
     "text": [
      ">>> 446 441\n",
      ">>> 447 441\n",
      ">>> 448 441\n"
     ]
    },
    {
     "name": "stderr",
     "output_type": "stream",
     "text": [
      "Sentence number 0 was clipped for length\n",
      "gid=x Start paren present but contrast-01 is not a new concept\n",
      "gid=x Start paren present but it is not a new concept\n",
      "ignoring epigraph data for duplicate triple: ('c2', ':ARG1', 'p4')\n"
     ]
    },
    {
     "name": "stdout",
     "output_type": "stream",
     "text": [
      ">>> 449 441\n",
      ">>> 450 441\n",
      ">>> 451 451\n"
     ]
    },
    {
     "name": "stderr",
     "output_type": "stream",
     "text": [
      "gid=x Start paren present but and is not a new concept\n",
      "gid=x Start paren present but thing is not a new concept\n",
      "gid=x Start paren present but and is not a new concept\n"
     ]
    },
    {
     "name": "stdout",
     "output_type": "stream",
     "text": [
      ">>> 452 451\n"
     ]
    },
    {
     "name": "stderr",
     "output_type": "stream",
     "text": [
      "gid=x Start paren present but more is not a new concept\n"
     ]
    },
    {
     "name": "stdout",
     "output_type": "stream",
     "text": [
      ">>> 453 451\n"
     ]
    },
    {
     "name": "stderr",
     "output_type": "stream",
     "text": [
      "gid=x Start paren present but put-01 is not a new concept\n"
     ]
    },
    {
     "name": "stdout",
     "output_type": "stream",
     "text": [
      ">>> 454 451\n",
      ">>> 455 451\n",
      ">>> 456 451\n",
      ">>> 457 451\n",
      ">>> 458 451\n"
     ]
    },
    {
     "name": "stderr",
     "output_type": "stream",
     "text": [
      "Sentence number 0 was clipped for length\n",
      "gid=x Start paren present but brown-02 is not a new concept\n",
      "gid=x Start paren present but scale is not a new concept\n",
      "gid=x Start paren present but paper is not a new concept\n",
      "gid=x Start paren present but have-degree-91 is not a new concept\n"
     ]
    },
    {
     "name": "stdout",
     "output_type": "stream",
     "text": [
      ">>> 459 451\n"
     ]
    },
    {
     "name": "stderr",
     "output_type": "stream",
     "text": [
      "gid=x Start paren present but you is not a new concept\n"
     ]
    },
    {
     "name": "stdout",
     "output_type": "stream",
     "text": [
      ">>> 460 451\n",
      ">>> 461 461\n"
     ]
    },
    {
     "name": "stderr",
     "output_type": "stream",
     "text": [
      "gid=x Start paren present but brown-02 is not a new concept\n",
      "gid=x Start paren present but have-03 is not a new concept\n",
      "gid=x Start paren present but more is not a new concept\n",
      "ignoring epigraph data for duplicate triple: ('h', ':ARG0', 'o3')\n"
     ]
    },
    {
     "name": "stdout",
     "output_type": "stream",
     "text": [
      ">>> 462 461\n",
      ">>> 463 461\n"
     ]
    },
    {
     "name": "stderr",
     "output_type": "stream",
     "text": [
      "gid=x Missing starting paren for node p5/piece\n",
      "gid=x Start paren present but you is not a new concept\n"
     ]
    },
    {
     "name": "stdout",
     "output_type": "stream",
     "text": [
      ">>> 464 461\n",
      ">>> 465 461\n",
      ">>> 466 461\n",
      ">>> 467 461\n"
     ]
    },
    {
     "name": "stderr",
     "output_type": "stream",
     "text": [
      "gid=x Missing starting paren for node f2/fat\n"
     ]
    },
    {
     "name": "stdout",
     "output_type": "stream",
     "text": [
      ">>> 468 461\n",
      ">>> 469 461\n",
      ">>> 470 461\n",
      ">>> 471 471\n",
      ">>> 472 471\n"
     ]
    },
    {
     "name": "stderr",
     "output_type": "stream",
     "text": [
      "gid=x Start paren present but have-03 is not a new concept\n",
      "ignoring epigraph data for duplicate triple: ('h', ':ARG0', 'o')\n"
     ]
    },
    {
     "name": "stdout",
     "output_type": "stream",
     "text": [
      ">>> 473 471\n",
      ">>> 474 471\n",
      ">>> 475 471\n",
      ">>> 476 471\n",
      ">>> 477 471\n",
      ">>> 478 471\n"
     ]
    },
    {
     "name": "stderr",
     "output_type": "stream",
     "text": [
      "gid=x Start paren present but have-03 is not a new concept\n",
      "ignoring epigraph data for duplicate triple: ('h', ':ARG0', 'n')\n"
     ]
    },
    {
     "name": "stdout",
     "output_type": "stream",
     "text": [
      ">>> 479 471\n",
      ">>> 480 471\n",
      ">>> 481 481\n",
      ">>> 482 481\n"
     ]
    },
    {
     "name": "stderr",
     "output_type": "stream",
     "text": [
      "gid=x Start paren present but have-03 is not a new concept\n",
      "gid=x Start paren present but grease is not a new concept\n",
      "ignoring epigraph data for duplicate triple: ('h2', ':ARG0', 'o')\n"
     ]
    },
    {
     "name": "stdout",
     "output_type": "stream",
     "text": [
      ">>> 483 481\n",
      ">>> 484 481\n",
      ">>> 485 481\n",
      ">>> 486 481\n",
      ">>> 487 481\n",
      ">>> 488 481\n",
      ">>> 489 481\n",
      ">>> 490 481\n",
      ">>> 491 491\n",
      ">>> 492 491\n",
      ">>> 493 491\n",
      ">>> 494 491\n",
      ">>> 495 491\n",
      ">>> 496 491\n",
      ">>> 497 491\n",
      ">>> 498 491\n",
      ">>> 499 491\n",
      ">>> 500 491\n",
      ">>> 501 501\n",
      ">>> 502 501\n",
      ">>> 503 501\n",
      ">>> 504 501\n",
      ">>> 505 501\n",
      ">>> 506 501\n",
      ">>> 507 501\n",
      ">>> 508 501\n",
      ">>> 509 501\n"
     ]
    },
    {
     "name": "stderr",
     "output_type": "stream",
     "text": [
      "gid=x Start paren present but more is not a new concept\n"
     ]
    },
    {
     "name": "stdout",
     "output_type": "stream",
     "text": [
      ">>> 510 501\n",
      ">>> 511 511\n",
      ">>> 512 511\n"
     ]
    },
    {
     "name": "stderr",
     "output_type": "stream",
     "text": [
      "gid=x Start paren present but have-quant-91 is not a new concept\n"
     ]
    },
    {
     "name": "stdout",
     "output_type": "stream",
     "text": [
      ">>> 513 511\n",
      ">>> 514 511\n",
      ">>> 515 511\n",
      ">>> 516 511\n",
      ">>> 517 511\n",
      ">>> 518 511\n"
     ]
    },
    {
     "name": "stderr",
     "output_type": "stream",
     "text": [
      "gid=x Start paren present but name is not a new concept\n"
     ]
    },
    {
     "name": "stdout",
     "output_type": "stream",
     "text": [
      ">>> 519 511\n"
     ]
    },
    {
     "name": "stderr",
     "output_type": "stream",
     "text": [
      "gid=x Start paren present but have-03 is not a new concept\n",
      "ignoring epigraph data for duplicate triple: ('h', ':ARG0', 'b')\n"
     ]
    },
    {
     "name": "stdout",
     "output_type": "stream",
     "text": [
      ">>> 520 511\n",
      ">>> 521 521\n",
      ">>> 522 521\n",
      ">>> 523 521\n",
      ">>> 524 521\n",
      ">>> 525 521\n",
      ">>> 526 521\n",
      ">>> 527 521\n",
      ">>> 528 521\n",
      ">>> 529 521\n"
     ]
    },
    {
     "name": "stderr",
     "output_type": "stream",
     "text": [
      "gid=x Start paren present but have-03 is not a new concept\n",
      "ignoring epigraph data for duplicate triple: ('h3', ':ARG0', 'o2')\n"
     ]
    },
    {
     "name": "stdout",
     "output_type": "stream",
     "text": [
      ">>> 530 521\n",
      ">>> 531 531\n"
     ]
    },
    {
     "name": "stderr",
     "output_type": "stream",
     "text": [
      "gid=x Start paren present but name is not a new concept\n",
      "gid=x Start paren present but bag is not a new concept\n"
     ]
    },
    {
     "name": "stdout",
     "output_type": "stream",
     "text": [
      ">>> 532 531\n",
      ">>> 533 531\n",
      ">>> 534 531\n",
      ">>> 535 531\n",
      ">>> 536 531\n",
      ">>> 537 531\n",
      ">>> 538 531\n",
      ">>> 539 531\n"
     ]
    },
    {
     "name": "stderr",
     "output_type": "stream",
     "text": [
      "gid=x Start paren present but high-02 is not a new concept\n"
     ]
    },
    {
     "name": "stdout",
     "output_type": "stream",
     "text": [
      ">>> 540 531\n",
      ">>> 541 541\n",
      ">>> 542 541\n",
      ">>> 543 541\n",
      ">>> 544 541\n",
      ">>> 545 541\n",
      ">>> 546 541\n",
      ">>> 547 541\n",
      ">>> 548 541\n"
     ]
    },
    {
     "name": "stderr",
     "output_type": "stream",
     "text": [
      "gid=x Start paren present but name is not a new concept\n"
     ]
    },
    {
     "name": "stdout",
     "output_type": "stream",
     "text": [
      ">>> 549 541\n",
      ">>> 550 541\n"
     ]
    },
    {
     "name": "stderr",
     "output_type": "stream",
     "text": [
      "gid=x Start paren present but and is not a new concept\n"
     ]
    },
    {
     "name": "stdout",
     "output_type": "stream",
     "text": [
      ">>> 551 551\n",
      ">>> 552 551\n",
      ">>> 553 551\n",
      ">>> 554 551\n",
      ">>> 555 551\n",
      ">>> 556 551\n",
      ">>> 557 551\n",
      ">>> 558 551\n",
      ">>> 559 551\n",
      ">>> 560 551\n",
      ">>> 561 561\n",
      ">>> 562 561\n",
      ">>> 563 561\n",
      ">>> 564 561\n",
      ">>> 565 561\n",
      ">>> 566 561\n",
      ">>> 567 561\n",
      ">>> 568 561\n"
     ]
    },
    {
     "name": "stderr",
     "output_type": "stream",
     "text": [
      "gid=x Start paren present but name is not a new concept\n"
     ]
    },
    {
     "name": "stdout",
     "output_type": "stream",
     "text": [
      ">>> 569 561\n",
      ">>> 570 561\n",
      ">>> 571 571\n"
     ]
    },
    {
     "name": "stderr",
     "output_type": "stream",
     "text": [
      "gid=x Missing starting paren for node n/number\n"
     ]
    },
    {
     "name": "stdout",
     "output_type": "stream",
     "text": [
      ">>> 572 571\n",
      ">>> 573 571\n",
      ">>> 574 571\n",
      ">>> 575 571\n"
     ]
    },
    {
     "name": "stderr",
     "output_type": "stream",
     "text": [
      "gid=x Start paren present but name is not a new concept\n"
     ]
    },
    {
     "name": "stdout",
     "output_type": "stream",
     "text": [
      ">>> 576 571\n"
     ]
    },
    {
     "name": "stderr",
     "output_type": "stream",
     "text": [
      "gid=x Start paren present but have-quant-91 is not a new concept\n"
     ]
    },
    {
     "name": "stdout",
     "output_type": "stream",
     "text": [
      ">>> 577 571\n",
      ">>> 578 571\n",
      ">>> 579 571\n",
      ">>> 580 571\n",
      ">>> 581 581\n",
      ">>> 582 581\n",
      ">>> 583 581\n",
      ">>> 584 581\n",
      ">>> 585 581\n",
      ">>> 586 581\n",
      ">>> 587 581\n",
      ">>> 588 581\n",
      ">>> 589 581\n",
      ">>> 590 581\n",
      ">>> 591 591\n",
      ">>> 592 591\n",
      ">>> 593 591\n",
      ">>> 594 591\n",
      ">>> 595 591\n",
      ">>> 596 591\n",
      ">>> 597 591\n",
      ">>> 598 591\n",
      ">>> 599 591\n",
      ">>> 600 591\n",
      ">>> 601 601\n",
      ">>> 602 601\n",
      ">>> 603 601\n",
      ">>> 604 601\n",
      ">>> 605 601\n",
      ">>> 606 601\n",
      ">>> 607 601\n",
      ">>> 608 601\n",
      ">>> 609 601\n",
      ">>> 610 601\n",
      ">>> 611 611\n",
      ">>> 612 611\n",
      ">>> 613 611\n",
      ">>> 614 611\n",
      ">>> 615 611\n",
      ">>> 616 611\n",
      ">>> 617 611\n",
      ">>> 618 611\n",
      ">>> 619 611\n",
      ">>> 620 611\n",
      ">>> 621 621\n",
      ">>> 622 621\n",
      ">>> 623 621\n",
      ">>> 624 621\n",
      ">>> 625 621\n",
      ">>> 626 621\n",
      ">>> 627 621\n",
      ">>> 628 621\n",
      ">>> 629 621\n",
      ">>> 630 621\n",
      ">>> 631 631\n",
      ">>> 632 631\n",
      ">>> 633 631\n",
      ">>> 634 631\n",
      ">>> 635 631\n",
      ">>> 636 631\n",
      ">>> 637 631\n",
      ">>> 638 631\n",
      ">>> 639 631\n",
      ">>> 640 631\n",
      ">>> 641 641\n",
      ">>> 642 641\n",
      ">>> 643 641\n",
      ">>> 644 641\n",
      ">>> 645 641\n",
      ">>> 646 641\n",
      ">>> 647 641\n",
      ">>> 648 641\n",
      ">>> 649 641\n",
      ">>> 650 641\n",
      ">>> 651 651\n"
     ]
    },
    {
     "name": "stderr",
     "output_type": "stream",
     "text": [
      "gid=x Start paren present but have-03 is not a new concept\n",
      "ignoring epigraph data for duplicate triple: ('h', ':ARG0', 'o')\n"
     ]
    },
    {
     "name": "stdout",
     "output_type": "stream",
     "text": [
      ">>> 652 651\n",
      ">>> 653 651\n",
      ">>> 654 651\n"
     ]
    },
    {
     "name": "stderr",
     "output_type": "stream",
     "text": [
      "gid=x Start paren present but name is not a new concept\n",
      "gid=x Start paren present but name is not a new concept\n"
     ]
    },
    {
     "name": "stdout",
     "output_type": "stream",
     "text": [
      ">>> 655 651\n",
      ">>> 656 651\n",
      ">>> 657 651\n"
     ]
    },
    {
     "name": "stderr",
     "output_type": "stream",
     "text": [
      "gid=x Start paren present but name is not a new concept\n"
     ]
    },
    {
     "name": "stdout",
     "output_type": "stream",
     "text": [
      ">>> 658 651\n",
      ">>> 659 651\n",
      ">>> 660 651\n",
      ">>> 661 661\n",
      ">>> 662 661\n",
      ">>> 663 661\n",
      ">>> 664 661\n",
      ">>> 665 661\n",
      ">>> 666 661\n",
      ">>> 667 661\n",
      ">>> 668 661\n",
      ">>> 669 661\n",
      ">>> 670 661\n",
      ">>> 671 671\n",
      ">>> 672 671\n",
      ">>> 673 671\n",
      ">>> 674 671\n",
      ">>> 675 671\n",
      ">>> 676 671\n",
      ">>> 677 671\n",
      ">>> 678 671\n",
      ">>> 679 671\n",
      ">>> 680 671\n",
      ">>> 681 681\n",
      ">>> 682 681\n",
      ">>> 683 681\n",
      ">>> 684 681\n",
      ">>> 685 681\n",
      ">>> 686 681\n",
      ">>> 687 681\n",
      ">>> 688 681\n",
      ">>> 689 681\n"
     ]
    },
    {
     "name": "stderr",
     "output_type": "stream",
     "text": [
      "gid=x Start paren present but name is not a new concept\n"
     ]
    },
    {
     "name": "stdout",
     "output_type": "stream",
     "text": [
      ">>> 690 681\n",
      ">>> 691 691\n",
      ">>> 692 691\n",
      ">>> 693 691\n",
      ">>> 694 691\n",
      ">>> 695 691\n",
      ">>> 696 691\n",
      ">>> 697 691\n",
      ">>> 698 691\n",
      ">>> 699 691\n"
     ]
    },
    {
     "name": "stderr",
     "output_type": "stream",
     "text": [
      "gid=x Start paren present but name is not a new concept\n",
      "gid=x Start paren present but more is not a new concept\n"
     ]
    },
    {
     "name": "stdout",
     "output_type": "stream",
     "text": [
      ">>> 700 691\n",
      ">>> 701 701\n",
      ">>> 702 701\n",
      ">>> 703 701\n",
      ">>> 704 701\n",
      ">>> 705 701\n"
     ]
    },
    {
     "name": "stderr",
     "output_type": "stream",
     "text": [
      "gid=x Start paren present but vitamin is not a new concept\n",
      "gid=x Start paren present but vitamin is not a new concept\n",
      "gid=x Start paren present but vitamin is not a new concept\n",
      "gid=x Start paren present but vitamin is not a new concept\n",
      "gid=x Start paren present but vitamin is not a new concept\n",
      "gid=x Start paren present but vitamin is not a new concept\n",
      "ignoring epigraph data for duplicate triple: ('v', ':mod', 'v')\n",
      "ignoring epigraph data for duplicate triple: ('v', ':mod', 'v')\n",
      "ignoring epigraph data for duplicate triple: ('v', ':mod', 'v')\n",
      "ignoring epigraph data for duplicate triple: ('v', ':mod', 'v')\n",
      "ignoring epigraph data for duplicate triple: ('v', ':mod', 'v')\n"
     ]
    },
    {
     "name": "stdout",
     "output_type": "stream",
     "text": [
      ">>> 706 701\n",
      ">>> 707 701\n",
      ">>> 708 701\n"
     ]
    },
    {
     "name": "stderr",
     "output_type": "stream",
     "text": [
      "gid=x Start paren present but more is not a new concept\n"
     ]
    },
    {
     "name": "stdout",
     "output_type": "stream",
     "text": [
      ">>> 709 701\n",
      ">>> 710 701\n"
     ]
    },
    {
     "name": "stderr",
     "output_type": "stream",
     "text": [
      "gid=x Start paren present but more is not a new concept\n"
     ]
    },
    {
     "name": "stdout",
     "output_type": "stream",
     "text": [
      ">>> 711 711\n",
      ">>> 712 711\n",
      ">>> 713 711\n",
      ">>> 714 711\n"
     ]
    },
    {
     "name": "stderr",
     "output_type": "stream",
     "text": [
      "gid=x Start paren present but name is not a new concept\n",
      "gid=x Start paren present but more is not a new concept\n"
     ]
    },
    {
     "name": "stdout",
     "output_type": "stream",
     "text": [
      ">>> 715 711\n"
     ]
    },
    {
     "name": "stderr",
     "output_type": "stream",
     "text": [
      "gid=x Start paren present but name is not a new concept\n"
     ]
    },
    {
     "name": "stdout",
     "output_type": "stream",
     "text": [
      ">>> 716 711\n",
      ">>> 717 711\n"
     ]
    },
    {
     "name": "stderr",
     "output_type": "stream",
     "text": [
      "gid=x Start paren present but it is not a new concept\n",
      "gid=x Start paren present but company is not a new concept\n",
      "gid=x Start paren present but name is not a new concept\n",
      "gid=x Start paren present but vitamin is not a new concept\n"
     ]
    },
    {
     "name": "stdout",
     "output_type": "stream",
     "text": [
      ">>> 718 711\n",
      ">>> 719 711\n"
     ]
    },
    {
     "name": "stderr",
     "output_type": "stream",
     "text": [
      "gid=x Start paren present but name is not a new concept\n"
     ]
    },
    {
     "name": "stdout",
     "output_type": "stream",
     "text": [
      ">>> 720 711\n",
      ">>> 721 721\n",
      ">>> 722 721\n",
      ">>> 723 721\n",
      ">>> 724 721\n",
      ">>> 725 721\n",
      ">>> 726 721\n",
      ">>> 727 721\n",
      ">>> 728 721\n",
      ">>> 729 721\n"
     ]
    },
    {
     "name": "stderr",
     "output_type": "stream",
     "text": [
      "gid=x Start paren present but name is not a new concept\n"
     ]
    },
    {
     "name": "stdout",
     "output_type": "stream",
     "text": [
      ">>> 730 721\n",
      ">>> 731 731\n",
      ">>> 732 731\n",
      ">>> 733 731\n"
     ]
    },
    {
     "name": "stderr",
     "output_type": "stream",
     "text": [
      "gid=x Start paren present but name is not a new concept\n"
     ]
    },
    {
     "name": "stdout",
     "output_type": "stream",
     "text": [
      ">>> 734 731\n",
      ">>> 735 731\n"
     ]
    },
    {
     "name": "stderr",
     "output_type": "stream",
     "text": [
      "gid=x Start paren present but name is not a new concept\n"
     ]
    },
    {
     "name": "stdout",
     "output_type": "stream",
     "text": [
      ">>> 736 731\n",
      ">>> 737 731\n",
      ">>> 738 731\n",
      ">>> 739 731\n",
      ">>> 740 731\n",
      ">>> 741 741\n",
      ">>> 742 741\n",
      ">>> 743 741\n"
     ]
    },
    {
     "name": "stderr",
     "output_type": "stream",
     "text": [
      "gid=x Start paren present but name is not a new concept\n"
     ]
    },
    {
     "name": "stdout",
     "output_type": "stream",
     "text": [
      ">>> 744 741\n",
      ">>> 745 741\n",
      ">>> 746 741\n",
      ">>> 747 741\n",
      ">>> 748 741\n"
     ]
    },
    {
     "name": "stderr",
     "output_type": "stream",
     "text": [
      "gid=x Start paren present but name is not a new concept\n"
     ]
    },
    {
     "name": "stdout",
     "output_type": "stream",
     "text": [
      ">>> 749 741\n",
      ">>> 750 741\n",
      ">>> 751 751\n"
     ]
    },
    {
     "name": "stderr",
     "output_type": "stream",
     "text": [
      "gid=x Start paren present but name is not a new concept\n"
     ]
    },
    {
     "name": "stdout",
     "output_type": "stream",
     "text": [
      ">>> 752 751\n",
      ">>> 753 751\n",
      ">>> 754 751\n",
      ">>> 755 751\n",
      ">>> 756 751\n",
      ">>> 757 751\n",
      ">>> 758 751\n",
      ">>> 759 751\n",
      ">>> 760 751\n",
      ">>> 761 761\n",
      ">>> 762 761\n",
      ">>> 763 761\n",
      ">>> 764 761\n",
      ">>> 765 761\n",
      ">>> 766 761\n",
      ">>> 767 761\n",
      ">>> 768 761\n",
      ">>> 769 761\n",
      ">>> 770 761\n",
      ">>> 771 771\n",
      ">>> 772 771\n",
      ">>> 773 771\n",
      ">>> 774 771\n",
      ">>> 775 771\n",
      ">>> 776 771\n",
      ">>> 777 771\n",
      ">>> 778 771\n",
      ">>> 779 771\n",
      ">>> 780 771\n",
      ">>> 781 781\n",
      ">>> 782 781\n",
      ">>> 783 781\n",
      ">>> 784 781\n",
      ">>> 785 781\n",
      ">>> 786 781\n",
      ">>> 787 781\n",
      ">>> 788 781\n",
      ">>> 789 781\n",
      ">>> 790 781\n",
      ">>> 791 791\n",
      ">>> 792 791\n"
     ]
    },
    {
     "name": "stderr",
     "output_type": "stream",
     "text": [
      "gid=x Missing starting paren for node h6/hole\n"
     ]
    },
    {
     "name": "stdout",
     "output_type": "stream",
     "text": [
      ">>> 793 791\n",
      ">>> 794 791\n",
      ">>> 795 791\n",
      ">>> 796 791\n",
      ">>> 797 791\n",
      ">>> 798 791\n",
      ">>> 799 791\n",
      ">>> 800 791\n",
      ">>> 801 801\n",
      ">>> 802 801\n",
      ">>> 803 801\n",
      ">>> 804 801\n",
      ">>> 805 801\n",
      ">>> 806 801\n",
      ">>> 807 801\n",
      ">>> 808 801\n",
      ">>> 809 801\n",
      ">>> 810 801\n",
      ">>> 811 811\n",
      ">>> 812 811\n",
      ">>> 813 811\n",
      ">>> 814 811\n",
      ">>> 815 811\n",
      ">>> 816 811\n",
      ">>> 817 811\n",
      ">>> 818 811\n",
      ">>> 819 811\n",
      ">>> 820 811\n"
     ]
    },
    {
     "name": "stderr",
     "output_type": "stream",
     "text": [
      "gid=x Start paren present but name is not a new concept\n"
     ]
    },
    {
     "name": "stdout",
     "output_type": "stream",
     "text": [
      ">>> 821 821\n",
      ">>> 822 821\n"
     ]
    },
    {
     "name": "stderr",
     "output_type": "stream",
     "text": [
      "gid=x Missing starting paren for node p2/polka-dot\n"
     ]
    },
    {
     "name": "stdout",
     "output_type": "stream",
     "text": [
      ">>> 823 821\n",
      ">>> 824 821\n"
     ]
    },
    {
     "name": "stderr",
     "output_type": "stream",
     "text": [
      "gid=x Start paren present but one is not a new concept\n",
      "gid=x Start paren present but one is not a new concept\n"
     ]
    },
    {
     "name": "stdout",
     "output_type": "stream",
     "text": [
      ">>> 825 821\n",
      ">>> 826 821\n",
      ">>> 827 821\n",
      ">>> 828 821\n",
      ">>> 829 821\n",
      ">>> 830 821\n",
      ">>> 831 831\n",
      ">>> 832 831\n",
      ">>> 833 831\n",
      ">>> 834 831\n",
      ">>> 835 831\n",
      ">>> 836 831\n",
      ">>> 837 831\n",
      ">>> 838 831\n",
      ">>> 839 831\n",
      ">>> 840 831\n",
      ">>> 841 841\n",
      ">>> 842 841\n",
      ">>> 843 841\n",
      ">>> 844 841\n",
      ">>> 845 841\n",
      ">>> 846 841\n",
      ">>> 847 841\n",
      ">>> 848 841\n",
      ">>> 849 841\n",
      ">>> 850 841\n",
      ">>> 851 851\n",
      ">>> 852 851\n",
      ">>> 853 851\n",
      ">>> 854 851\n",
      ">>> 855 851\n",
      ">>> 856 851\n",
      ">>> 857 851\n",
      ">>> 858 851\n",
      ">>> 859 851\n",
      ">>> 860 851\n",
      ">>> 861 861\n",
      ">>> 862 861\n",
      ">>> 863 861\n",
      ">>> 864 861\n",
      ">>> 865 861\n",
      ">>> 866 861\n",
      ">>> 867 861\n",
      ">>> 868 861\n",
      ">>> 869 861\n",
      ">>> 870 861\n",
      ">>> 871 871\n",
      ">>> 872 871\n",
      ">>> 873 871\n",
      ">>> 874 871\n",
      ">>> 875 871\n",
      ">>> 876 871\n",
      ">>> 877 871\n",
      ">>> 878 871\n",
      ">>> 879 871\n",
      ">>> 880 871\n",
      ">>> 881 881\n",
      ">>> 882 881\n",
      ">>> 883 881\n",
      ">>> 884 881\n",
      ">>> 885 881\n",
      ">>> 886 881\n",
      ">>> 887 881\n",
      ">>> 888 881\n",
      ">>> 889 881\n",
      ">>> 890 881\n",
      ">>> 891 891\n",
      ">>> 892 891\n",
      ">>> 893 891\n",
      ">>> 894 891\n",
      ">>> 895 891\n",
      ">>> 896 891\n",
      ">>> 897 891\n",
      ">>> 898 891\n",
      ">>> 899 891\n",
      ">>> 900 891\n",
      ">>> 901 901\n",
      ">>> 902 901\n",
      ">>> 903 901\n",
      ">>> 904 901\n",
      ">>> 905 901\n",
      ">>> 906 901\n",
      ">>> 907 901\n",
      ">>> 908 901\n",
      ">>> 909 901\n",
      ">>> 910 901\n",
      ">>> 911 911\n",
      ">>> 912 911\n",
      ">>> 913 911\n",
      ">>> 914 911\n",
      ">>> 915 911\n",
      ">>> 916 911\n",
      ">>> 917 911\n",
      ">>> 918 911\n",
      ">>> 919 911\n",
      ">>> 920 911\n",
      ">>> 921 921\n",
      ">>> 922 921\n",
      ">>> 923 921\n",
      ">>> 924 921\n",
      ">>> 925 921\n",
      ">>> 926 921\n",
      ">>> 927 921\n",
      ">>> 928 921\n",
      ">>> 929 921\n",
      ">>> 930 921\n",
      ">>> 931 931\n",
      ">>> 932 931\n",
      ">>> 933 931\n",
      ">>> 934 931\n",
      ">>> 935 931\n",
      ">>> 936 931\n",
      ">>> 937 931\n",
      ">>> 938 931\n",
      ">>> 939 931\n",
      ">>> 940 931\n",
      ">>> 941 941\n",
      ">>> 942 941\n",
      ">>> 943 941\n",
      ">>> 944 941\n",
      ">>> 945 941\n",
      ">>> 946 941\n",
      ">>> 947 941\n",
      ">>> 948 941\n",
      ">>> 949 941\n",
      ">>> 950 941\n",
      ">>> 951 951\n",
      ">>> 952 951\n",
      ">>> 953 951\n",
      ">>> 954 951\n",
      ">>> 955 951\n",
      ">>> 956 951\n",
      ">>> 957 951\n",
      ">>> 958 951\n",
      ">>> 959 951\n",
      ">>> 960 951\n",
      ">>> 961 961\n",
      ">>> 962 961\n",
      ">>> 963 961\n",
      ">>> 964 961\n",
      ">>> 965 961\n",
      ">>> 966 961\n",
      ">>> 967 961\n",
      ">>> 968 961\n",
      ">>> 969 961\n",
      ">>> 970 961\n",
      ">>> 971 971\n",
      ">>> 972 971\n",
      ">>> 973 971\n",
      ">>> 974 971\n",
      ">>> 975 971\n"
     ]
    },
    {
     "name": "stderr",
     "output_type": "stream",
     "text": [
      "gid=x Start paren present but other is not a new concept\n"
     ]
    },
    {
     "name": "stdout",
     "output_type": "stream",
     "text": [
      ">>> 976 971\n",
      ">>> 977 971\n",
      ">>> 978 971\n",
      ">>> 979 971\n",
      ">>> 980 971\n",
      ">>> 981 981\n",
      ">>> 982 981\n",
      ">>> 983 981\n",
      ">>> 984 981\n",
      ">>> 985 981\n",
      ">>> 986 981\n",
      ">>> 987 981\n",
      ">>> 988 981\n",
      ">>> 989 981\n",
      ">>> 990 981\n",
      ">>> 991 991\n",
      ">>> 992 991\n"
     ]
    },
    {
     "name": "stderr",
     "output_type": "stream",
     "text": [
      "gid=x Start paren present but location is not a new concept\n",
      "gid=x Start paren present but have-degree-91 is not a new concept\n",
      "gid=x Start paren present but more is not a new concept\n"
     ]
    },
    {
     "name": "stdout",
     "output_type": "stream",
     "text": [
      ">>> 993 991\n",
      ">>> 994 991\n",
      ">>> 995 991\n",
      ">>> 996 991\n",
      ">>> 997 991\n",
      ">>> 998 991\n",
      ">>> 999 991\n",
      ">>> 1000 991\n",
      ">>> 1001 1001\n",
      ">>> 1002 1001\n",
      ">>> 1003 1001\n",
      ">>> 1004 1001\n",
      ">>> 1005 1001\n",
      ">>> 1006 1001\n",
      ">>> 1007 1001\n",
      ">>> 1008 1001\n",
      ">>> 1009 1001\n",
      ">>> 1010 1001\n",
      ">>> 1011 1011\n"
     ]
    },
    {
     "name": "stderr",
     "output_type": "stream",
     "text": [
      "gid=x Start paren present but form-01 is not a new concept\n"
     ]
    },
    {
     "name": "stdout",
     "output_type": "stream",
     "text": [
      ">>> 1012 1011\n",
      ">>> 1013 1011\n",
      ">>> 1014 1011\n",
      ">>> 1015 1011\n",
      ">>> 1016 1011\n",
      ">>> 1017 1011\n",
      ">>> 1018 1011\n",
      ">>> 1019 1011\n",
      ">>> 1020 1011\n",
      ">>> 1021 1021\n",
      ">>> 1022 1021\n",
      ">>> 1023 1021\n",
      ">>> 1024 1021\n",
      ">>> 1025 1021\n",
      ">>> 1026 1021\n",
      ">>> 1027 1021\n",
      ">>> 1028 1021\n",
      ">>> 1029 1021\n",
      ">>> 1030 1021\n"
     ]
    },
    {
     "name": "stderr",
     "output_type": "stream",
     "text": [
      "gid=x Missing starting paren for node d4/delta\n"
     ]
    },
    {
     "name": "stdout",
     "output_type": "stream",
     "text": [
      ">>> 1031 1031\n",
      ">>> 1032 1031\n",
      ">>> 1033 1031\n",
      ">>> 1034 1031\n",
      ">>> 1035 1031\n",
      ">>> 1036 1031\n",
      ">>> 1037 1031\n",
      ">>> 1038 1031\n",
      ">>> 1039 1031\n",
      ">>> 1040 1031\n",
      ">>> 1041 1041\n",
      ">>> 1042 1041\n",
      ">>> 1043 1041\n",
      ">>> 1044 1041\n",
      ">>> 1045 1041\n",
      ">>> 1046 1041\n",
      ">>> 1047 1041\n",
      ">>> 1048 1041\n",
      ">>> 1049 1041\n"
     ]
    },
    {
     "name": "stderr",
     "output_type": "stream",
     "text": [
      "gid=x Start paren present but have-degree-91 is not a new concept\n"
     ]
    },
    {
     "name": "stdout",
     "output_type": "stream",
     "text": [
      ">>> 1050 1041\n",
      ">>> 1051 1051\n",
      ">>> 1052 1051\n",
      ">>> 1053 1051\n",
      ">>> 1054 1051\n",
      ">>> 1055 1051\n",
      ">>> 1056 1051\n"
     ]
    },
    {
     "name": "stderr",
     "output_type": "stream",
     "text": [
      "gid=x Start paren present but have-degree-91 is not a new concept\n"
     ]
    },
    {
     "name": "stdout",
     "output_type": "stream",
     "text": [
      ">>> 1057 1051\n"
     ]
    },
    {
     "name": "stderr",
     "output_type": "stream",
     "text": [
      "gid=x Start paren present but have-degree-91 is not a new concept\n",
      "gid=x Start paren present but more is not a new concept\n"
     ]
    },
    {
     "name": "stdout",
     "output_type": "stream",
     "text": [
      ">>> 1058 1051\n",
      ">>> 1059 1051\n",
      ">>> 1060 1051\n",
      ">>> 1061 1061\n",
      ">>> 1062 1061\n",
      ">>> 1063 1061\n",
      ">>> 1064 1061\n",
      ">>> 1065 1061\n",
      ">>> 1066 1061\n",
      ">>> 1067 1061\n",
      ">>> 1068 1061\n",
      ">>> 1069 1061\n",
      ">>> 1070 1061\n",
      ">>> 1071 1071\n",
      ">>> 1072 1071\n",
      ">>> 1073 1071\n",
      ">>> 1074 1071\n",
      ">>> 1075 1071\n",
      ">>> 1076 1071\n",
      ">>> 1077 1071\n",
      ">>> 1078 1071\n",
      ">>> 1079 1071\n",
      ">>> 1080 1071\n",
      ">>> 1081 1081\n",
      ">>> 1082 1081\n",
      ">>> 1083 1081\n",
      ">>> 1084 1081\n",
      ">>> 1085 1081\n",
      ">>> 1086 1081\n",
      ">>> 1087 1081\n",
      ">>> 1088 1081\n",
      ">>> 1089 1081\n",
      ">>> 1090 1081\n",
      ">>> 1091 1091\n",
      ">>> 1092 1091\n",
      ">>> 1093 1091\n",
      ">>> 1094 1091\n",
      ">>> 1095 1091\n",
      ">>> 1096 1091\n",
      ">>> 1097 1091\n",
      ">>> 1098 1091\n"
     ]
    },
    {
     "name": "stderr",
     "output_type": "stream",
     "text": [
      "gid=x Missing starting paren for node r2/river\n"
     ]
    },
    {
     "name": "stdout",
     "output_type": "stream",
     "text": [
      ">>> 1099 1091\n",
      ">>> 1100 1091\n",
      ">>> 1101 1101\n",
      ">>> 1102 1101\n",
      ">>> 1103 1101\n",
      ">>> 1104 1101\n",
      ">>> 1105 1101\n",
      ">>> 1106 1101\n",
      ">>> 1107 1101\n",
      ">>> 1108 1101\n",
      ">>> 1109 1101\n"
     ]
    },
    {
     "name": "stderr",
     "output_type": "stream",
     "text": [
      "gid=x Start paren present but more is not a new concept\n"
     ]
    },
    {
     "name": "stdout",
     "output_type": "stream",
     "text": [
      ">>> 1110 1101\n",
      ">>> 1111 1111\n",
      ">>> 1112 1111\n",
      ">>> 1113 1111\n",
      ">>> 1114 1111\n",
      ">>> 1115 1111\n",
      ">>> 1116 1111\n",
      ">>> 1117 1111\n",
      ">>> 1118 1111\n",
      ">>> 1119 1111\n",
      ">>> 1120 1111\n",
      ">>> 1121 1121\n",
      ">>> 1122 1121\n",
      ">>> 1123 1121\n",
      ">>> 1124 1121\n",
      ">>> 1125 1121\n",
      ">>> 1126 1121\n",
      ">>> 1127 1121\n",
      ">>> 1128 1121\n",
      ">>> 1129 1121\n"
     ]
    },
    {
     "name": "stderr",
     "output_type": "stream",
     "text": [
      "gid=x Start paren present but more is not a new concept\n"
     ]
    },
    {
     "name": "stdout",
     "output_type": "stream",
     "text": [
      ">>> 1130 1121\n"
     ]
    },
    {
     "name": "stderr",
     "output_type": "stream",
     "text": [
      "gid=x Start paren present but quick-02 is not a new concept\n"
     ]
    },
    {
     "name": "stdout",
     "output_type": "stream",
     "text": [
      ">>> 1131 1131\n",
      ">>> 1132 1131\n",
      ">>> 1133 1131\n",
      ">>> 1134 1131\n",
      ">>> 1135 1131\n",
      ">>> 1136 1131\n",
      ">>> 1137 1131\n",
      ">>> 1138 1131\n",
      ">>> 1139 1131\n",
      ">>> 1140 1131\n"
     ]
    },
    {
     "name": "stderr",
     "output_type": "stream",
     "text": [
      "gid=x Missing starting paren for node w2/water\n"
     ]
    },
    {
     "name": "stdout",
     "output_type": "stream",
     "text": [
      ">>> 1141 1141\n",
      ">>> 1142 1141\n"
     ]
    },
    {
     "name": "stderr",
     "output_type": "stream",
     "text": [
      "gid=x Start paren present but more is not a new concept\n"
     ]
    },
    {
     "name": "stdout",
     "output_type": "stream",
     "text": [
      ">>> 1143 1141\n",
      ">>> 1144 1141\n",
      ">>> 1145 1141\n",
      ">>> 1146 1141\n",
      ">>> 1147 1141\n",
      ">>> 1148 1141\n",
      ">>> 1149 1141\n",
      ">>> 1150 1141\n",
      ">>> 1151 1151\n",
      ">>> 1152 1151\n",
      ">>> 1153 1151\n",
      ">>> 1154 1151\n",
      ">>> 1155 1151\n",
      ">>> 1156 1151\n"
     ]
    },
    {
     "name": "stderr",
     "output_type": "stream",
     "text": [
      "gid=x Start paren present but and is not a new concept\n"
     ]
    },
    {
     "name": "stdout",
     "output_type": "stream",
     "text": [
      ">>> 1157 1151\n",
      ">>> 1158 1151\n",
      ">>> 1159 1151\n",
      ">>> 1160 1151\n",
      ">>> 1161 1161\n",
      ">>> 1162 1161\n",
      ">>> 1163 1161\n",
      ">>> 1164 1161\n",
      ">>> 1165 1161\n",
      ">>> 1166 1161\n",
      ">>> 1167 1161\n",
      ">>> 1168 1161\n",
      ">>> 1169 1161\n",
      ">>> 1170 1161\n",
      ">>> 1171 1171\n",
      ">>> 1172 1171\n",
      ">>> 1173 1171\n",
      ">>> 1174 1171\n",
      ">>> 1175 1171\n",
      ">>> 1176 1171\n",
      ">>> 1177 1171\n",
      ">>> 1178 1171\n",
      ">>> 1179 1171\n",
      ">>> 1180 1171\n"
     ]
    },
    {
     "name": "stderr",
     "output_type": "stream",
     "text": [
      "gid=x Start paren present but more is not a new concept\n"
     ]
    },
    {
     "name": "stdout",
     "output_type": "stream",
     "text": [
      ">>> 1181 1181\n",
      ">>> 1182 1181\n",
      ">>> 1183 1181\n",
      ">>> 1184 1181\n"
     ]
    },
    {
     "name": "stderr",
     "output_type": "stream",
     "text": [
      "gid=x Start paren present but more is not a new concept\n"
     ]
    },
    {
     "name": "stdout",
     "output_type": "stream",
     "text": [
      ">>> 1185 1181\n",
      ">>> 1186 1181\n",
      ">>> 1187 1181\n",
      ">>> 1188 1181\n",
      ">>> 1189 1181\n",
      ">>> 1190 1181\n",
      ">>> 1191 1191\n",
      ">>> 1192 1191\n",
      ">>> 1193 1191\n",
      ">>> 1194 1191\n",
      ">>> 1195 1191\n",
      ">>> 1196 1191\n",
      ">>> 1197 1191\n",
      ">>> 1198 1191\n",
      ">>> 1199 1191\n",
      ">>> 1200 1191\n"
     ]
    },
    {
     "name": "stderr",
     "output_type": "stream",
     "text": [
      "gid=x Start paren present but name is not a new concept\n"
     ]
    },
    {
     "name": "stdout",
     "output_type": "stream",
     "text": [
      ">>> 1201 1201\n",
      ">>> 1202 1201\n",
      ">>> 1203 1201\n",
      ">>> 1204 1201\n",
      ">>> 1205 1201\n",
      ">>> 1206 1201\n",
      ">>> 1207 1201\n",
      ">>> 1208 1201\n",
      ">>> 1209 1201\n",
      ">>> 1210 1201\n",
      ">>> 1211 1211\n",
      ">>> 1212 1211\n",
      ">>> 1213 1211\n",
      ">>> 1214 1211\n",
      ">>> 1215 1211\n",
      ">>> 1216 1211\n",
      ">>> 1217 1211\n",
      ">>> 1218 1211\n"
     ]
    },
    {
     "name": "stderr",
     "output_type": "stream",
     "text": [
      "gid=x Start paren present but be-located-at-91 is not a new concept\n"
     ]
    },
    {
     "name": "stdout",
     "output_type": "stream",
     "text": [
      ">>> 1219 1211\n",
      ">>> 1220 1211\n",
      ">>> 1221 1221\n",
      ">>> 1222 1221\n",
      ">>> 1223 1221\n",
      ">>> 1224 1221\n"
     ]
    },
    {
     "name": "stderr",
     "output_type": "stream",
     "text": [
      "gid=x Start paren present but have-degree-91 is not a new concept\n"
     ]
    },
    {
     "name": "stdout",
     "output_type": "stream",
     "text": [
      ">>> 1225 1221\n",
      ">>> 1226 1221\n",
      ">>> 1227 1221\n",
      ">>> 1228 1221\n",
      ">>> 1229 1221\n",
      ">>> 1230 1221\n",
      ">>> 1231 1231\n",
      ">>> 1232 1231\n",
      ">>> 1233 1231\n",
      ">>> 1234 1231\n",
      ">>> 1235 1231\n"
     ]
    },
    {
     "name": "stderr",
     "output_type": "stream",
     "text": [
      "gid=x Start paren present but string-entity is not a new concept\n"
     ]
    },
    {
     "name": "stdout",
     "output_type": "stream",
     "text": [
      ">>> 1236 1231\n",
      ">>> 1237 1231\n",
      ">>> 1238 1231\n",
      ">>> 1239 1231\n",
      ">>> 1240 1231\n",
      ">>> 1241 1241\n",
      ">>> 1242 1241\n",
      ">>> 1243 1241\n",
      ">>> 1244 1241\n"
     ]
    },
    {
     "name": "stderr",
     "output_type": "stream",
     "text": [
      "gid=x Start paren present but have-degree-91 is not a new concept\n"
     ]
    },
    {
     "name": "stdout",
     "output_type": "stream",
     "text": [
      ">>> 1245 1241\n",
      ">>> 1246 1241\n",
      ">>> 1247 1241\n",
      ">>> 1248 1241\n",
      ">>> 1249 1241\n"
     ]
    },
    {
     "name": "stderr",
     "output_type": "stream",
     "text": [
      "gid=x Start paren present but have-degree-91 is not a new concept\n",
      "ignoring epigraph data for duplicate triple: ('c2', ':ARG1', 'l')\n"
     ]
    },
    {
     "name": "stdout",
     "output_type": "stream",
     "text": [
      ">>> 1250 1241\n",
      ">>> 1251 1251\n",
      ">>> 1252 1251\n",
      ">>> 1253 1251\n",
      ">>> 1254 1251\n",
      ">>> 1255 1251\n",
      ">>> 1256 1251\n",
      ">>> 1257 1251\n",
      ">>> 1258 1251\n",
      ">>> 1259 1251\n",
      ">>> 1260 1251\n",
      ">>> 1261 1261\n",
      ">>> 1262 1261\n",
      ">>> 1263 1261\n",
      ">>> 1264 1261\n",
      ">>> 1265 1261\n",
      ">>> 1266 1261\n",
      ">>> 1267 1261\n",
      ">>> 1268 1261\n",
      ">>> 1269 1261\n",
      ">>> 1270 1261\n",
      ">>> 1271 1271\n",
      ">>> 1272 1271\n",
      ">>> 1273 1271\n",
      ">>> 1274 1271\n",
      ">>> 1275 1271\n",
      ">>> 1276 1271\n",
      ">>> 1277 1271\n",
      ">>> 1278 1271\n",
      ">>> 1279 1271\n",
      ">>> 1280 1271\n",
      ">>> 1281 1281\n",
      ">>> 1282 1281\n",
      ">>> 1283 1281\n",
      ">>> 1284 1281\n",
      ">>> 1285 1281\n",
      ">>> 1286 1281\n",
      ">>> 1287 1281\n",
      ">>> 1288 1281\n",
      ">>> 1289 1281\n",
      ">>> 1290 1281\n",
      ">>> 1291 1291\n",
      ">>> 1292 1291\n",
      ">>> 1293 1291\n",
      ">>> 1294 1291\n",
      ">>> 1295 1291\n",
      ">>> 1296 1291\n",
      ">>> 1297 1291\n",
      ">>> 1298 1291\n",
      ">>> 1299 1291\n",
      ">>> 1300 1291\n",
      ">>> 1301 1301\n"
     ]
    },
    {
     "name": "stderr",
     "output_type": "stream",
     "text": [
      "gid=x Missing starting paren for node c2/C\n"
     ]
    },
    {
     "name": "stdout",
     "output_type": "stream",
     "text": [
      ">>> 1302 1301\n",
      ">>> 1303 1301\n",
      ">>> 1304 1301\n",
      ">>> 1305 1301\n",
      ">>> 1306 1301\n",
      ">>> 1307 1301\n",
      ">>> 1308 1301\n",
      ">>> 1309 1301\n",
      ">>> 1310 1301\n"
     ]
    },
    {
     "name": "stderr",
     "output_type": "stream",
     "text": [
      "gid=x Start paren present but look-01 is not a new concept\n"
     ]
    },
    {
     "name": "stdout",
     "output_type": "stream",
     "text": [
      ">>> 1311 1311\n",
      ">>> 1312 1311\n",
      ">>> 1313 1311\n",
      ">>> 1314 1311\n",
      ">>> 1315 1311\n",
      ">>> 1316 1311\n",
      ">>> 1317 1311\n",
      ">>> 1318 1311\n",
      ">>> 1319 1311\n",
      ">>> 1320 1311\n",
      ">>> 1321 1321\n"
     ]
    },
    {
     "name": "stderr",
     "output_type": "stream",
     "text": [
      "gid=x Start paren present but distance-quantity is not a new concept\n"
     ]
    },
    {
     "name": "stdout",
     "output_type": "stream",
     "text": [
      ">>> 1322 1321\n",
      ">>> 1323 1321\n",
      ">>> 1324 1321\n",
      ">>> 1325 1321\n",
      ">>> 1326 1321\n",
      ">>> 1327 1321\n",
      ">>> 1328 1321\n",
      ">>> 1329 1321\n",
      ">>> 1330 1321\n",
      ">>> 1331 1331\n",
      ">>> 1332 1331\n",
      ">>> 1333 1331\n",
      ">>> 1334 1331\n",
      ">>> 1335 1331\n",
      ">>> 1336 1331\n"
     ]
    },
    {
     "name": "stderr",
     "output_type": "stream",
     "text": [
      "gid=x Start paren present but hole is not a new concept\n"
     ]
    },
    {
     "name": "stdout",
     "output_type": "stream",
     "text": [
      ">>> 1337 1331\n",
      ">>> 1338 1331\n",
      ">>> 1339 1331\n",
      ">>> 1340 1331\n",
      ">>> 1341 1341\n",
      ">>> 1342 1341\n"
     ]
    },
    {
     "name": "stderr",
     "output_type": "stream",
     "text": [
      "gid=x Start paren present but cause-01 is not a new concept\n",
      "gid=x Start paren present but flow-01 is not a new concept\n",
      "gid=x Start paren present but have-degree-91 is not a new concept\n"
     ]
    },
    {
     "name": "stdout",
     "output_type": "stream",
     "text": [
      ">>> 1343 1341\n"
     ]
    },
    {
     "name": "stderr",
     "output_type": "stream",
     "text": [
      "gid=x Start paren present but and is not a new concept\n"
     ]
    },
    {
     "name": "stdout",
     "output_type": "stream",
     "text": [
      ">>> 1344 1341\n",
      ">>> 1345 1341\n"
     ]
    },
    {
     "name": "stderr",
     "output_type": "stream",
     "text": [
      "gid=x Missing starting paren for node e/erode-01\n"
     ]
    },
    {
     "name": "stdout",
     "output_type": "stream",
     "text": [
      ">>> 1346 1341\n",
      ">>> 1347 1341\n"
     ]
    },
    {
     "name": "stderr",
     "output_type": "stream",
     "text": [
      "gid=x Start paren present but water is not a new concept\n"
     ]
    },
    {
     "name": "stdout",
     "output_type": "stream",
     "text": [
      ">>> 1348 1341\n",
      ">>> 1349 1341\n"
     ]
    },
    {
     "name": "stderr",
     "output_type": "stream",
     "text": [
      "gid=x Start paren present but way is not a new concept\n"
     ]
    },
    {
     "name": "stdout",
     "output_type": "stream",
     "text": [
      ">>> 1350 1341\n",
      ">>> 1351 1351\n",
      ">>> 1352 1351\n",
      ">>> 1353 1351\n",
      ">>> 1354 1351\n",
      ">>> 1355 1351\n"
     ]
    },
    {
     "name": "stderr",
     "output_type": "stream",
     "text": [
      "gid=x Start paren present but more is not a new concept\n",
      "gid=x Start paren present but more is not a new concept\n"
     ]
    },
    {
     "name": "stdout",
     "output_type": "stream",
     "text": [
      ">>> 1356 1351\n",
      ">>> 1357 1351\n",
      ">>> 1358 1351\n"
     ]
    },
    {
     "name": "stderr",
     "output_type": "stream",
     "text": [
      "gid=x Start paren present but fast-02 is not a new concept\n",
      "gid=x Start paren present but more is not a new concept\n"
     ]
    },
    {
     "name": "stdout",
     "output_type": "stream",
     "text": [
      ">>> 1359 1351\n",
      ">>> 1360 1351\n",
      ">>> 1361 1361\n",
      ">>> 1362 1361\n",
      ">>> 1363 1361\n",
      ">>> 1364 1361\n",
      ">>> 1365 1361\n",
      ">>> 1366 1361\n",
      ">>> 1367 1361\n",
      ">>> 1368 1361\n",
      ">>> 1369 1361\n",
      ">>> 1370 1361\n",
      ">>> 1371 1371\n",
      ">>> 1372 1371\n",
      ">>> 1373 1371\n",
      ">>> 1374 1371\n",
      ">>> 1375 1371\n",
      ">>> 1376 1371\n",
      ">>> 1377 1371\n",
      ">>> 1378 1371\n",
      ">>> 1379 1371\n",
      ">>> 1380 1371\n",
      ">>> 1381 1381\n",
      ">>> 1382 1381\n"
     ]
    },
    {
     "name": "stderr",
     "output_type": "stream",
     "text": [
      "gid=x Start paren present but have-degree-91 is not a new concept\n",
      "gid=x Start paren present but more is not a new concept\n"
     ]
    },
    {
     "name": "stdout",
     "output_type": "stream",
     "text": [
      ">>> 1383 1381\n"
     ]
    },
    {
     "name": "stderr",
     "output_type": "stream",
     "text": [
      "gid=x Start paren present but have-degree-91 is not a new concept\n",
      "ignoring epigraph data for duplicate triple: ('h', ':ARG2', 'f')\n"
     ]
    },
    {
     "name": "stdout",
     "output_type": "stream",
     "text": [
      ">>> 1384 1381\n",
      ">>> 1385 1381\n",
      ">>> 1386 1381\n",
      ">>> 1387 1381\n",
      ">>> 1388 1381\n",
      ">>> 1389 1381\n",
      ">>> 1390 1381\n",
      ">>> 1391 1391\n",
      ">>> 1392 1391\n",
      ">>> 1393 1391\n"
     ]
    },
    {
     "name": "stderr",
     "output_type": "stream",
     "text": [
      "gid=x Start paren present but more is not a new concept\n"
     ]
    },
    {
     "name": "stdout",
     "output_type": "stream",
     "text": [
      ">>> 1394 1391\n",
      ">>> 1395 1391\n",
      ">>> 1396 1391\n",
      ">>> 1397 1391\n",
      ">>> 1398 1391\n",
      ">>> 1399 1391\n",
      ">>> 1400 1391\n",
      ">>> 1401 1401\n",
      ">>> 1402 1401\n",
      ">>> 1403 1401\n",
      ">>> 1404 1401\n",
      ">>> 1405 1401\n",
      ">>> 1406 1401\n",
      ">>> 1407 1401\n",
      ">>> 1408 1401\n",
      ">>> 1409 1401\n",
      ">>> 1410 1401\n",
      ">>> 1411 1411\n",
      ">>> 1412 1411\n",
      ">>> 1413 1411\n",
      ">>> 1414 1411\n",
      ">>> 1415 1411\n",
      ">>> 1416 1411\n",
      ">>> 1417 1411\n",
      ">>> 1418 1411\n",
      ">>> 1419 1411\n",
      ">>> 1420 1411\n",
      ">>> 1421 1421\n",
      ">>> 1422 1421\n",
      ">>> 1423 1421\n",
      ">>> 1424 1421\n",
      ">>> 1425 1421\n",
      ">>> 1426 1421\n",
      ">>> 1427 1421\n",
      ">>> 1428 1421\n",
      ">>> 1429 1421\n",
      ">>> 1430 1421\n",
      ">>> 1431 1431\n",
      ">>> 1432 1431\n",
      ">>> 1433 1431\n",
      ">>> 1434 1431\n",
      ">>> 1435 1431\n",
      ">>> 1436 1431\n",
      ">>> 1437 1431\n",
      ">>> 1438 1431\n",
      ">>> 1439 1431\n",
      ">>> 1440 1431\n",
      ">>> 1441 1441\n",
      ">>> 1442 1441\n",
      ">>> 1443 1441\n",
      ">>> 1444 1441\n",
      ">>> 1445 1441\n",
      ">>> 1446 1441\n",
      ">>> 1447 1441\n",
      ">>> 1448 1441\n",
      ">>> 1449 1441\n",
      ">>> 1450 1441\n",
      ">>> 1451 1451\n",
      ">>> 1452 1451\n",
      ">>> 1453 1451\n",
      ">>> 1454 1451\n",
      ">>> 1455 1451\n",
      ">>> 1456 1451\n",
      ">>> 1457 1451\n",
      ">>> 1458 1451\n",
      ">>> 1459 1451\n",
      ">>> 1460 1451\n",
      ">>> 1461 1461\n",
      ">>> 1462 1461\n",
      ">>> 1463 1461\n",
      ">>> 1464 1461\n",
      ">>> 1465 1461\n",
      ">>> 1466 1461\n",
      ">>> 1467 1461\n",
      ">>> 1468 1461\n",
      ">>> 1469 1461\n",
      ">>> 1470 1461\n",
      ">>> 1471 1471\n",
      ">>> 1472 1471\n",
      ">>> 1473 1471\n",
      ">>> 1474 1471\n",
      ">>> 1475 1471\n",
      ">>> 1476 1471\n",
      ">>> 1477 1471\n",
      ">>> 1478 1471\n",
      ">>> 1479 1471\n",
      ">>> 1480 1471\n",
      ">>> 1481 1481\n",
      ">>> 1482 1481\n",
      ">>> 1483 1481\n",
      ">>> 1484 1481\n",
      ">>> 1485 1481\n",
      ">>> 1486 1481\n",
      ">>> 1487 1481\n",
      ">>> 1488 1481\n",
      ">>> 1489 1481\n",
      ">>> 1490 1481\n",
      ">>> 1491 1491\n",
      ">>> 1492 1491\n",
      ">>> 1493 1491\n",
      ">>> 1494 1491\n",
      ">>> 1495 1491\n",
      ">>> 1496 1491\n",
      ">>> 1497 1491\n",
      ">>> 1498 1491\n",
      ">>> 1499 1491\n",
      ">>> 1500 1491\n",
      ">>> 1501 1501\n",
      ">>> 1502 1501\n",
      ">>> 1503 1501\n"
     ]
    },
    {
     "name": "stderr",
     "output_type": "stream",
     "text": [
      "gid=x Start paren present but or is not a new concept\n"
     ]
    },
    {
     "name": "stdout",
     "output_type": "stream",
     "text": [
      ">>> 1504 1501\n",
      ">>> 1505 1501\n",
      ">>> 1506 1501\n",
      ">>> 1507 1501\n",
      ">>> 1508 1501\n",
      ">>> 1509 1501\n"
     ]
    },
    {
     "name": "stderr",
     "output_type": "stream",
     "text": [
      "gid=x Missing starting paren for node o3/other\n"
     ]
    },
    {
     "name": "stdout",
     "output_type": "stream",
     "text": [
      ">>> 1510 1501\n"
     ]
    },
    {
     "name": "stderr",
     "output_type": "stream",
     "text": [
      "gid=x Missing starting paren for node o3/other\n"
     ]
    },
    {
     "name": "stdout",
     "output_type": "stream",
     "text": [
      ">>> 1511 1511\n",
      ">>> 1512 1511\n",
      ">>> 1513 1511\n",
      ">>> 1514 1511\n",
      ">>> 1515 1511\n",
      ">>> 1516 1511\n",
      ">>> 1517 1511\n",
      ">>> 1518 1511\n",
      ">>> 1519 1511\n",
      ">>> 1520 1511\n",
      ">>> 1521 1521\n",
      ">>> 1522 1521\n",
      ">>> 1523 1521\n",
      ">>> 1524 1521\n",
      ">>> 1525 1521\n",
      ">>> 1526 1521\n",
      ">>> 1527 1521\n",
      ">>> 1528 1521\n",
      ">>> 1529 1521\n",
      ">>> 1530 1521\n",
      ">>> 1531 1531\n",
      ">>> 1532 1531\n",
      ">>> 1533 1531\n",
      ">>> 1534 1531\n",
      ">>> 1535 1531\n",
      ">>> 1536 1531\n",
      ">>> 1537 1531\n",
      ">>> 1538 1531\n",
      ">>> 1539 1531\n",
      ">>> 1540 1531\n",
      ">>> 1541 1541\n",
      ">>> 1542 1541\n",
      ">>> 1543 1541\n",
      ">>> 1544 1541\n",
      ">>> 1545 1541\n",
      ">>> 1546 1541\n",
      ">>> 1547 1541\n",
      ">>> 1548 1541\n",
      ">>> 1549 1541\n",
      ">>> 1550 1541\n",
      ">>> 1551 1551\n",
      ">>> 1552 1551\n",
      ">>> 1553 1551\n",
      ">>> 1554 1551\n",
      ">>> 1555 1551\n",
      ">>> 1556 1551\n",
      ">>> 1557 1551\n",
      ">>> 1558 1551\n",
      ">>> 1559 1551\n",
      ">>> 1560 1551\n",
      ">>> 1561 1561\n",
      ">>> 1562 1561\n",
      ">>> 1563 1561\n",
      ">>> 1564 1561\n",
      ">>> 1565 1561\n",
      ">>> 1566 1561\n",
      ">>> 1567 1561\n",
      ">>> 1568 1561\n",
      ">>> 1569 1561\n",
      ">>> 1570 1561\n",
      ">>> 1571 1571\n",
      ">>> 1572 1571\n",
      ">>> 1573 1571\n",
      ">>> 1574 1571\n",
      ">>> 1575 1571\n",
      ">>> 1576 1571\n",
      ">>> 1577 1571\n",
      ">>> 1578 1571\n",
      ">>> 1579 1571\n",
      ">>> 1580 1571\n",
      ">>> 1581 1581\n",
      ">>> 1582 1581\n",
      ">>> 1583 1581\n",
      ">>> 1584 1581\n",
      ">>> 1585 1581\n",
      ">>> 1586 1581\n",
      ">>> 1587 1581\n",
      ">>> 1588 1581\n",
      ">>> 1589 1581\n",
      ">>> 1590 1581\n",
      ">>> 1591 1591\n",
      ">>> 1592 1591\n",
      ">>> 1593 1591\n",
      ">>> 1594 1591\n",
      ">>> 1595 1591\n",
      ">>> 1596 1591\n"
     ]
    },
    {
     "name": "stderr",
     "output_type": "stream",
     "text": [
      "gid=x Start paren present but it is not a new concept\n"
     ]
    },
    {
     "name": "stdout",
     "output_type": "stream",
     "text": [
      ">>> 1597 1591\n",
      ">>> 1598 1591\n",
      ">>> 1599 1591\n",
      ">>> 1600 1591\n",
      ">>> 1601 1601\n",
      ">>> 1602 1601\n",
      ">>> 1603 1601\n",
      ">>> 1604 1601\n",
      ">>> 1605 1601\n",
      ">>> 1606 1601\n",
      ">>> 1607 1601\n",
      ">>> 1608 1601\n",
      ">>> 1609 1601\n",
      ">>> 1610 1601\n",
      ">>> 1611 1611\n",
      ">>> 1612 1611\n",
      ">>> 1613 1611\n",
      ">>> 1614 1611\n",
      ">>> 1615 1611\n",
      ">>> 1616 1611\n",
      ">>> 1617 1611\n",
      ">>> 1618 1611\n",
      ">>> 1619 1611\n",
      ">>> 1620 1611\n",
      ">>> 1621 1621\n",
      ">>> 1622 1621\n",
      ">>> 1623 1621\n"
     ]
    },
    {
     "name": "stderr",
     "output_type": "stream",
     "text": [
      "gid=x Start paren present but work-09 is not a new concept\n"
     ]
    },
    {
     "name": "stdout",
     "output_type": "stream",
     "text": [
      ">>> 1624 1621\n",
      ">>> 1625 1621\n",
      ">>> 1626 1621\n",
      ">>> 1627 1621\n",
      ">>> 1628 1621\n",
      ">>> 1629 1621\n",
      ">>> 1630 1621\n",
      ">>> 1631 1631\n",
      ">>> 1632 1631\n",
      ">>> 1633 1631\n",
      ">>> 1634 1631\n",
      ">>> 1635 1631\n",
      ">>> 1636 1631\n",
      ">>> 1637 1631\n",
      ">>> 1638 1631\n",
      ">>> 1639 1631\n",
      ">>> 1640 1631\n",
      ">>> 1641 1641\n",
      ">>> 1642 1641\n",
      ">>> 1643 1641\n",
      ">>> 1644 1641\n",
      ">>> 1645 1641\n",
      ">>> 1646 1641\n",
      ">>> 1647 1641\n",
      ">>> 1648 1641\n",
      ">>> 1649 1641\n",
      ">>> 1650 1641\n",
      ">>> 1651 1651\n",
      ">>> 1652 1651\n",
      ">>> 1653 1651\n",
      ">>> 1654 1651\n",
      ">>> 1655 1651\n",
      ">>> 1656 1651\n",
      ">>> 1657 1651\n",
      ">>> 1658 1651\n",
      ">>> 1659 1651\n",
      ">>> 1660 1651\n",
      ">>> 1661 1661\n",
      ">>> 1662 1661\n",
      ">>> 1663 1661\n",
      ">>> 1664 1661\n",
      ">>> 1665 1661\n",
      ">>> 1666 1661\n",
      ">>> 1667 1661\n",
      ">>> 1668 1661\n",
      ">>> 1669 1661\n",
      ">>> 1670 1661\n",
      ">>> 1671 1671\n",
      ">>> 1672 1671\n",
      ">>> 1673 1671\n",
      ">>> 1674 1671\n",
      ">>> 1675 1671\n",
      ">>> 1676 1671\n",
      ">>> 1677 1671\n",
      ">>> 1678 1671\n",
      ">>> 1679 1671\n",
      ">>> 1680 1671\n",
      ">>> 1681 1681\n",
      ">>> 1682 1681\n",
      ">>> 1683 1681\n",
      ">>> 1684 1681\n",
      ">>> 1685 1681\n",
      ">>> 1686 1681\n",
      ">>> 1687 1681\n",
      ">>> 1688 1681\n",
      ">>> 1689 1681\n",
      ">>> 1690 1681\n",
      ">>> 1691 1691\n",
      ">>> 1692 1691\n",
      ">>> 1693 1691\n",
      ">>> 1694 1691\n",
      ">>> 1695 1691\n",
      ">>> 1696 1691\n",
      ">>> 1697 1691\n",
      ">>> 1698 1691\n",
      ">>> 1699 1691\n",
      ">>> 1700 1691\n",
      ">>> 1701 1701\n",
      ">>> 1702 1701\n",
      ">>> 1703 1701\n",
      ">>> 1704 1701\n",
      ">>> 1705 1701\n",
      ">>> 1706 1701\n",
      ">>> 1707 1701\n",
      ">>> 1708 1701\n",
      ">>> 1709 1701\n",
      ">>> 1710 1701\n",
      ">>> 1711 1711\n",
      ">>> 1712 1711\n",
      ">>> 1713 1711\n",
      ">>> 1714 1711\n",
      ">>> 1715 1711\n",
      ">>> 1716 1711\n",
      ">>> 1717 1711\n",
      ">>> 1718 1711\n",
      ">>> 1719 1711\n",
      ">>> 1720 1711\n",
      ">>> 1721 1721\n",
      ">>> 1722 1721\n",
      ">>> 1723 1721\n",
      ">>> 1724 1721\n",
      ">>> 1725 1721\n",
      ">>> 1726 1721\n",
      ">>> 1727 1721\n",
      ">>> 1728 1721\n",
      ">>> 1729 1721\n",
      ">>> 1730 1721\n",
      ">>> 1731 1731\n",
      ">>> 1732 1731\n",
      ">>> 1733 1731\n",
      ">>> 1734 1731\n",
      ">>> 1735 1731\n",
      ">>> 1736 1731\n",
      ">>> 1737 1731\n",
      ">>> 1738 1731\n",
      ">>> 1739 1731\n",
      ">>> 1740 1731\n",
      ">>> 1741 1741\n",
      ">>> 1742 1741\n",
      ">>> 1743 1741\n",
      ">>> 1744 1741\n",
      ">>> 1745 1741\n",
      ">>> 1746 1741\n",
      ">>> 1747 1741\n",
      ">>> 1748 1741\n",
      ">>> 1749 1741\n",
      ">>> 1750 1741\n",
      ">>> 1751 1751\n",
      ">>> 1752 1751\n",
      ">>> 1753 1751\n",
      ">>> 1754 1751\n",
      ">>> 1755 1751\n",
      ">>> 1756 1751\n",
      ">>> 1757 1751\n",
      ">>> 1758 1751\n"
     ]
    },
    {
     "name": "stderr",
     "output_type": "stream",
     "text": [
      "gid=x Start paren present but other is not a new concept\n"
     ]
    },
    {
     "name": "stdout",
     "output_type": "stream",
     "text": [
      ">>> 1759 1751\n",
      ">>> 1760 1751\n",
      ">>> 1761 1761\n",
      ">>> 1762 1761\n",
      ">>> 1763 1761\n",
      ">>> 1764 1761\n",
      ">>> 1765 1761\n",
      ">>> 1766 1761\n",
      ">>> 1767 1761\n",
      ">>> 1768 1761\n",
      ">>> 1769 1761\n",
      ">>> 1770 1761\n",
      ">>> 1771 1771\n",
      ">>> 1772 1771\n",
      ">>> 1773 1771\n",
      ">>> 1774 1771\n"
     ]
    },
    {
     "name": "stderr",
     "output_type": "stream",
     "text": [
      "gid=x Start paren present but thing is not a new concept\n"
     ]
    },
    {
     "name": "stdout",
     "output_type": "stream",
     "text": [
      ">>> 1775 1771\n",
      ">>> 1776 1771\n",
      ">>> 1777 1771\n",
      ">>> 1778 1771\n",
      ">>> 1779 1771\n",
      ">>> 1780 1771\n",
      ">>> 1781 1781\n",
      ">>> 1782 1781\n",
      ">>> 1783 1781\n",
      ">>> 1784 1781\n",
      ">>> 1785 1781\n",
      ">>> 1786 1781\n",
      ">>> 1787 1781\n",
      ">>> 1788 1781\n",
      ">>> 1789 1781\n",
      ">>> 1790 1781\n",
      ">>> 1791 1791\n",
      ">>> 1792 1791\n",
      ">>> 1793 1791\n",
      ">>> 1794 1791\n",
      ">>> 1795 1791\n",
      ">>> 1796 1791\n",
      ">>> 1797 1791\n",
      ">>> 1798 1791\n",
      ">>> 1799 1791\n",
      ">>> 1800 1791\n",
      ">>> 1801 1801\n",
      ">>> 1802 1801\n",
      ">>> 1803 1801\n",
      ">>> 1804 1801\n",
      ">>> 1805 1801\n",
      ">>> 1806 1801\n",
      ">>> 1807 1801\n",
      ">>> 1808 1801\n",
      ">>> 1809 1801\n",
      ">>> 1810 1801\n",
      ">>> 1811 1811\n",
      ">>> 1812 1811\n",
      ">>> 1813 1811\n",
      ">>> 1814 1811\n",
      ">>> 1815 1811\n",
      ">>> 1816 1811\n",
      ">>> 1817 1811\n",
      ">>> 1818 1811\n",
      ">>> 1819 1811\n",
      ">>> 1820 1811\n",
      ">>> 1821 1821\n",
      ">>> 1822 1821\n",
      ">>> 1823 1821\n",
      ">>> 1824 1821\n",
      ">>> 1825 1821\n",
      ">>> 1826 1821\n",
      ">>> 1827 1821\n",
      ">>> 1828 1821\n",
      ">>> 1829 1821\n",
      ">>> 1830 1821\n",
      ">>> 1831 1831\n",
      ">>> 1832 1831\n"
     ]
    },
    {
     "name": "stderr",
     "output_type": "stream",
     "text": [
      "gid=x Start paren present but light-01 is not a new concept\n"
     ]
    },
    {
     "name": "stdout",
     "output_type": "stream",
     "text": [
      ">>> 1833 1831\n",
      ">>> 1834 1831\n",
      ">>> 1835 1831\n",
      ">>> 1836 1831\n",
      ">>> 1837 1831\n",
      ">>> 1838 1831\n",
      ">>> 1839 1831\n",
      ">>> 1840 1831\n",
      ">>> 1841 1841\n",
      ">>> 1842 1841\n",
      ">>> 1843 1841\n",
      ">>> 1844 1841\n",
      ">>> 1845 1841\n",
      ">>> 1846 1841\n",
      ">>> 1847 1841\n",
      ">>> 1848 1841\n",
      ">>> 1849 1841\n",
      ">>> 1850 1841\n",
      ">>> 1851 1851\n",
      ">>> 1852 1851\n",
      ">>> 1853 1851\n",
      ">>> 1854 1851\n",
      ">>> 1855 1851\n",
      ">>> 1856 1851\n",
      ">>> 1857 1851\n",
      ">>> 1858 1851\n",
      ">>> 1859 1851\n",
      ">>> 1860 1851\n",
      ">>> 1861 1861\n",
      ">>> 1862 1861\n",
      ">>> 1863 1861\n",
      ">>> 1864 1861\n",
      ">>> 1865 1861\n",
      ">>> 1866 1861\n"
     ]
    },
    {
     "name": "stderr",
     "output_type": "stream",
     "text": [
      "gid=x Start paren present but that is not a new concept\n"
     ]
    },
    {
     "name": "stdout",
     "output_type": "stream",
     "text": [
      ">>> 1867 1861\n",
      ">>> 1868 1861\n",
      ">>> 1869 1861\n",
      ">>> 1870 1861\n",
      ">>> 1871 1871\n",
      ">>> 1872 1871\n",
      ">>> 1873 1871\n"
     ]
    },
    {
     "name": "stderr",
     "output_type": "stream",
     "text": [
      "gid=x Start paren present but cause-01 is not a new concept\n",
      "ignoring epigraph data for duplicate triple: ('c', ':ARG0', 'c2')\n"
     ]
    },
    {
     "name": "stdout",
     "output_type": "stream",
     "text": [
      ">>> 1874 1871\n",
      ">>> 1875 1871\n",
      ">>> 1876 1871\n",
      ">>> 1877 1871\n",
      ">>> 1878 1871\n",
      ">>> 1879 1871\n",
      ">>> 1880 1871\n",
      ">>> 1881 1881\n",
      ">>> 1882 1881\n",
      ">>> 1883 1881\n",
      ">>> 1884 1881\n",
      ">>> 1885 1881\n",
      ">>> 1886 1881\n",
      ">>> 1887 1881\n",
      ">>> 1888 1881\n",
      ">>> 1889 1881\n",
      ">>> 1890 1881\n",
      ">>> 1891 1891\n",
      ">>> 1892 1891\n",
      ">>> 1893 1891\n",
      ">>> 1894 1891\n",
      ">>> 1895 1891\n",
      ">>> 1896 1891\n",
      ">>> 1897 1891\n",
      ">>> 1898 1891\n",
      ">>> 1899 1891\n",
      ">>> 1900 1891\n",
      ">>> 1901 1901\n",
      ">>> 1902 1901\n",
      ">>> 1903 1901\n",
      ">>> 1904 1901\n",
      ">>> 1905 1901\n",
      ">>> 1906 1901\n",
      ">>> 1907 1901\n",
      ">>> 1908 1901\n",
      ">>> 1909 1901\n",
      ">>> 1910 1901\n",
      ">>> 1911 1911\n",
      ">>> 1912 1911\n",
      ">>> 1913 1911\n",
      ">>> 1914 1911\n",
      ">>> 1915 1911\n",
      ">>> 1916 1911\n",
      ">>> 1917 1911\n",
      ">>> 1918 1911\n",
      ">>> 1919 1911\n",
      ">>> 1920 1911\n",
      ">>> 1921 1921\n",
      ">>> 1922 1921\n",
      ">>> 1923 1921\n",
      ">>> 1924 1921\n",
      ">>> 1925 1921\n",
      ">>> 1926 1921\n",
      ">>> 1927 1921\n",
      ">>> 1928 1921\n",
      ">>> 1929 1921\n",
      ">>> 1930 1921\n",
      ">>> 1931 1931\n",
      ">>> 1932 1931\n",
      ">>> 1933 1931\n",
      ">>> 1934 1931\n",
      ">>> 1935 1931\n",
      ">>> 1936 1931\n",
      ">>> 1937 1931\n",
      ">>> 1938 1931\n",
      ">>> 1939 1931\n",
      ">>> 1940 1931\n",
      ">>> 1941 1941\n",
      ">>> 1942 1941\n",
      ">>> 1943 1941\n",
      ">>> 1944 1941\n",
      ">>> 1945 1941\n",
      ">>> 1946 1941\n",
      ">>> 1947 1941\n",
      ">>> 1948 1941\n"
     ]
    },
    {
     "name": "stderr",
     "output_type": "stream",
     "text": [
      "gid=x Start paren present but it is not a new concept\n"
     ]
    },
    {
     "name": "stdout",
     "output_type": "stream",
     "text": [
      ">>> 1949 1941\n",
      ">>> 1950 1941\n",
      ">>> 1951 1951\n",
      ">>> 1952 1951\n",
      ">>> 1953 1951\n",
      ">>> 1954 1951\n",
      ">>> 1955 1951\n",
      ">>> 1956 1951\n",
      ">>> 1957 1951\n",
      ">>> 1958 1951\n",
      ">>> 1959 1951\n",
      ">>> 1960 1951\n",
      ">>> 1961 1961\n",
      ">>> 1962 1961\n",
      ">>> 1963 1961\n",
      ">>> 1964 1961\n",
      ">>> 1965 1961\n",
      ">>> 1966 1961\n",
      ">>> 1967 1961\n",
      ">>> 1968 1961\n",
      ">>> 1969 1961\n",
      ">>> 1970 1961\n",
      ">>> 1971 1971\n",
      ">>> 1972 1971\n",
      ">>> 1973 1971\n",
      ">>> 1974 1971\n",
      ">>> 1975 1971\n",
      ">>> 1976 1971\n",
      ">>> 1977 1971\n"
     ]
    },
    {
     "name": "stderr",
     "output_type": "stream",
     "text": [
      "gid=x Start paren present but back is not a new concept\n"
     ]
    },
    {
     "name": "stdout",
     "output_type": "stream",
     "text": [
      ">>> 1978 1971\n",
      ">>> 1979 1971\n",
      ">>> 1980 1971\n",
      ">>> 1981 1981\n",
      ">>> 1982 1981\n",
      ">>> 1983 1981\n",
      ">>> 1984 1981\n",
      ">>> 1985 1981\n",
      ">>> 1986 1981\n",
      ">>> 1987 1981\n",
      ">>> 1988 1981\n",
      ">>> 1989 1981\n",
      ">>> 1990 1981\n",
      ">>> 1991 1991\n",
      ">>> 1992 1991\n",
      ">>> 1993 1991\n",
      ">>> 1994 1991\n",
      ">>> 1995 1991\n",
      ">>> 1996 1991\n",
      ">>> 1997 1991\n",
      ">>> 1998 1991\n",
      ">>> 1999 1991\n",
      ">>> 2000 1991\n",
      ">>> 2001 2001\n"
     ]
    },
    {
     "name": "stderr",
     "output_type": "stream",
     "text": [
      "gid=x Start paren present but one is not a new concept\n"
     ]
    },
    {
     "name": "stdout",
     "output_type": "stream",
     "text": [
      ">>> 2002 2001\n",
      ">>> 2003 2001\n",
      ">>> 2004 2001\n",
      ">>> 2005 2001\n",
      ">>> 2006 2001\n",
      ">>> 2007 2001\n",
      ">>> 2008 2001\n",
      ">>> 2009 2001\n",
      ">>> 2010 2001\n",
      ">>> 2011 2011\n",
      ">>> 2012 2011\n",
      ">>> 2013 2011\n",
      ">>> 2014 2011\n",
      ">>> 2015 2011\n",
      ">>> 2016 2011\n",
      ">>> 2017 2011\n",
      ">>> 2018 2011\n",
      ">>> 2019 2011\n",
      ">>> 2020 2011\n",
      ">>> 2021 2021\n",
      ">>> 2022 2021\n",
      ">>> 2023 2021\n",
      ">>> 2024 2021\n",
      ">>> 2025 2021\n",
      ">>> 2026 2021\n"
     ]
    },
    {
     "name": "stderr",
     "output_type": "stream",
     "text": [
      "gid=x Start paren present but hook-01 is not a new concept\n",
      "ignoring epigraph data for duplicate triple: ('h', ':ARG1', 'a')\n"
     ]
    },
    {
     "name": "stdout",
     "output_type": "stream",
     "text": [
      ">>> 2027 2021\n",
      ">>> 2028 2021\n",
      ">>> 2029 2021\n",
      ">>> 2030 2021\n",
      ">>> 2031 2031\n",
      ">>> 2032 2031\n",
      ">>> 2033 2031\n",
      ">>> 2034 2031\n",
      ">>> 2035 2031\n"
     ]
    },
    {
     "name": "stderr",
     "output_type": "stream",
     "text": [
      "gid=x Start paren present but cause-01 is not a new concept\n"
     ]
    },
    {
     "name": "stdout",
     "output_type": "stream",
     "text": [
      ">>> 2036 2031\n",
      ">>> 2037 2031\n",
      ">>> 2038 2031\n",
      ">>> 2039 2031\n",
      ">>> 2040 2031\n",
      ">>> 2041 2041\n",
      ">>> 2042 2041\n",
      ">>> 2043 2041\n",
      ">>> 2044 2041\n",
      ">>> 2045 2041\n",
      ">>> 2046 2041\n",
      ">>> 2047 2041\n",
      ">>> 2048 2041\n",
      ">>> 2049 2041\n",
      ">>> 2050 2041\n",
      ">>> 2051 2051\n",
      ">>> 2052 2051\n",
      ">>> 2053 2051\n",
      ">>> 2054 2051\n",
      ">>> 2055 2051\n",
      ">>> 2056 2051\n",
      ">>> 2057 2051\n",
      ">>> 2058 2051\n",
      ">>> 2059 2051\n",
      ">>> 2060 2051\n",
      ">>> 2061 2061\n",
      ">>> 2062 2061\n"
     ]
    },
    {
     "name": "stderr",
     "output_type": "stream",
     "text": [
      "gid=x Missing starting paren for node n3/negative\n"
     ]
    },
    {
     "name": "stdout",
     "output_type": "stream",
     "text": [
      ">>> 2063 2061\n",
      ">>> 2064 2061\n",
      ">>> 2065 2061\n",
      ">>> 2066 2061\n",
      ">>> 2067 2061\n",
      ">>> 2068 2061\n",
      ">>> 2069 2061\n",
      ">>> 2070 2061\n",
      ">>> 2071 2071\n",
      ">>> 2072 2071\n",
      ">>> 2073 2071\n",
      ">>> 2074 2071\n",
      ">>> 2075 2071\n",
      ">>> 2076 2071\n",
      ">>> 2077 2071\n",
      ">>> 2078 2071\n",
      ">>> 2079 2071\n",
      ">>> 2080 2071\n",
      ">>> 2081 2081\n",
      ">>> 2082 2081\n",
      ">>> 2083 2081\n",
      ">>> 2084 2081\n",
      ">>> 2085 2081\n",
      ">>> 2086 2081\n",
      ">>> 2087 2081\n",
      ">>> 2088 2081\n",
      ">>> 2089 2081\n",
      ">>> 2090 2081\n",
      ">>> 2091 2091\n",
      ">>> 2092 2091\n",
      ">>> 2093 2091\n",
      ">>> 2094 2091\n",
      ">>> 2095 2091\n",
      ">>> 2096 2091\n",
      ">>> 2097 2091\n",
      ">>> 2098 2091\n",
      ">>> 2099 2091\n",
      ">>> 2100 2091\n",
      ">>> 2101 2101\n",
      ">>> 2102 2101\n",
      ">>> 2103 2101\n",
      ">>> 2104 2101\n",
      ">>> 2105 2101\n",
      ">>> 2106 2101\n",
      ">>> 2107 2101\n",
      ">>> 2108 2101\n",
      ">>> 2109 2101\n",
      ">>> 2110 2101\n",
      ">>> 2111 2111\n",
      ">>> 2112 2111\n",
      ">>> 2113 2111\n",
      ">>> 2114 2111\n",
      ">>> 2115 2111\n",
      ">>> 2116 2111\n",
      ">>> 2117 2111\n",
      ">>> 2118 2111\n",
      ">>> 2119 2111\n",
      ">>> 2120 2111\n",
      ">>> 2121 2121\n",
      ">>> 2122 2121\n",
      ">>> 2123 2121\n",
      ">>> 2124 2121\n",
      ">>> 2125 2121\n",
      ">>> 2126 2121\n",
      ">>> 2127 2121\n",
      ">>> 2128 2121\n",
      ">>> 2129 2121\n",
      ">>> 2130 2121\n",
      ">>> 2131 2131\n",
      ">>> 2132 2131\n",
      ">>> 2133 2131\n",
      ">>> 2134 2131\n",
      ">>> 2135 2131\n",
      ">>> 2136 2131\n"
     ]
    },
    {
     "name": "stderr",
     "output_type": "stream",
     "text": [
      "gid=x Start paren present but it is not a new concept\n"
     ]
    },
    {
     "name": "stdout",
     "output_type": "stream",
     "text": [
      ">>> 2137 2131\n",
      ">>> 2138 2131\n",
      ">>> 2139 2131\n",
      ">>> 2140 2131\n",
      ">>> 2141 2141\n",
      ">>> 2142 2141\n",
      ">>> 2143 2141\n",
      ">>> 2144 2141\n",
      ">>> 2145 2141\n",
      ">>> 2146 2141\n",
      ">>> 2147 2141\n",
      ">>> 2148 2141\n",
      ">>> 2149 2141\n",
      ">>> 2150 2141\n",
      ">>> 2151 2151\n",
      ">>> 2152 2151\n",
      ">>> 2153 2151\n",
      ">>> 2154 2151\n",
      ">>> 2155 2151\n",
      ">>> 2156 2151\n",
      ">>> 2157 2151\n",
      ">>> 2158 2151\n",
      ">>> 2159 2151\n",
      ">>> 2160 2151\n",
      ">>> 2161 2161\n",
      ">>> 2162 2161\n",
      ">>> 2163 2161\n",
      ">>> 2164 2161\n",
      ">>> 2165 2161\n",
      ">>> 2166 2161\n",
      ">>> 2167 2161\n",
      ">>> 2168 2161\n",
      ">>> 2169 2161\n",
      ">>> 2170 2161\n",
      ">>> 2171 2171\n",
      ">>> 2172 2171\n",
      ">>> 2173 2171\n",
      ">>> 2174 2171\n",
      ">>> 2175 2171\n",
      ">>> 2176 2171\n",
      ">>> 2177 2171\n",
      ">>> 2178 2171\n",
      ">>> 2179 2171\n",
      ">>> 2180 2171\n",
      ">>> 2181 2181\n",
      ">>> 2182 2181\n",
      ">>> 2183 2181\n",
      ">>> 2184 2181\n",
      ">>> 2185 2181\n",
      ">>> 2186 2181\n",
      ">>> 2187 2181\n",
      ">>> 2188 2181\n",
      ">>> 2189 2181\n",
      ">>> 2190 2181\n",
      ">>> 2191 2191\n",
      ">>> 2192 2191\n",
      ">>> 2193 2191\n",
      ">>> 2194 2191\n"
     ]
    },
    {
     "name": "stderr",
     "output_type": "stream",
     "text": [
      "gid=x Start paren present but it is not a new concept\n"
     ]
    },
    {
     "name": "stdout",
     "output_type": "stream",
     "text": [
      ">>> 2195 2191\n",
      ">>> 2196 2191\n",
      ">>> 2197 2191\n",
      ">>> 2198 2191\n",
      ">>> 2199 2191\n",
      ">>> 2200 2191\n",
      ">>> 2201 2201\n",
      ">>> 2202 2201\n",
      ">>> 2203 2201\n",
      ">>> 2204 2201\n"
     ]
    },
    {
     "name": "stderr",
     "output_type": "stream",
     "text": [
      "gid=x Start paren present but it is not a new concept\n"
     ]
    },
    {
     "name": "stdout",
     "output_type": "stream",
     "text": [
      ">>> 2205 2201\n",
      ">>> 2206 2201\n",
      ">>> 2207 2201\n"
     ]
    },
    {
     "name": "stderr",
     "output_type": "stream",
     "text": [
      "gid=x Start paren present but this is not a new concept\n"
     ]
    },
    {
     "name": "stdout",
     "output_type": "stream",
     "text": [
      ">>> 2208 2201\n",
      ">>> 2209 2201\n",
      ">>> 2210 2201\n",
      ">>> 2211 2211\n",
      ">>> 2212 2211\n",
      ">>> 2213 2211\n",
      ">>> 2214 2211\n",
      ">>> 2215 2211\n",
      ">>> 2216 2211\n",
      ">>> 2217 2211\n",
      ">>> 2218 2211\n",
      ">>> 2219 2211\n",
      ">>> 2220 2211\n",
      ">>> 2221 2221\n",
      ">>> 2222 2221\n",
      ">>> 2223 2221\n",
      ">>> 2224 2221\n",
      ">>> 2225 2221\n",
      ">>> 2226 2221\n",
      ">>> 2227 2221\n",
      ">>> 2228 2221\n",
      ">>> 2229 2221\n",
      ">>> 2230 2221\n",
      ">>> 2231 2231\n",
      ">>> 2232 2231\n",
      ">>> 2233 2231\n",
      ">>> 2234 2231\n",
      ">>> 2235 2231\n",
      ">>> 2236 2231\n",
      ">>> 2237 2231\n",
      ">>> 2238 2231\n",
      ">>> 2239 2231\n",
      ">>> 2240 2231\n",
      ">>> 2241 2241\n",
      ">>> 2242 2241\n",
      ">>> 2243 2241\n",
      ">>> 2244 2241\n",
      ">>> 2245 2241\n",
      ">>> 2246 2241\n",
      ">>> 2247 2241\n",
      ">>> 2248 2241\n",
      ">>> 2249 2241\n",
      ">>> 2250 2241\n",
      ">>> 2251 2251\n",
      ">>> 2252 2251\n"
     ]
    },
    {
     "name": "stderr",
     "output_type": "stream",
     "text": [
      "gid=x Start paren present but cause-01 is not a new concept\n"
     ]
    },
    {
     "name": "stdout",
     "output_type": "stream",
     "text": [
      ">>> 2253 2251\n",
      ">>> 2254 2251\n",
      ">>> 2255 2251\n",
      ">>> 2256 2251\n",
      ">>> 2257 2251\n",
      ">>> 2258 2251\n",
      ">>> 2259 2251\n",
      ">>> 2260 2251\n",
      ">>> 2261 2261\n",
      ">>> 2262 2261\n",
      ">>> 2263 2261\n",
      ">>> 2264 2261\n",
      ">>> 2265 2261\n",
      ">>> 2266 2261\n",
      ">>> 2267 2261\n",
      ">>> 2268 2261\n",
      ">>> 2269 2261\n",
      ">>> 2270 2261\n",
      ">>> 2271 2271\n",
      ">>> 2272 2271\n",
      ">>> 2273 2271\n"
     ]
    },
    {
     "name": "stderr",
     "output_type": "stream",
     "text": [
      "gid=x Missing starting paren for node g/get-01\n",
      "gid=x Start paren present but switch is not a new concept\n"
     ]
    },
    {
     "name": "stdout",
     "output_type": "stream",
     "text": [
      ">>> 2274 2271\n"
     ]
    },
    {
     "name": "stderr",
     "output_type": "stream",
     "text": [
      "gid=x Missing starting paren for node c3/cell\n"
     ]
    },
    {
     "name": "stdout",
     "output_type": "stream",
     "text": [
      ">>> 2275 2271\n",
      ">>> 2276 2271\n",
      ">>> 2277 2271\n",
      ">>> 2278 2271\n",
      ">>> 2279 2271\n",
      ">>> 2280 2271\n",
      ">>> 2281 2281\n",
      ">>> 2282 2281\n",
      ">>> 2283 2281\n",
      ">>> 2284 2281\n",
      ">>> 2285 2281\n",
      ">>> 2286 2281\n",
      ">>> 2287 2281\n",
      ">>> 2288 2281\n",
      ">>> 2289 2281\n",
      ">>> 2290 2281\n",
      ">>> 2291 2291\n",
      ">>> 2292 2291\n",
      ">>> 2293 2291\n",
      ">>> 2294 2291\n",
      ">>> 2295 2291\n",
      ">>> 2296 2291\n",
      ">>> 2297 2291\n",
      ">>> 2298 2291\n",
      ">>> 2299 2291\n",
      ">>> 2300 2291\n",
      ">>> 2301 2301\n",
      ">>> 2302 2301\n",
      ">>> 2303 2301\n",
      ">>> 2304 2301\n",
      ">>> 2305 2301\n",
      ">>> 2306 2301\n",
      ">>> 2307 2301\n",
      ">>> 2308 2301\n",
      ">>> 2309 2301\n",
      ">>> 2310 2301\n",
      ">>> 2311 2311\n",
      ">>> 2312 2311\n",
      ">>> 2313 2311\n",
      ">>> 2314 2311\n",
      ">>> 2315 2311\n",
      ">>> 2316 2311\n",
      ">>> 2317 2311\n",
      ">>> 2318 2311\n",
      ">>> 2319 2311\n",
      ">>> 2320 2311\n",
      ">>> 2321 2321\n",
      ">>> 2322 2321\n"
     ]
    },
    {
     "name": "stderr",
     "output_type": "stream",
     "text": [
      "gid=x Start paren present but more is not a new concept\n"
     ]
    },
    {
     "name": "stdout",
     "output_type": "stream",
     "text": [
      ">>> 2323 2321\n",
      ">>> 2324 2321\n",
      ">>> 2325 2321\n",
      ">>> 2326 2321\n",
      ">>> 2327 2321\n",
      ">>> 2328 2321\n",
      ">>> 2329 2321\n",
      ">>> 2330 2321\n",
      ">>> 2331 2331\n",
      ">>> 2332 2331\n",
      ">>> 2333 2331\n",
      ">>> 2334 2331\n",
      ">>> 2335 2331\n",
      ">>> 2336 2331\n",
      ">>> 2337 2331\n",
      ">>> 2338 2331\n",
      ">>> 2339 2331\n",
      ">>> 2340 2331\n",
      ">>> 2341 2341\n",
      ">>> 2342 2341\n",
      ">>> 2343 2341\n",
      ">>> 2344 2341\n",
      ">>> 2345 2341\n",
      ">>> 2346 2341\n",
      ">>> 2347 2341\n",
      ">>> 2348 2341\n",
      ">>> 2349 2341\n",
      ">>> 2350 2341\n",
      ">>> 2351 2351\n",
      ">>> 2352 2351\n",
      ">>> 2353 2351\n",
      ">>> 2354 2351\n",
      ">>> 2355 2351\n",
      ">>> 2356 2351\n",
      ">>> 2357 2351\n",
      ">>> 2358 2351\n",
      ">>> 2359 2351\n",
      ">>> 2360 2351\n",
      ">>> 2361 2361\n",
      ">>> 2362 2361\n",
      ">>> 2363 2361\n",
      ">>> 2364 2361\n",
      ">>> 2365 2361\n",
      ">>> 2366 2361\n",
      ">>> 2367 2361\n",
      ">>> 2368 2361\n",
      ">>> 2369 2361\n",
      ">>> 2370 2361\n",
      ">>> 2371 2371\n",
      ">>> 2372 2371\n",
      ">>> 2373 2371\n",
      ">>> 2374 2371\n",
      ">>> 2375 2371\n",
      ">>> 2376 2371\n",
      ">>> 2377 2371\n",
      ">>> 2378 2371\n",
      ">>> 2379 2371\n",
      ">>> 2380 2371\n",
      ">>> 2381 2381\n",
      ">>> 2382 2381\n",
      ">>> 2383 2381\n",
      ">>> 2384 2381\n",
      ">>> 2385 2381\n",
      ">>> 2386 2381\n",
      ">>> 2387 2381\n",
      ">>> 2388 2381\n",
      ">>> 2389 2381\n",
      ">>> 2390 2381\n",
      ">>> 2391 2391\n",
      ">>> 2392 2391\n",
      ">>> 2393 2391\n",
      ">>> 2394 2391\n",
      ">>> 2395 2391\n",
      ">>> 2396 2391\n",
      ">>> 2397 2391\n",
      ">>> 2398 2391\n",
      ">>> 2399 2391\n",
      ">>> 2400 2391\n",
      ">>> 2401 2401\n",
      ">>> 2402 2401\n",
      ">>> 2403 2401\n",
      ">>> 2404 2401\n",
      ">>> 2405 2401\n",
      ">>> 2406 2401\n",
      ">>> 2407 2401\n",
      ">>> 2408 2401\n",
      ">>> 2409 2401\n",
      ">>> 2410 2401\n",
      ">>> 2411 2411\n",
      ">>> 2412 2411\n",
      ">>> 2413 2411\n",
      ">>> 2414 2411\n",
      ">>> 2415 2411\n",
      ">>> 2416 2411\n",
      ">>> 2417 2411\n",
      ">>> 2418 2411\n",
      ">>> 2419 2411\n",
      ">>> 2420 2411\n",
      ">>> 2421 2421\n",
      ">>> 2422 2421\n",
      ">>> 2423 2421\n",
      ">>> 2424 2421\n",
      ">>> 2425 2421\n",
      ">>> 2426 2421\n",
      ">>> 2427 2421\n",
      ">>> 2428 2421\n",
      ">>> 2429 2421\n",
      ">>> 2430 2421\n",
      ">>> 2431 2431\n",
      ">>> 2432 2431\n",
      ">>> 2433 2431\n",
      ">>> 2434 2431\n",
      ">>> 2435 2431\n",
      ">>> 2436 2431\n",
      ">>> 2437 2431\n",
      ">>> 2438 2431\n",
      ">>> 2439 2431\n",
      ">>> 2440 2431\n",
      ">>> 2441 2441\n",
      ">>> 2442 2441\n",
      ">>> 2443 2441\n",
      ">>> 2444 2441\n",
      ">>> 2445 2441\n"
     ]
    },
    {
     "name": "stderr",
     "output_type": "stream",
     "text": [
      "gid=x Start paren present but volume-quantity is not a new concept\n"
     ]
    },
    {
     "name": "stdout",
     "output_type": "stream",
     "text": [
      ">>> 2446 2441\n",
      ">>> 2447 2441\n",
      ">>> 2448 2441\n",
      ">>> 2449 2441\n",
      ">>> 2450 2441\n",
      ">>> 2451 2451\n",
      ">>> 2452 2451\n",
      ">>> 2453 2451\n",
      ">>> 2454 2451\n",
      ">>> 2455 2451\n",
      ">>> 2456 2451\n"
     ]
    },
    {
     "name": "stderr",
     "output_type": "stream",
     "text": [
      "gid=x Start paren present but cause-01 is not a new concept\n"
     ]
    },
    {
     "name": "stdout",
     "output_type": "stream",
     "text": [
      ">>> 2457 2451\n",
      ">>> 2458 2451\n",
      ">>> 2459 2451\n",
      ">>> 2460 2451\n",
      ">>> 2461 2461\n",
      ">>> 2462 2461\n",
      ">>> 2463 2461\n",
      ">>> 2464 2461\n",
      ">>> 2465 2461\n",
      ">>> 2466 2461\n",
      ">>> 2467 2461\n",
      ">>> 2468 2461\n",
      ">>> 2469 2461\n",
      ">>> 2470 2461\n",
      ">>> 2471 2471\n",
      ">>> 2472 2471\n",
      ">>> 2473 2471\n",
      ">>> 2474 2471\n",
      ">>> 2475 2471\n",
      ">>> 2476 2471\n",
      ">>> 2477 2471\n",
      ">>> 2478 2471\n",
      ">>> 2479 2471\n",
      ">>> 2480 2471\n",
      ">>> 2481 2481\n",
      ">>> 2482 2481\n",
      ">>> 2483 2481\n",
      ">>> 2484 2481\n",
      ">>> 2485 2481\n",
      ">>> 2486 2481\n",
      ">>> 2487 2481\n",
      ">>> 2488 2481\n",
      ">>> 2489 2481\n",
      ">>> 2490 2481\n",
      ">>> 2491 2491\n",
      ">>> 2492 2491\n",
      ">>> 2493 2491\n",
      ">>> 2494 2491\n",
      ">>> 2495 2491\n",
      ">>> 2496 2491\n",
      ">>> 2497 2491\n",
      ">>> 2498 2491\n",
      ">>> 2499 2491\n",
      ">>> 2500 2491\n",
      ">>> 2501 2501\n",
      ">>> 2502 2501\n",
      ">>> 2503 2501\n",
      ">>> 2504 2501\n",
      ">>> 2505 2501\n",
      ">>> 2506 2501\n",
      ">>> 2507 2501\n",
      ">>> 2508 2501\n",
      ">>> 2509 2501\n",
      ">>> 2510 2501\n",
      ">>> 2511 2511\n",
      ">>> 2512 2511\n",
      ">>> 2513 2511\n",
      ">>> 2514 2511\n",
      ">>> 2515 2511\n",
      ">>> 2516 2511\n",
      ">>> 2517 2511\n",
      ">>> 2518 2511\n",
      ">>> 2519 2511\n",
      ">>> 2520 2511\n",
      ">>> 2521 2521\n",
      ">>> 2522 2521\n",
      ">>> 2523 2521\n",
      ">>> 2524 2521\n",
      ">>> 2525 2521\n",
      ">>> 2526 2521\n",
      ">>> 2527 2521\n",
      ">>> 2528 2521\n",
      ">>> 2529 2521\n"
     ]
    },
    {
     "name": "stderr",
     "output_type": "stream",
     "text": [
      "gid=x Start paren present but and is not a new concept\n",
      "gid=x Start paren present but thing is not a new concept\n"
     ]
    },
    {
     "name": "stdout",
     "output_type": "stream",
     "text": [
      ">>> 2530 2521\n",
      ">>> 2531 2531\n",
      ">>> 2532 2531\n",
      ">>> 2533 2531\n",
      ">>> 2534 2531\n",
      ">>> 2535 2531\n",
      ">>> 2536 2531\n",
      ">>> 2537 2531\n",
      ">>> 2538 2531\n",
      ">>> 2539 2531\n",
      ">>> 2540 2531\n",
      ">>> 2541 2541\n",
      ">>> 2542 2541\n",
      ">>> 2543 2541\n",
      ">>> 2544 2541\n",
      ">>> 2545 2541\n",
      ">>> 2546 2541\n",
      ">>> 2547 2541\n",
      ">>> 2548 2541\n",
      ">>> 2549 2541\n",
      ">>> 2550 2541\n",
      ">>> 2551 2551\n",
      ">>> 2552 2551\n",
      ">>> 2553 2551\n",
      ">>> 2554 2551\n",
      ">>> 2555 2551\n",
      ">>> 2556 2551\n",
      ">>> 2557 2551\n",
      ">>> 2558 2551\n",
      ">>> 2559 2551\n",
      ">>> 2560 2551\n",
      ">>> 2561 2561\n",
      ">>> 2562 2561\n",
      ">>> 2563 2561\n",
      ">>> 2564 2561\n",
      ">>> 2565 2561\n",
      ">>> 2566 2561\n",
      ">>> 2567 2561\n",
      ">>> 2568 2561\n",
      ">>> 2569 2561\n",
      ">>> 2570 2561\n",
      ">>> 2571 2571\n",
      ">>> 2572 2571\n",
      ">>> 2573 2571\n",
      ">>> 2574 2571\n",
      ">>> 2575 2571\n",
      ">>> 2576 2571\n",
      ">>> 2577 2571\n",
      ">>> 2578 2571\n",
      ">>> 2579 2571\n",
      ">>> 2580 2571\n",
      ">>> 2581 2581\n",
      ">>> 2582 2581\n",
      ">>> 2583 2581\n",
      ">>> 2584 2581\n",
      ">>> 2585 2581\n",
      ">>> 2586 2581\n",
      ">>> 2587 2581\n",
      ">>> 2588 2581\n",
      ">>> 2589 2581\n",
      ">>> 2590 2581\n",
      ">>> 2591 2591\n",
      ">>> 2592 2591\n"
     ]
    },
    {
     "name": "stderr",
     "output_type": "stream",
     "text": [
      "gid=x Start paren present but water is not a new concept\n"
     ]
    },
    {
     "name": "stdout",
     "output_type": "stream",
     "text": [
      ">>> 2593 2591\n",
      ">>> 2594 2591\n",
      ">>> 2595 2591\n",
      ">>> 2596 2591\n",
      ">>> 2597 2591\n",
      ">>> 2598 2591\n",
      ">>> 2599 2591\n",
      ">>> 2600 2591\n",
      ">>> 2601 2601\n",
      ">>> 2602 2601\n",
      ">>> 2603 2601\n",
      ">>> 2604 2601\n",
      ">>> 2605 2601\n",
      ">>> 2606 2601\n",
      ">>> 2607 2601\n"
     ]
    },
    {
     "name": "stderr",
     "output_type": "stream",
     "text": [
      "gid=x Start paren present but evaporate-01 is not a new concept\n"
     ]
    },
    {
     "name": "stdout",
     "output_type": "stream",
     "text": [
      ">>> 2608 2601\n",
      ">>> 2609 2601\n",
      ">>> 2610 2601\n",
      ">>> 2611 2611\n",
      ">>> 2612 2611\n",
      ">>> 2613 2611\n",
      ">>> 2614 2611\n",
      ">>> 2615 2611\n",
      ">>> 2616 2611\n",
      ">>> 2617 2611\n",
      ">>> 2618 2611\n",
      ">>> 2619 2611\n",
      ">>> 2620 2611\n",
      ">>> 2621 2621\n",
      ">>> 2622 2621\n",
      ">>> 2623 2621\n",
      ">>> 2624 2621\n",
      ">>> 2625 2621\n",
      ">>> 2626 2621\n",
      ">>> 2627 2621\n",
      ">>> 2628 2621\n",
      ">>> 2629 2621\n",
      ">>> 2630 2621\n",
      ">>> 2631 2631\n",
      ">>> 2632 2631\n",
      ">>> 2633 2631\n",
      ">>> 2634 2631\n",
      ">>> 2635 2631\n",
      ">>> 2636 2631\n",
      ">>> 2637 2631\n",
      ">>> 2638 2631\n",
      ">>> 2639 2631\n",
      ">>> 2640 2631\n",
      ">>> 2641 2641\n",
      ">>> 2642 2641\n",
      ">>> 2643 2641\n",
      ">>> 2644 2641\n",
      ">>> 2645 2641\n",
      ">>> 2646 2641\n",
      ">>> 2647 2641\n",
      ">>> 2648 2641\n",
      ">>> 2649 2641\n",
      ">>> 2650 2641\n",
      ">>> 2651 2651\n",
      ">>> 2652 2651\n",
      ">>> 2653 2651\n",
      ">>> 2654 2651\n",
      ">>> 2655 2651\n",
      ">>> 2656 2651\n",
      ">>> 2657 2651\n",
      ">>> 2658 2651\n"
     ]
    },
    {
     "name": "stderr",
     "output_type": "stream",
     "text": [
      "gid=x Missing starting paren for node ii2/it\n"
     ]
    },
    {
     "name": "stdout",
     "output_type": "stream",
     "text": [
      ">>> 2659 2651\n",
      ">>> 2660 2651\n",
      ">>> 2661 2661\n",
      ">>> 2662 2661\n",
      ">>> 2663 2661\n",
      ">>> 2664 2661\n",
      ">>> 2665 2661\n",
      ">>> 2666 2661\n",
      ">>> 2667 2661\n",
      ">>> 2668 2661\n",
      ">>> 2669 2661\n",
      ">>> 2670 2661\n",
      ">>> 2671 2671\n",
      ">>> 2672 2671\n",
      ">>> 2673 2671\n",
      ">>> 2674 2671\n",
      ">>> 2675 2671\n",
      ">>> 2676 2671\n",
      ">>> 2677 2671\n",
      ">>> 2678 2671\n",
      ">>> 2679 2671\n",
      ">>> 2680 2671\n",
      ">>> 2681 2681\n",
      ">>> 2682 2681\n",
      ">>> 2683 2681\n",
      ">>> 2684 2681\n",
      ">>> 2685 2681\n",
      ">>> 2686 2681\n",
      ">>> 2687 2681\n",
      ">>> 2688 2681\n",
      ">>> 2689 2681\n",
      ">>> 2690 2681\n",
      ">>> 2691 2691\n",
      ">>> 2692 2691\n",
      ">>> 2693 2691\n",
      ">>> 2694 2691\n",
      ">>> 2695 2691\n",
      ">>> 2696 2691\n",
      ">>> 2697 2691\n",
      ">>> 2698 2691\n",
      ">>> 2699 2691\n",
      ">>> 2700 2691\n",
      ">>> 2701 2701\n",
      ">>> 2702 2701\n",
      ">>> 2703 2701\n",
      ">>> 2704 2701\n",
      ">>> 2705 2701\n",
      ">>> 2706 2701\n",
      ">>> 2707 2701\n",
      ">>> 2708 2701\n",
      ">>> 2709 2701\n",
      ">>> 2710 2701\n",
      ">>> 2711 2711\n",
      ">>> 2712 2711\n",
      ">>> 2713 2711\n",
      ">>> 2714 2711\n",
      ">>> 2715 2711\n",
      ">>> 2716 2711\n",
      ">>> 2717 2711\n",
      ">>> 2718 2711\n",
      ">>> 2719 2711\n",
      ">>> 2720 2711\n"
     ]
    },
    {
     "name": "stderr",
     "output_type": "stream",
     "text": [
      "gid=x Start paren present but hole is not a new concept\n"
     ]
    },
    {
     "name": "stdout",
     "output_type": "stream",
     "text": [
      ">>> 2721 2721\n",
      ">>> 2722 2721\n",
      ">>> 2723 2721\n",
      ">>> 2724 2721\n",
      ">>> 2725 2721\n",
      ">>> 2726 2721\n",
      ">>> 2727 2721\n",
      ">>> 2728 2721\n",
      ">>> 2729 2721\n",
      ">>> 2730 2721\n",
      ">>> 2731 2731\n",
      ">>> 2732 2731\n",
      ">>> 2733 2731\n",
      ">>> 2734 2731\n",
      ">>> 2735 2731\n",
      ">>> 2736 2731\n",
      ">>> 2737 2731\n",
      ">>> 2738 2731\n"
     ]
    },
    {
     "name": "stderr",
     "output_type": "stream",
     "text": [
      "gid=x Start paren present but have-degree-91 is not a new concept\n",
      "gid=x Start paren present but too is not a new concept\n"
     ]
    },
    {
     "name": "stdout",
     "output_type": "stream",
     "text": [
      ">>> 2739 2731\n",
      ">>> 2740 2731\n"
     ]
    },
    {
     "name": "stderr",
     "output_type": "stream",
     "text": [
      "gid=x Start paren present but and is not a new concept\n"
     ]
    },
    {
     "name": "stdout",
     "output_type": "stream",
     "text": [
      ">>> 2741 2741\n",
      ">>> 2742 2741\n",
      ">>> 2743 2741\n",
      ">>> 2744 2741\n",
      ">>> 2745 2741\n",
      ">>> 2746 2741\n",
      ">>> 2747 2741\n",
      ">>> 2748 2741\n"
     ]
    },
    {
     "name": "stderr",
     "output_type": "stream",
     "text": [
      "gid=x Missing starting paren for node t2/through\n"
     ]
    },
    {
     "name": "stdout",
     "output_type": "stream",
     "text": [
      ">>> 2749 2741\n",
      ">>> 2750 2741\n",
      ">>> 2751 2751\n",
      ">>> 2752 2751\n",
      ">>> 2753 2751\n",
      ">>> 2754 2751\n",
      ">>> 2755 2751\n",
      ">>> 2756 2751\n",
      ">>> 2757 2751\n",
      ">>> 2758 2751\n",
      ">>> 2759 2751\n",
      ">>> 2760 2751\n",
      ">>> 2761 2761\n",
      ">>> 2762 2761\n",
      ">>> 2763 2761\n"
     ]
    },
    {
     "name": "stderr",
     "output_type": "stream",
     "text": [
      "gid=x Start paren present but more is not a new concept\n"
     ]
    },
    {
     "name": "stdout",
     "output_type": "stream",
     "text": [
      ">>> 2764 2761\n"
     ]
    },
    {
     "name": "stderr",
     "output_type": "stream",
     "text": [
      "gid=x Start paren present but waste-01 is not a new concept\n",
      "gid=x Start paren present but waste-01 is not a new concept\n"
     ]
    },
    {
     "name": "stdout",
     "output_type": "stream",
     "text": [
      ">>> 2765 2761\n",
      ">>> 2766 2761\n",
      ">>> 2767 2761\n",
      ">>> 2768 2761\n",
      ">>> 2769 2761\n",
      ">>> 2770 2761\n",
      ">>> 2771 2771\n",
      ">>> 2772 2771\n",
      ">>> 2773 2771\n",
      ">>> 2774 2771\n",
      ">>> 2775 2771\n"
     ]
    },
    {
     "name": "stderr",
     "output_type": "stream",
     "text": [
      "gid=x Start paren present but have-03 is not a new concept\n"
     ]
    },
    {
     "name": "stdout",
     "output_type": "stream",
     "text": [
      ">>> 2776 2771\n"
     ]
    },
    {
     "name": "stderr",
     "output_type": "stream",
     "text": [
      "gid=x Start paren present but and is not a new concept\n"
     ]
    },
    {
     "name": "stdout",
     "output_type": "stream",
     "text": [
      ">>> 2777 2771\n",
      ">>> 2778 2771\n",
      ">>> 2779 2771\n",
      ">>> 2780 2771\n",
      ">>> 2781 2781\n",
      ">>> 2782 2781\n",
      ">>> 2783 2781\n",
      ">>> 2784 2781\n",
      ">>> 2785 2781\n",
      ">>> 2786 2781\n"
     ]
    },
    {
     "name": "stderr",
     "output_type": "stream",
     "text": [
      "gid=x Start paren present but have-degree-91 is not a new concept\n",
      "gid=x Start paren present but more is not a new concept\n"
     ]
    },
    {
     "name": "stdout",
     "output_type": "stream",
     "text": [
      ">>> 2787 2781\n",
      ">>> 2788 2781\n",
      ">>> 2789 2781\n",
      ">>> 2790 2781\n"
     ]
    },
    {
     "name": "stderr",
     "output_type": "stream",
     "text": [
      "gid=x Missing starting paren for node b/B\n"
     ]
    },
    {
     "name": "stdout",
     "output_type": "stream",
     "text": [
      ">>> 2791 2791\n",
      ">>> 2792 2791\n",
      ">>> 2793 2791\n",
      ">>> 2794 2791\n",
      ">>> 2795 2791\n",
      ">>> 2796 2791\n",
      ">>> 2797 2791\n",
      ">>> 2798 2791\n",
      ">>> 2799 2791\n",
      ">>> 2800 2791\n",
      ">>> 2801 2801\n",
      ">>> 2802 2801\n",
      ">>> 2803 2801\n",
      ">>> 2804 2801\n"
     ]
    },
    {
     "name": "stderr",
     "output_type": "stream",
     "text": [
      "gid=x Start paren present but put-01 is not a new concept\n"
     ]
    },
    {
     "name": "stdout",
     "output_type": "stream",
     "text": [
      ">>> 2805 2801\n",
      ">>> 2806 2801\n"
     ]
    },
    {
     "name": "stderr",
     "output_type": "stream",
     "text": [
      "gid=x Missing starting paren for node p4/person\n"
     ]
    },
    {
     "name": "stdout",
     "output_type": "stream",
     "text": [
      ">>> 2807 2801\n",
      ">>> 2808 2801\n",
      ">>> 2809 2801\n",
      ">>> 2810 2801\n",
      ">>> 2811 2811\n",
      ">>> 2812 2811\n",
      ">>> 2813 2811\n",
      ">>> 2814 2811\n",
      ">>> 2815 2811\n"
     ]
    },
    {
     "name": "stderr",
     "output_type": "stream",
     "text": [
      "gid=x Missing starting paren for node b2/B\n"
     ]
    },
    {
     "name": "stdout",
     "output_type": "stream",
     "text": [
      ">>> 2816 2811\n"
     ]
    },
    {
     "name": "stderr",
     "output_type": "stream",
     "text": [
      "gid=x Missing starting paren for node b2/B\n"
     ]
    },
    {
     "name": "stdout",
     "output_type": "stream",
     "text": [
      ">>> 2817 2811\n",
      ">>> 2818 2811\n"
     ]
    },
    {
     "name": "stderr",
     "output_type": "stream",
     "text": [
      "gid=x Missing starting paren for node b/B\n"
     ]
    },
    {
     "name": "stdout",
     "output_type": "stream",
     "text": [
      ">>> 2819 2811\n",
      ">>> 2820 2811\n",
      ">>> 2821 2821\n",
      ">>> 2822 2821\n"
     ]
    },
    {
     "name": "stderr",
     "output_type": "stream",
     "text": [
      "gid=x Start paren present but dissolve-01 is not a new concept\n",
      "ignoring epigraph data for duplicate triple: ('d2', ':ARG1', 'p4')\n"
     ]
    },
    {
     "name": "stdout",
     "output_type": "stream",
     "text": [
      ">>> 2823 2821\n",
      ">>> 2824 2821\n",
      ">>> 2825 2821\n",
      ">>> 2826 2821\n",
      ">>> 2827 2821\n",
      ">>> 2828 2821\n",
      ">>> 2829 2821\n",
      ">>> 2830 2821\n",
      ">>> 2831 2831\n",
      ">>> 2832 2831\n",
      ">>> 2833 2831\n",
      ">>> 2834 2831\n",
      ">>> 2835 2831\n",
      ">>> 2836 2831\n",
      ">>> 2837 2831\n",
      ">>> 2838 2831\n",
      ">>> 2839 2831\n",
      ">>> 2840 2831\n",
      ">>> 2841 2841\n",
      ">>> 2842 2841\n",
      ">>> 2843 2841\n",
      ">>> 2844 2841\n"
     ]
    },
    {
     "name": "stderr",
     "output_type": "stream",
     "text": [
      "gid=x Start paren present but more is not a new concept\n"
     ]
    },
    {
     "name": "stdout",
     "output_type": "stream",
     "text": [
      ">>> 2845 2841\n",
      ">>> 2846 2841\n",
      ">>> 2847 2841\n",
      ">>> 2848 2841\n",
      ">>> 2849 2841\n",
      ">>> 2850 2841\n"
     ]
    },
    {
     "name": "stderr",
     "output_type": "stream",
     "text": [
      "gid=x Start paren present but possible-01 is not a new concept\n"
     ]
    },
    {
     "name": "stdout",
     "output_type": "stream",
     "text": [
      ">>> 2851 2851\n",
      ">>> 2852 2851\n",
      ">>> 2853 2851\n",
      ">>> 2854 2851\n",
      ">>> 2855 2851\n",
      ">>> 2856 2851\n",
      ">>> 2857 2851\n",
      ">>> 2858 2851\n",
      ">>> 2859 2851\n",
      ">>> 2860 2851\n",
      ">>> 2861 2861\n",
      ">>> 2862 2861\n",
      ">>> 2863 2861\n",
      ">>> 2864 2861\n",
      ">>> 2865 2861\n",
      ">>> 2866 2861\n",
      ">>> 2867 2861\n",
      ">>> 2868 2861\n",
      ">>> 2869 2861\n",
      ">>> 2870 2861\n",
      ">>> 2871 2871\n",
      ">>> 2872 2871\n",
      ">>> 2873 2871\n",
      ">>> 2874 2871\n",
      ">>> 2875 2871\n",
      ">>> 2876 2871\n",
      ">>> 2877 2871\n",
      ">>> 2878 2871\n",
      ">>> 2879 2871\n",
      ">>> 2880 2871\n",
      ">>> 2881 2881\n",
      ">>> 2882 2881\n",
      ">>> 2883 2881\n",
      ">>> 2884 2881\n",
      ">>> 2885 2881\n",
      ">>> 2886 2881\n",
      ">>> 2887 2881\n",
      ">>> 2888 2881\n",
      ">>> 2889 2881\n",
      ">>> 2890 2881\n",
      ">>> 2891 2891\n",
      ">>> 2892 2891\n",
      ">>> 2893 2891\n",
      ">>> 2894 2891\n",
      ">>> 2895 2891\n"
     ]
    },
    {
     "name": "stderr",
     "output_type": "stream",
     "text": [
      "gid=x Start paren present but precipitate is not a new concept\n"
     ]
    },
    {
     "name": "stdout",
     "output_type": "stream",
     "text": [
      ">>> 2896 2891\n",
      ">>> 2897 2891\n"
     ]
    },
    {
     "name": "stderr",
     "output_type": "stream",
     "text": [
      "gid=x Start paren present but white-02 is not a new concept\n"
     ]
    },
    {
     "name": "stdout",
     "output_type": "stream",
     "text": [
      ">>> 2898 2891\n",
      ">>> 2899 2891\n",
      ">>> 2900 2891\n",
      ">>> 2901 2901\n",
      ">>> 2902 2901\n",
      ">>> 2903 2901\n",
      ">>> 2904 2901\n",
      ">>> 2905 2901\n",
      ">>> 2906 2901\n",
      ">>> 2907 2901\n",
      ">>> 2908 2901\n",
      ">>> 2909 2901\n",
      ">>> 2910 2901\n",
      ">>> 2911 2911\n",
      ">>> 2912 2911\n",
      ">>> 2913 2911\n",
      ">>> 2914 2911\n",
      ">>> 2915 2911\n",
      ">>> 2916 2911\n",
      ">>> 2917 2911\n",
      ">>> 2918 2911\n",
      ">>> 2919 2911\n",
      ">>> 2920 2911\n",
      ">>> 2921 2921\n",
      ">>> 2922 2921\n",
      ">>> 2923 2921\n",
      ">>> 2924 2921\n",
      ">>> 2925 2921\n",
      ">>> 2926 2921\n",
      ">>> 2927 2921\n",
      ">>> 2928 2921\n",
      ">>> 2929 2921\n",
      ">>> 2930 2921\n",
      ">>> 2931 2931\n",
      ">>> 2932 2931\n",
      ">>> 2933 2931\n",
      ">>> 2934 2931\n",
      ">>> 2935 2931\n",
      ">>> 2936 2931\n",
      ">>> 2937 2931\n",
      ">>> 2938 2931\n",
      ">>> 2939 2931\n",
      ">>> 2940 2931\n",
      ">>> 2941 2941\n",
      ">>> 2942 2941\n",
      ">>> 2943 2941\n",
      ">>> 2944 2941\n",
      ">>> 2945 2941\n",
      ">>> 2946 2941\n",
      ">>> 2947 2941\n",
      ">>> 2948 2941\n",
      ">>> 2949 2941\n",
      ">>> 2950 2941\n",
      ">>> 2951 2951\n",
      ">>> 2952 2951\n",
      ">>> 2953 2951\n",
      ">>> 2954 2951\n",
      ">>> 2955 2951\n",
      ">>> 2956 2951\n",
      ">>> 2957 2951\n",
      ">>> 2958 2951\n",
      ">>> 2959 2951\n",
      ">>> 2960 2951\n",
      ">>> 2961 2961\n",
      ">>> 2962 2961\n",
      ">>> 2963 2961\n",
      ">>> 2964 2961\n",
      ">>> 2965 2961\n",
      ">>> 2966 2961\n",
      ">>> 2967 2961\n",
      ">>> 2968 2961\n",
      ">>> 2969 2961\n",
      ">>> 2970 2961\n",
      ">>> 2971 2971\n",
      ">>> 2972 2971\n",
      ">>> 2973 2971\n",
      ">>> 2974 2971\n",
      ">>> 2975 2971\n",
      ">>> 2976 2971\n",
      ">>> 2977 2971\n",
      ">>> 2978 2971\n",
      ">>> 2979 2971\n",
      ">>> 2980 2971\n",
      ">>> 2981 2981\n",
      ">>> 2982 2981\n",
      ">>> 2983 2981\n",
      ">>> 2984 2981\n",
      ">>> 2985 2981\n",
      ">>> 2986 2981\n",
      ">>> 2987 2981\n",
      ">>> 2988 2981\n",
      ">>> 2989 2981\n",
      ">>> 2990 2981\n",
      ">>> 2991 2991\n",
      ">>> 2992 2991\n",
      ">>> 2993 2991\n",
      ">>> 2994 2991\n",
      ">>> 2995 2991\n",
      ">>> 2996 2991\n",
      ">>> 2997 2991\n",
      ">>> 2998 2991\n",
      ">>> 2999 2991\n",
      ">>> 3000 2991\n",
      ">>> 3001 3001\n",
      ">>> 3002 3001\n",
      ">>> 3003 3001\n",
      ">>> 3004 3001\n",
      ">>> 3005 3001\n",
      ">>> 3006 3001\n",
      ">>> 3007 3001\n",
      ">>> 3008 3001\n",
      ">>> 3009 3001\n",
      ">>> 3010 3001\n",
      ">>> 3011 3011\n",
      ">>> 3012 3011\n",
      ">>> 3013 3011\n",
      ">>> 3014 3011\n",
      ">>> 3015 3011\n",
      ">>> 3016 3011\n",
      ">>> 3017 3011\n",
      ">>> 3018 3011\n",
      ">>> 3019 3011\n",
      ">>> 3020 3011\n",
      ">>> 3021 3021\n",
      ">>> 3022 3021\n",
      ">>> 3023 3021\n",
      ">>> 3024 3021\n",
      ">>> 3025 3021\n",
      ">>> 3026 3021\n",
      ">>> 3027 3021\n",
      ">>> 3028 3021\n",
      ">>> 3029 3021\n",
      ">>> 3030 3021\n",
      ">>> 3031 3031\n",
      ">>> 3032 3031\n",
      ">>> 3033 3031\n",
      ">>> 3034 3031\n",
      ">>> 3035 3031\n",
      ">>> 3036 3031\n",
      ">>> 3037 3031\n",
      ">>> 3038 3031\n",
      ">>> 3039 3031\n"
     ]
    },
    {
     "name": "stderr",
     "output_type": "stream",
     "text": [
      "gid=x Start paren present but material is not a new concept\n"
     ]
    },
    {
     "name": "stdout",
     "output_type": "stream",
     "text": [
      ">>> 3040 3031\n",
      ">>> 3041 3041\n",
      ">>> 3042 3041\n",
      ">>> 3043 3041\n",
      ">>> 3044 3041\n",
      ">>> 3045 3041\n",
      ">>> 3046 3041\n",
      ">>> 3047 3041\n",
      ">>> 3048 3041\n",
      ">>> 3049 3041\n",
      ">>> 3050 3041\n",
      ">>> 3051 3051\n",
      ">>> 3052 3051\n",
      ">>> 3053 3051\n",
      ">>> 3054 3051\n",
      ">>> 3055 3051\n",
      ">>> 3056 3051\n",
      ">>> 3057 3051\n",
      ">>> 3058 3051\n",
      ">>> 3059 3051\n",
      ">>> 3060 3051\n",
      ">>> 3061 3061\n",
      ">>> 3062 3061\n",
      ">>> 3063 3061\n",
      ">>> 3064 3061\n",
      ">>> 3065 3061\n",
      ">>> 3066 3061\n",
      ">>> 3067 3061\n",
      ">>> 3068 3061\n",
      ">>> 3069 3061\n",
      ">>> 3070 3061\n",
      ">>> 3071 3071\n",
      ">>> 3072 3071\n",
      ">>> 3073 3071\n",
      ">>> 3074 3071\n",
      ">>> 3075 3071\n",
      ">>> 3076 3071\n",
      ">>> 3077 3071\n",
      ">>> 3078 3071\n",
      ">>> 3079 3071\n",
      ">>> 3080 3071\n",
      ">>> 3081 3081\n",
      ">>> 3082 3081\n",
      ">>> 3083 3081\n",
      ">>> 3084 3081\n",
      ">>> 3085 3081\n",
      ">>> 3086 3081\n",
      ">>> 3087 3081\n",
      ">>> 3088 3081\n",
      ">>> 3089 3081\n",
      ">>> 3090 3081\n",
      ">>> 3091 3091\n",
      ">>> 3092 3091\n",
      ">>> 3093 3091\n",
      ">>> 3094 3091\n",
      ">>> 3095 3091\n",
      ">>> 3096 3091\n",
      ">>> 3097 3091\n",
      ">>> 3098 3091\n",
      ">>> 3099 3091\n",
      ">>> 3100 3091\n",
      ">>> 3101 3101\n",
      ">>> 3102 3101\n"
     ]
    },
    {
     "name": "stderr",
     "output_type": "stream",
     "text": [
      "gid=x Start paren present but more is not a new concept\n"
     ]
    },
    {
     "name": "stdout",
     "output_type": "stream",
     "text": [
      ">>> 3103 3101\n"
     ]
    },
    {
     "name": "stderr",
     "output_type": "stream",
     "text": [
      "gid=x Start paren present but it is not a new concept\n"
     ]
    },
    {
     "name": "stdout",
     "output_type": "stream",
     "text": [
      ">>> 3104 3101\n",
      ">>> 3105 3101\n",
      ">>> 3106 3101\n",
      ">>> 3107 3101\n",
      ">>> 3108 3101\n",
      ">>> 3109 3101\n",
      ">>> 3110 3101\n"
     ]
    },
    {
     "name": "stderr",
     "output_type": "stream",
     "text": [
      "gid=x Start paren present but more is not a new concept\n"
     ]
    },
    {
     "name": "stdout",
     "output_type": "stream",
     "text": [
      ">>> 3111 3111\n",
      ">>> 3112 3111\n",
      ">>> 3113 3111\n",
      ">>> 3114 3111\n",
      ">>> 3115 3111\n",
      ">>> 3116 3111\n",
      ">>> 3117 3111\n"
     ]
    },
    {
     "name": "stderr",
     "output_type": "stream",
     "text": [
      "gid=x Start paren present but have-quant-91 is not a new concept\n"
     ]
    },
    {
     "name": "stdout",
     "output_type": "stream",
     "text": [
      ">>> 3118 3111\n",
      ">>> 3119 3111\n",
      ">>> 3120 3111\n",
      ">>> 3121 3121\n",
      ">>> 3122 3121\n",
      ">>> 3123 3121\n"
     ]
    },
    {
     "name": "stderr",
     "output_type": "stream",
     "text": [
      "gid=x Start paren present but amount is not a new concept\n",
      "gid=x Start paren present but same-01 is not a new concept\n",
      "gid=x Missing starting paren for node s5/scoop\n"
     ]
    },
    {
     "name": "stdout",
     "output_type": "stream",
     "text": [
      ">>> 3124 3121\n",
      ">>> 3125 3121\n",
      ">>> 3126 3121\n",
      ">>> 3127 3121\n",
      ">>> 3128 3121\n"
     ]
    },
    {
     "name": "stderr",
     "output_type": "stream",
     "text": [
      "gid=x Start paren present but more is not a new concept\n",
      "gid=x Start paren present but it is not a new concept\n"
     ]
    },
    {
     "name": "stdout",
     "output_type": "stream",
     "text": [
      ">>> 3129 3121\n"
     ]
    },
    {
     "name": "stderr",
     "output_type": "stream",
     "text": [
      "gid=x Start paren present but same-01 is not a new concept\n"
     ]
    },
    {
     "name": "stdout",
     "output_type": "stream",
     "text": [
      ">>> 3130 3121\n",
      ">>> 3131 3131\n"
     ]
    },
    {
     "name": "stderr",
     "output_type": "stream",
     "text": [
      "gid=x Start paren present but same-01 is not a new concept\n"
     ]
    },
    {
     "name": "stdout",
     "output_type": "stream",
     "text": [
      ">>> 3132 3131\n",
      ">>> 3133 3131\n",
      ">>> 3134 3131\n",
      ">>> 3135 3131\n",
      ">>> 3136 3131\n"
     ]
    },
    {
     "name": "stderr",
     "output_type": "stream",
     "text": [
      "gid=x Start paren present but more is not a new concept\n"
     ]
    },
    {
     "name": "stdout",
     "output_type": "stream",
     "text": [
      ">>> 3137 3131\n",
      ">>> 3138 3131\n",
      ">>> 3139 3131\n",
      ">>> 3140 3131\n",
      ">>> 3141 3141\n"
     ]
    },
    {
     "name": "stderr",
     "output_type": "stream",
     "text": [
      "gid=x Start paren present but filter-01 is not a new concept\n"
     ]
    },
    {
     "name": "stdout",
     "output_type": "stream",
     "text": [
      ">>> 3142 3141\n",
      ">>> 3143 3141\n",
      ">>> 3144 3141\n",
      ">>> 3145 3141\n",
      ">>> 3146 3141\n",
      ">>> 3147 3141\n",
      ">>> 3148 3141\n",
      ">>> 3149 3141\n",
      ">>> 3150 3141\n",
      ">>> 3151 3151\n"
     ]
    },
    {
     "name": "stderr",
     "output_type": "stream",
     "text": [
      "gid=x Start paren present but evaporate-01 is not a new concept\n"
     ]
    },
    {
     "name": "stdout",
     "output_type": "stream",
     "text": [
      ">>> 3152 3151\n",
      ">>> 3153 3151\n",
      ">>> 3154 3151\n",
      ">>> 3155 3151\n",
      ">>> 3156 3151\n",
      ">>> 3157 3151\n"
     ]
    },
    {
     "name": "stderr",
     "output_type": "stream",
     "text": [
      "gid=x Start paren present but solid is not a new concept\n"
     ]
    },
    {
     "name": "stdout",
     "output_type": "stream",
     "text": [
      ">>> 3158 3151\n",
      ">>> 3159 3151\n",
      ">>> 3160 3151\n",
      ">>> 3161 3161\n",
      ">>> 3162 3161\n",
      ">>> 3163 3161\n",
      ">>> 3164 3161\n",
      ">>> 3165 3161\n",
      ">>> 3166 3161\n",
      ">>> 3167 3161\n",
      ">>> 3168 3161\n",
      ">>> 3169 3161\n"
     ]
    },
    {
     "name": "stderr",
     "output_type": "stream",
     "text": [
      "gid=x Start paren present but solid is not a new concept\n"
     ]
    },
    {
     "name": "stdout",
     "output_type": "stream",
     "text": [
      ">>> 3170 3161\n"
     ]
    },
    {
     "name": "stderr",
     "output_type": "stream",
     "text": [
      "gid=x Start paren present but mixture is not a new concept\n"
     ]
    },
    {
     "name": "stdout",
     "output_type": "stream",
     "text": [
      ">>> 3171 3171\n",
      ">>> 3172 3171\n",
      ">>> 3173 3171\n",
      ">>> 3174 3171\n",
      ">>> 3175 3171\n",
      ">>> 3176 3171\n",
      ">>> 3177 3171\n",
      ">>> 3178 3171\n",
      ">>> 3179 3171\n",
      ">>> 3180 3171\n",
      ">>> 3181 3181\n",
      ">>> 3182 3181\n"
     ]
    },
    {
     "name": "stderr",
     "output_type": "stream",
     "text": [
      "gid=x Missing starting paren for node m4/mass-quantity\n"
     ]
    },
    {
     "name": "stdout",
     "output_type": "stream",
     "text": [
      ">>> 3183 3181\n",
      ">>> 3184 3181\n",
      ">>> 3185 3181\n",
      ">>> 3186 3181\n",
      ">>> 3187 3181\n"
     ]
    },
    {
     "name": "stderr",
     "output_type": "stream",
     "text": [
      "gid=x Start paren present but dissolve-01 is not a new concept\n",
      "gid=x Start paren present but solid is not a new concept\n",
      "gid=x Start paren present but solute is not a new concept\n"
     ]
    },
    {
     "name": "stdout",
     "output_type": "stream",
     "text": [
      ">>> 3188 3181\n",
      ">>> 3189 3181\n"
     ]
    },
    {
     "name": "stderr",
     "output_type": "stream",
     "text": [
      "gid=x Start paren present but nothing is not a new concept\n"
     ]
    },
    {
     "name": "stdout",
     "output_type": "stream",
     "text": [
      ">>> 3190 3181\n",
      ">>> 3191 3191\n",
      ">>> 3192 3191\n",
      ">>> 3193 3191\n",
      ">>> 3194 3191\n",
      ">>> 3195 3191\n",
      ">>> 3196 3191\n",
      ">>> 3197 3191\n",
      ">>> 3198 3191\n",
      ">>> 3199 3191\n",
      ">>> 3200 3191\n",
      ">>> 3201 3201\n",
      ">>> 3202 3201\n",
      ">>> 3203 3201\n",
      ">>> 3204 3201\n"
     ]
    },
    {
     "name": "stderr",
     "output_type": "stream",
     "text": [
      "gid=x Missing starting paren for node ii2/it\n"
     ]
    },
    {
     "name": "stdout",
     "output_type": "stream",
     "text": [
      ">>> 3205 3201\n",
      ">>> 3206 3201\n",
      ">>> 3207 3201\n",
      ">>> 3208 3201\n"
     ]
    },
    {
     "name": "stderr",
     "output_type": "stream",
     "text": [
      "gid=x Start paren present but volume is not a new concept\n"
     ]
    },
    {
     "name": "stdout",
     "output_type": "stream",
     "text": [
      ">>> 3209 3201\n",
      ">>> 3210 3201\n",
      ">>> 3211 3211\n",
      ">>> 3212 3211\n",
      ">>> 3213 3211\n",
      ">>> 3214 3211\n",
      ">>> 3215 3211\n",
      ">>> 3216 3211\n",
      ">>> 3217 3211\n",
      ">>> 3218 3211\n",
      ">>> 3219 3211\n",
      ">>> 3220 3211\n",
      ">>> 3221 3221\n",
      ">>> 3222 3221\n",
      ">>> 3223 3221\n",
      ">>> 3224 3221\n"
     ]
    },
    {
     "name": "stderr",
     "output_type": "stream",
     "text": [
      "gid=x Start paren present but name is not a new concept\n"
     ]
    },
    {
     "name": "stdout",
     "output_type": "stream",
     "text": [
      ">>> 3225 3221\n",
      ">>> 3226 3221\n",
      ">>> 3227 3221\n",
      ">>> 3228 3221\n",
      ">>> 3229 3221\n",
      ">>> 3230 3221\n",
      ">>> 3231 3231\n",
      ">>> 3232 3231\n",
      ">>> 3233 3231\n",
      ">>> 3234 3231\n",
      ">>> 3235 3231\n",
      ">>> 3236 3231\n",
      ">>> 3237 3231\n",
      ">>> 3238 3231\n",
      ">>> 3239 3231\n",
      ">>> 3240 3231\n",
      ">>> 3241 3241\n",
      ">>> 3242 3241\n",
      ">>> 3243 3241\n",
      ">>> 3244 3241\n",
      ">>> 3245 3241\n",
      ">>> 3246 3241\n",
      ">>> 3247 3241\n",
      ">>> 3248 3241\n",
      ">>> 3249 3241\n",
      ">>> 3250 3241\n",
      ">>> 3251 3251\n",
      ">>> 3252 3251\n",
      ">>> 3253 3251\n",
      ">>> 3254 3251\n"
     ]
    },
    {
     "name": "stderr",
     "output_type": "stream",
     "text": [
      "gid=x Start paren present but cause-01 is not a new concept\n",
      "ignoring epigraph data for duplicate triple: ('c', ':ARG0', 'a')\n"
     ]
    },
    {
     "name": "stdout",
     "output_type": "stream",
     "text": [
      ">>> 3255 3251\n",
      ">>> 3256 3251\n",
      ">>> 3257 3251\n",
      ">>> 3258 3251\n",
      ">>> 3259 3251\n",
      ">>> 3260 3251\n",
      ">>> 3261 3261\n",
      ">>> 3262 3261\n",
      ">>> 3263 3261\n",
      ">>> 3264 3261\n",
      ">>> 3265 3261\n",
      ">>> 3266 3261\n",
      ">>> 3267 3261\n",
      ">>> 3268 3261\n",
      ">>> 3269 3261\n",
      ">>> 3270 3261\n"
     ]
    },
    {
     "name": "stderr",
     "output_type": "stream",
     "text": [
      "gid=x Start paren present but then is not a new concept\n"
     ]
    },
    {
     "name": "stdout",
     "output_type": "stream",
     "text": [
      ">>> 3271 3271\n",
      ">>> 3272 3271\n",
      ">>> 3273 3271\n",
      ">>> 3274 3271\n",
      ">>> 3275 3271\n"
     ]
    },
    {
     "name": "stderr",
     "output_type": "stream",
     "text": [
      "gid=x Missing starting paren for node c2/crystal\n"
     ]
    },
    {
     "name": "stdout",
     "output_type": "stream",
     "text": [
      ">>> 3276 3271\n",
      ">>> 3277 3271\n",
      ">>> 3278 3271\n",
      ">>> 3279 3271\n",
      ">>> 3280 3271\n",
      ">>> 3281 3281\n",
      ">>> 3282 3281\n",
      ">>> 3283 3281\n",
      ">>> 3284 3281\n",
      ">>> 3285 3281\n",
      ">>> 3286 3281\n",
      ">>> 3287 3281\n",
      ">>> 3288 3281\n",
      ">>> 3289 3281\n",
      ">>> 3290 3281\n",
      ">>> 3291 3291\n",
      ">>> 3292 3291\n",
      ">>> 3293 3291\n",
      ">>> 3294 3291\n",
      ">>> 3295 3291\n",
      ">>> 3296 3291\n",
      ">>> 3297 3291\n",
      ">>> 3298 3291\n",
      ">>> 3299 3291\n",
      ">>> 3300 3291\n",
      ">>> 3301 3301\n",
      ">>> 3302 3301\n",
      ">>> 3303 3301\n",
      ">>> 3304 3301\n",
      ">>> 3305 3301\n",
      ">>> 3306 3301\n",
      ">>> 3307 3301\n",
      ">>> 3308 3301\n",
      ">>> 3309 3301\n",
      ">>> 3310 3301\n",
      ">>> 3311 3311\n",
      ">>> 3312 3311\n",
      ">>> 3313 3311\n",
      ">>> 3314 3311\n",
      ">>> 3315 3311\n",
      ">>> 3316 3311\n",
      ">>> 3317 3311\n",
      ">>> 3318 3311\n",
      ">>> 3319 3311\n",
      ">>> 3320 3311\n",
      ">>> 3321 3321\n",
      ">>> 3322 3321\n",
      ">>> 3323 3321\n",
      ">>> 3324 3321\n",
      ">>> 3325 3321\n",
      ">>> 3326 3321\n",
      ">>> 3327 3321\n",
      ">>> 3328 3321\n",
      ">>> 3329 3321\n",
      ">>> 3330 3321\n",
      ">>> 3331 3331\n",
      ">>> 3332 3331\n",
      ">>> 3333 3331\n",
      ">>> 3334 3331\n",
      ">>> 3335 3331\n",
      ">>> 3336 3331\n",
      ">>> 3337 3331\n",
      ">>> 3338 3331\n"
     ]
    },
    {
     "name": "stderr",
     "output_type": "stream",
     "text": [
      "gid=x Start paren present but cause-01 is not a new concept\n"
     ]
    },
    {
     "name": "stdout",
     "output_type": "stream",
     "text": [
      ">>> 3339 3331\n",
      ">>> 3340 3331\n",
      ">>> 3341 3341\n",
      ">>> 3342 3341\n",
      ">>> 3343 3341\n",
      ">>> 3344 3341\n",
      ">>> 3345 3341\n",
      ">>> 3346 3341\n",
      ">>> 3347 3341\n",
      ">>> 3348 3341\n",
      ">>> 3349 3341\n"
     ]
    },
    {
     "name": "stderr",
     "output_type": "stream",
     "text": [
      "gid=x Start paren present but cause-01 is not a new concept\n"
     ]
    },
    {
     "name": "stdout",
     "output_type": "stream",
     "text": [
      ">>> 3350 3341\n",
      ">>> 3351 3351\n",
      ">>> 3352 3351\n",
      ">>> 3353 3351\n",
      ">>> 3354 3351\n",
      ">>> 3355 3351\n",
      ">>> 3356 3351\n",
      ">>> 3357 3351\n",
      ">>> 3358 3351\n",
      ">>> 3359 3351\n",
      ">>> 3360 3351\n",
      ">>> 3361 3361\n",
      ">>> 3362 3361\n",
      ">>> 3363 3361\n",
      ">>> 3364 3361\n",
      ">>> 3365 3361\n",
      ">>> 3366 3361\n",
      ">>> 3367 3361\n",
      ">>> 3368 3361\n"
     ]
    },
    {
     "name": "stderr",
     "output_type": "stream",
     "text": [
      "gid=x Start paren present but and is not a new concept\n"
     ]
    },
    {
     "name": "stdout",
     "output_type": "stream",
     "text": [
      ">>> 3369 3361\n",
      ">>> 3370 3361\n",
      ">>> 3371 3371\n",
      ">>> 3372 3371\n",
      ">>> 3373 3371\n",
      ">>> 3374 3371\n",
      ">>> 3375 3371\n",
      ">>> 3376 3371\n",
      ">>> 3377 3371\n",
      ">>> 3378 3371\n",
      ">>> 3379 3371\n",
      ">>> 3380 3371\n",
      ">>> 3381 3381\n"
     ]
    },
    {
     "name": "stderr",
     "output_type": "stream",
     "text": [
      "gid=x Start paren present but low-04 is not a new concept\n",
      "gid=x Start paren present but low-04 is not a new concept\n"
     ]
    },
    {
     "name": "stdout",
     "output_type": "stream",
     "text": [
      ">>> 3382 3381\n",
      ">>> 3383 3381\n",
      ">>> 3384 3381\n",
      ">>> 3385 3381\n",
      ">>> 3386 3381\n",
      ">>> 3387 3381\n",
      ">>> 3388 3381\n",
      ">>> 3389 3381\n",
      ">>> 3390 3381\n"
     ]
    },
    {
     "name": "stderr",
     "output_type": "stream",
     "text": [
      "gid=x Start paren present but size-01 is not a new concept\n"
     ]
    },
    {
     "name": "stdout",
     "output_type": "stream",
     "text": [
      ">>> 3391 3391\n",
      ">>> 3392 3391\n"
     ]
    },
    {
     "name": "stderr",
     "output_type": "stream",
     "text": [
      "gid=x Start paren present but person is not a new concept\n",
      "gid=x Start paren present but name is not a new concept\n"
     ]
    },
    {
     "name": "stdout",
     "output_type": "stream",
     "text": [
      ">>> 3393 3391\n",
      ">>> 3394 3391\n",
      ">>> 3395 3391\n",
      ">>> 3396 3391\n",
      ">>> 3397 3391\n",
      ">>> 3398 3391\n",
      ">>> 3399 3391\n",
      ">>> 3400 3391\n",
      ">>> 3401 3401\n",
      ">>> 3402 3401\n",
      ">>> 3403 3401\n",
      ">>> 3404 3401\n",
      ">>> 3405 3401\n",
      ">>> 3406 3401\n",
      ">>> 3407 3401\n",
      ">>> 3408 3401\n",
      ">>> 3409 3401\n",
      ">>> 3410 3401\n",
      ">>> 3411 3411\n",
      ">>> 3412 3411\n",
      ">>> 3413 3411\n",
      ">>> 3414 3411\n",
      ">>> 3415 3411\n",
      ">>> 3416 3411\n",
      ">>> 3417 3411\n",
      ">>> 3418 3411\n",
      ">>> 3419 3411\n",
      ">>> 3420 3411\n",
      ">>> 3421 3421\n",
      ">>> 3422 3421\n",
      ">>> 3423 3421\n",
      ">>> 3424 3421\n",
      ">>> 3425 3421\n",
      ">>> 3426 3421\n",
      ">>> 3427 3421\n",
      ">>> 3428 3421\n",
      ">>> 3429 3421\n"
     ]
    },
    {
     "name": "stderr",
     "output_type": "stream",
     "text": [
      "gid=x Start paren present but cause-01 is not a new concept\n"
     ]
    },
    {
     "name": "stdout",
     "output_type": "stream",
     "text": [
      ">>> 3430 3421\n",
      ">>> 3431 3431\n",
      ">>> 3432 3431\n",
      ">>> 3433 3431\n",
      ">>> 3434 3431\n",
      ">>> 3435 3431\n",
      ">>> 3436 3431\n",
      ">>> 3437 3431\n",
      ">>> 3438 3431\n",
      ">>> 3439 3431\n",
      ">>> 3440 3431\n",
      ">>> 3441 3441\n",
      ">>> 3442 3441\n",
      ">>> 3443 3441\n",
      ">>> 3444 3441\n",
      ">>> 3445 3441\n",
      ">>> 3446 3441\n",
      ">>> 3447 3441\n",
      ">>> 3448 3441\n",
      ">>> 3449 3441\n",
      ">>> 3450 3441\n",
      ">>> 3451 3451\n",
      ">>> 3452 3451\n",
      ">>> 3453 3451\n",
      ">>> 3454 3451\n",
      ">>> 3455 3451\n",
      ">>> 3456 3451\n",
      ">>> 3457 3451\n",
      ">>> 3458 3451\n",
      ">>> 3459 3451\n",
      ">>> 3460 3451\n",
      ">>> 3461 3461\n",
      ">>> 3462 3461\n",
      ">>> 3463 3461\n",
      ">>> 3464 3461\n",
      ">>> 3465 3461\n",
      ">>> 3466 3461\n",
      ">>> 3467 3461\n",
      ">>> 3468 3461\n",
      ">>> 3469 3461\n",
      ">>> 3470 3461\n",
      ">>> 3471 3471\n",
      ">>> 3472 3471\n",
      ">>> 3473 3471\n",
      ">>> 3474 3471\n",
      ">>> 3475 3471\n",
      ">>> 3476 3471\n",
      ">>> 3477 3471\n",
      ">>> 3478 3471\n",
      ">>> 3479 3471\n",
      ">>> 3480 3471\n",
      ">>> 3481 3481\n",
      ">>> 3482 3481\n",
      ">>> 3483 3481\n",
      ">>> 3484 3481\n",
      ">>> 3485 3481\n",
      ">>> 3486 3481\n",
      ">>> 3487 3481\n",
      ">>> 3488 3481\n",
      ">>> 3489 3481\n",
      ">>> 3490 3481\n",
      ">>> 3491 3491\n",
      ">>> 3492 3491\n",
      ">>> 3493 3491\n",
      ">>> 3494 3491\n",
      ">>> 3495 3491\n",
      ">>> 3496 3491\n",
      ">>> 3497 3491\n",
      ">>> 3498 3491\n",
      ">>> 3499 3491\n",
      ">>> 3500 3491\n",
      ">>> 3501 3501\n",
      ">>> 3502 3501\n",
      ">>> 3503 3501\n",
      ">>> 3504 3501\n",
      ">>> 3505 3501\n",
      ">>> 3506 3501\n",
      ">>> 3507 3501\n",
      ">>> 3508 3501\n",
      ">>> 3509 3501\n",
      ">>> 3510 3501\n"
     ]
    },
    {
     "name": "stderr",
     "output_type": "stream",
     "text": [
      "gid=x Start paren present but short-07 is not a new concept\n"
     ]
    },
    {
     "name": "stdout",
     "output_type": "stream",
     "text": [
      ">>> 3511 3511\n",
      ">>> 3512 3511\n",
      ">>> 3513 3511\n"
     ]
    },
    {
     "name": "stderr",
     "output_type": "stream",
     "text": [
      "gid=x Missing starting paren for node p2/pitch\n",
      "gid=x Start paren present but have-degree-91 is not a new concept\n"
     ]
    },
    {
     "name": "stdout",
     "output_type": "stream",
     "text": [
      ">>> 3514 3511\n",
      ">>> 3515 3511\n",
      ">>> 3516 3511\n"
     ]
    },
    {
     "name": "stderr",
     "output_type": "stream",
     "text": [
      "gid=x Start paren present but have-degree-91 is not a new concept\n",
      "ignoring epigraph data for duplicate triple: ('h3', ':ARG1', 's2')\n"
     ]
    },
    {
     "name": "stdout",
     "output_type": "stream",
     "text": [
      ">>> 3517 3511\n",
      ">>> 3518 3511\n",
      ">>> 3519 3511\n",
      ">>> 3520 3511\n",
      ">>> 3521 3521\n"
     ]
    },
    {
     "name": "stderr",
     "output_type": "stream",
     "text": [
      "gid=x Start paren present but small is not a new concept\n"
     ]
    },
    {
     "name": "stdout",
     "output_type": "stream",
     "text": [
      ">>> 3522 3521\n",
      ">>> 3523 3521\n",
      ">>> 3524 3521\n",
      ">>> 3525 3521\n",
      ">>> 3526 3521\n",
      ">>> 3527 3521\n",
      ">>> 3528 3521\n",
      ">>> 3529 3521\n",
      ">>> 3530 3521\n",
      ">>> 3531 3531\n",
      ">>> 3532 3531\n",
      ">>> 3533 3531\n",
      ">>> 3534 3531\n",
      ">>> 3535 3531\n",
      ">>> 3536 3531\n",
      ">>> 3537 3531\n",
      ">>> 3538 3531\n",
      ">>> 3539 3531\n",
      ">>> 3540 3531\n",
      ">>> 3541 3541\n",
      ">>> 3542 3541\n",
      ">>> 3543 3541\n",
      ">>> 3544 3541\n",
      ">>> 3545 3541\n",
      ">>> 3546 3541\n",
      ">>> 3547 3541\n",
      ">>> 3548 3541\n",
      ">>> 3549 3541\n",
      ">>> 3550 3541\n",
      ">>> 3551 3551\n",
      ">>> 3552 3551\n",
      ">>> 3553 3551\n",
      ">>> 3554 3551\n",
      ">>> 3555 3551\n",
      ">>> 3556 3551\n",
      ">>> 3557 3551\n",
      ">>> 3558 3551\n",
      ">>> 3559 3551\n",
      ">>> 3560 3551\n",
      ">>> 3561 3561\n",
      ">>> 3562 3561\n",
      ">>> 3563 3561\n",
      ">>> 3564 3561\n",
      ">>> 3565 3561\n",
      ">>> 3566 3561\n",
      ">>> 3567 3561\n",
      ">>> 3568 3561\n",
      ">>> 3569 3561\n",
      ">>> 3570 3561\n",
      ">>> 3571 3571\n",
      ">>> 3572 3571\n"
     ]
    },
    {
     "name": "stderr",
     "output_type": "stream",
     "text": [
      "gid=x Start paren present but it is not a new concept\n"
     ]
    },
    {
     "name": "stdout",
     "output_type": "stream",
     "text": [
      ">>> 3573 3571\n",
      ">>> 3574 3571\n",
      ">>> 3575 3571\n"
     ]
    },
    {
     "name": "stderr",
     "output_type": "stream",
     "text": [
      "gid=x Start paren present but more is not a new concept\n"
     ]
    },
    {
     "name": "stdout",
     "output_type": "stream",
     "text": [
      ">>> 3576 3571\n",
      ">>> 3577 3571\n",
      ">>> 3578 3571\n",
      ">>> 3579 3571\n"
     ]
    },
    {
     "name": "stderr",
     "output_type": "stream",
     "text": [
      "gid=x Start paren present but more is not a new concept\n"
     ]
    },
    {
     "name": "stdout",
     "output_type": "stream",
     "text": [
      ">>> 3580 3571\n",
      ">>> 3581 3581\n",
      ">>> 3582 3581\n",
      ">>> 3583 3581\n",
      ">>> 3584 3581\n"
     ]
    },
    {
     "name": "stderr",
     "output_type": "stream",
     "text": [
      "gid=x Start paren present but have-degree-91 is not a new concept\n",
      "gid=x Start paren present but more is not a new concept\n"
     ]
    },
    {
     "name": "stdout",
     "output_type": "stream",
     "text": [
      ">>> 3585 3581\n",
      ">>> 3586 3581\n",
      ">>> 3587 3581\n",
      ">>> 3588 3581\n",
      ">>> 3589 3581\n",
      ">>> 3590 3581\n",
      ">>> 3591 3591\n",
      ">>> 3592 3591\n",
      ">>> 3593 3591\n",
      ">>> 3594 3591\n",
      ">>> 3595 3591\n",
      ">>> 3596 3591\n",
      ">>> 3597 3591\n",
      ">>> 3598 3591\n",
      ">>> 3599 3591\n",
      ">>> 3600 3591\n",
      ">>> 3601 3601\n",
      ">>> 3602 3601\n",
      ">>> 3603 3601\n",
      ">>> 3604 3601\n",
      ">>> 3605 3601\n",
      ">>> 3606 3601\n",
      ">>> 3607 3601\n",
      ">>> 3608 3601\n",
      ">>> 3609 3601\n",
      ">>> 3610 3601\n",
      ">>> 3611 3611\n",
      ">>> 3612 3611\n",
      ">>> 3613 3611\n"
     ]
    },
    {
     "name": "stderr",
     "output_type": "stream",
     "text": [
      "gid=x Start paren present but have-03 is not a new concept\n",
      "ignoring epigraph data for duplicate triple: ('h3', ':ARG0', 's3')\n"
     ]
    },
    {
     "name": "stdout",
     "output_type": "stream",
     "text": [
      ">>> 3614 3611\n",
      ">>> 3615 3611\n",
      ">>> 3616 3611\n",
      ">>> 3617 3611\n",
      ">>> 3618 3611\n",
      ">>> 3619 3611\n",
      ">>> 3620 3611\n",
      ">>> 3621 3621\n"
     ]
    },
    {
     "name": "stderr",
     "output_type": "stream",
     "text": [
      "gid=x Start paren present but have-degree-91 is not a new concept\n"
     ]
    },
    {
     "name": "stdout",
     "output_type": "stream",
     "text": [
      ">>> 3622 3621\n",
      ">>> 3623 3621\n",
      ">>> 3624 3621\n",
      ">>> 3625 3621\n",
      ">>> 3626 3621\n"
     ]
    },
    {
     "name": "stderr",
     "output_type": "stream",
     "text": [
      "gid=x Start paren present but more is not a new concept\n"
     ]
    },
    {
     "name": "stdout",
     "output_type": "stream",
     "text": [
      ">>> 3627 3621\n",
      ">>> 3628 3621\n",
      ">>> 3629 3621\n",
      ">>> 3630 3621\n",
      ">>> 3631 3631\n",
      ">>> 3632 3631\n",
      ">>> 3633 3631\n",
      ">>> 3634 3631\n",
      ">>> 3635 3631\n",
      ">>> 3636 3631\n",
      ">>> 3637 3631\n",
      ">>> 3638 3631\n",
      ">>> 3639 3631\n",
      ">>> 3640 3631\n",
      ">>> 3641 3641\n",
      ">>> 3642 3641\n",
      ">>> 3643 3641\n",
      ">>> 3644 3641\n",
      ">>> 3645 3641\n",
      ">>> 3646 3641\n",
      ">>> 3647 3641\n",
      ">>> 3648 3641\n",
      ">>> 3649 3641\n",
      ">>> 3650 3641\n",
      ">>> 3651 3651\n",
      ">>> 3652 3651\n",
      ">>> 3653 3651\n",
      ">>> 3654 3651\n",
      ">>> 3655 3651\n",
      ">>> 3656 3651\n",
      ">>> 3657 3651\n",
      ">>> 3658 3651\n",
      ">>> 3659 3651\n",
      ">>> 3660 3651\n",
      ">>> 3661 3661\n",
      ">>> 3662 3661\n",
      ">>> 3663 3661\n",
      ">>> 3664 3661\n",
      ">>> 3665 3661\n",
      ">>> 3666 3661\n",
      ">>> 3667 3661\n",
      ">>> 3668 3661\n",
      ">>> 3669 3661\n",
      ">>> 3670 3661\n",
      ">>> 3671 3671\n",
      ">>> 3672 3671\n",
      ">>> 3673 3671\n",
      ">>> 3674 3671\n",
      ">>> 3675 3671\n",
      ">>> 3676 3671\n",
      ">>> 3677 3671\n",
      ">>> 3678 3671\n",
      ">>> 3679 3671\n",
      ">>> 3680 3671\n",
      ">>> 3681 3681\n",
      ">>> 3682 3681\n",
      ">>> 3683 3681\n",
      ">>> 3684 3681\n",
      ">>> 3685 3681\n",
      ">>> 3686 3681\n",
      ">>> 3687 3681\n",
      ">>> 3688 3681\n",
      ">>> 3689 3681\n",
      ">>> 3690 3681\n",
      ">>> 3691 3691\n",
      ">>> 3692 3691\n",
      ">>> 3693 3691\n",
      ">>> 3694 3691\n",
      ">>> 3695 3691\n",
      ">>> 3696 3691\n",
      ">>> 3697 3691\n",
      ">>> 3698 3691\n",
      ">>> 3699 3691\n",
      ">>> 3700 3691\n",
      ">>> 3701 3701\n",
      ">>> 3702 3701\n",
      ">>> 3703 3701\n",
      ">>> 3704 3701\n"
     ]
    },
    {
     "name": "stderr",
     "output_type": "stream",
     "text": [
      "gid=x Start paren present but yes is not a new concept\n"
     ]
    },
    {
     "name": "stdout",
     "output_type": "stream",
     "text": [
      ">>> 3705 3701\n"
     ]
    },
    {
     "name": "stderr",
     "output_type": "stream",
     "text": [
      "gid=x Start paren present but cause-01 is not a new concept\n"
     ]
    },
    {
     "name": "stdout",
     "output_type": "stream",
     "text": [
      ">>> 3706 3701\n",
      ">>> 3707 3701\n",
      ">>> 3708 3701\n",
      ">>> 3709 3701\n",
      ">>> 3710 3701\n",
      ">>> 3711 3711\n",
      ">>> 3712 3711\n",
      ">>> 3713 3711\n",
      ">>> 3714 3711\n",
      ">>> 3715 3711\n",
      ">>> 3716 3711\n",
      ">>> 3717 3711\n",
      ">>> 3718 3711\n",
      ">>> 3719 3711\n",
      ">>> 3720 3711\n",
      ">>> 3721 3721\n",
      ">>> 3722 3721\n",
      ">>> 3723 3721\n",
      ">>> 3724 3721\n",
      ">>> 3725 3721\n",
      ">>> 3726 3721\n",
      ">>> 3727 3721\n",
      ">>> 3728 3721\n",
      ">>> 3729 3721\n"
     ]
    },
    {
     "name": "stderr",
     "output_type": "stream",
     "text": [
      "gid=x Start paren present but get-05 is not a new concept\n"
     ]
    },
    {
     "name": "stdout",
     "output_type": "stream",
     "text": [
      ">>> 3730 3721\n",
      ">>> 3731 3731\n",
      ">>> 3732 3731\n",
      ">>> 3733 3731\n",
      ">>> 3734 3731\n",
      ">>> 3735 3731\n",
      ">>> 3736 3731\n",
      ">>> 3737 3731\n",
      ">>> 3738 3731\n",
      ">>> 3739 3731\n",
      ">>> 3740 3731\n",
      ">>> 3741 3741\n",
      ">>> 3742 3741\n",
      ">>> 3743 3741\n",
      ">>> 3744 3741\n",
      ">>> 3745 3741\n",
      ">>> 3746 3741\n",
      ">>> 3747 3741\n",
      ">>> 3748 3741\n",
      ">>> 3749 3741\n",
      ">>> 3750 3741\n",
      ">>> 3751 3751\n",
      ">>> 3752 3751\n",
      ">>> 3753 3751\n",
      ">>> 3754 3751\n",
      ">>> 3755 3751\n",
      ">>> 3756 3751\n",
      ">>> 3757 3751\n",
      ">>> 3758 3751\n",
      ">>> 3759 3751\n",
      ">>> 3760 3751\n",
      ">>> 3761 3761\n",
      ">>> 3762 3761\n",
      ">>> 3763 3761\n",
      ">>> 3764 3761\n",
      ">>> 3765 3761\n",
      ">>> 3766 3761\n",
      ">>> 3767 3761\n",
      ">>> 3768 3761\n",
      ">>> 3769 3761\n",
      ">>> 3770 3761\n",
      ">>> 3771 3771\n",
      ">>> 3772 3771\n",
      ">>> 3773 3771\n",
      ">>> 3774 3771\n",
      ">>> 3775 3771\n",
      ">>> 3776 3771\n",
      ">>> 3777 3771\n",
      ">>> 3778 3771\n",
      ">>> 3779 3771\n",
      ">>> 3780 3771\n",
      ">>> 3781 3781\n",
      ">>> 3782 3781\n",
      ">>> 3783 3781\n",
      ">>> 3784 3781\n",
      ">>> 3785 3781\n",
      ">>> 3786 3781\n",
      ">>> 3787 3781\n",
      ">>> 3788 3781\n",
      ">>> 3789 3781\n",
      ">>> 3790 3781\n",
      ">>> 3791 3791\n",
      ">>> 3792 3791\n",
      ">>> 3793 3791\n",
      ">>> 3794 3791\n",
      ">>> 3795 3791\n",
      ">>> 3796 3791\n",
      ">>> 3797 3791\n",
      ">>> 3798 3791\n",
      ">>> 3799 3791\n",
      ">>> 3800 3791\n",
      ">>> 3801 3801\n",
      ">>> 3802 3801\n",
      ">>> 3803 3801\n",
      ">>> 3804 3801\n",
      ">>> 3805 3801\n",
      ">>> 3806 3801\n",
      ">>> 3807 3801\n",
      ">>> 3808 3801\n",
      ">>> 3809 3801\n",
      ">>> 3810 3801\n",
      ">>> 3811 3811\n",
      ">>> 3812 3811\n",
      ">>> 3813 3811\n",
      ">>> 3814 3811\n",
      ">>> 3815 3811\n",
      ">>> 3816 3811\n",
      ">>> 3817 3811\n",
      ">>> 3818 3811\n",
      ">>> 3819 3811\n",
      ">>> 3820 3811\n",
      ">>> 3821 3821\n",
      ">>> 3822 3821\n",
      ">>> 3823 3821\n",
      ">>> 3824 3821\n",
      ">>> 3825 3821\n",
      ">>> 3826 3821\n",
      ">>> 3827 3821\n",
      ">>> 3828 3821\n",
      ">>> 3829 3821\n",
      ">>> 3830 3821\n",
      ">>> 3831 3831\n",
      ">>> 3832 3831\n",
      ">>> 3833 3831\n",
      ">>> 3834 3831\n",
      ">>> 3835 3831\n",
      ">>> 3836 3831\n",
      ">>> 3837 3831\n",
      ">>> 3838 3831\n",
      ">>> 3839 3831\n",
      ">>> 3840 3831\n",
      ">>> 3841 3841\n",
      ">>> 3842 3841\n",
      ">>> 3843 3841\n",
      ">>> 3844 3841\n",
      ">>> 3845 3841\n",
      ">>> 3846 3841\n",
      ">>> 3847 3841\n",
      ">>> 3848 3841\n",
      ">>> 3849 3841\n"
     ]
    },
    {
     "name": "stderr",
     "output_type": "stream",
     "text": [
      "gid=x Start paren present but cause-01 is not a new concept\n"
     ]
    },
    {
     "name": "stdout",
     "output_type": "stream",
     "text": [
      ">>> 3850 3841\n",
      ">>> 3851 3851\n",
      ">>> 3852 3851\n",
      ">>> 3853 3851\n",
      ">>> 3854 3851\n",
      ">>> 3855 3851\n",
      ">>> 3856 3851\n",
      ">>> 3857 3851\n",
      ">>> 3858 3851\n",
      ">>> 3859 3851\n",
      ">>> 3860 3851\n",
      ">>> 3861 3861\n",
      ">>> 3862 3861\n",
      ">>> 3863 3861\n",
      ">>> 3864 3861\n",
      ">>> 3865 3861\n",
      ">>> 3866 3861\n",
      ">>> 3867 3861\n",
      ">>> 3868 3861\n",
      ">>> 3869 3861\n",
      ">>> 3870 3861\n",
      ">>> 3871 3871\n",
      ">>> 3872 3871\n",
      ">>> 3873 3871\n",
      ">>> 3874 3871\n",
      ">>> 3875 3871\n"
     ]
    },
    {
     "name": "stderr",
     "output_type": "stream",
     "text": [
      "gid=x Start paren present but west is not a new concept\n",
      "gid=x Start paren present but east is not a new concept\n"
     ]
    },
    {
     "name": "stdout",
     "output_type": "stream",
     "text": [
      ">>> 3876 3871\n",
      ">>> 3877 3871\n"
     ]
    },
    {
     "name": "stderr",
     "output_type": "stream",
     "text": [
      "gid=x Start paren present but be-located-at-91 is not a new concept\n"
     ]
    },
    {
     "name": "stdout",
     "output_type": "stream",
     "text": [
      ">>> 3878 3871\n",
      ">>> 3879 3871\n",
      ">>> 3880 3871\n"
     ]
    },
    {
     "name": "stderr",
     "output_type": "stream",
     "text": [
      "gid=x Missing starting paren for node e2/east\n"
     ]
    },
    {
     "name": "stdout",
     "output_type": "stream",
     "text": [
      ">>> 3881 3881\n",
      ">>> 3882 3881\n"
     ]
    },
    {
     "name": "stderr",
     "output_type": "stream",
     "text": [
      "gid=x Start paren present but be-located-at-91 is not a new concept\n"
     ]
    },
    {
     "name": "stdout",
     "output_type": "stream",
     "text": [
      ">>> 3883 3881\n",
      ">>> 3884 3881\n",
      ">>> 3885 3881\n",
      ">>> 3886 3881\n",
      ">>> 3887 3881\n",
      ">>> 3888 3881\n",
      ">>> 3889 3881\n",
      ">>> 3890 3881\n",
      ">>> 3891 3891\n",
      ">>> 3892 3891\n",
      ">>> 3893 3891\n",
      ">>> 3894 3891\n",
      ">>> 3895 3891\n",
      ">>> 3896 3891\n",
      ">>> 3897 3891\n",
      ">>> 3898 3891\n",
      ">>> 3899 3891\n",
      ">>> 3900 3891\n",
      ">>> 3901 3901\n"
     ]
    },
    {
     "name": "stderr",
     "output_type": "stream",
     "text": [
      "gid=x Start paren present but go-01 is not a new concept\n"
     ]
    },
    {
     "name": "stdout",
     "output_type": "stream",
     "text": [
      ">>> 3902 3901\n",
      ">>> 3903 3901\n",
      ">>> 3904 3901\n",
      ">>> 3905 3901\n",
      ">>> 3906 3901\n",
      ">>> 3907 3901\n",
      ">>> 3908 3901\n",
      ">>> 3909 3901\n",
      ">>> 3910 3901\n",
      ">>> 3911 3911\n",
      ">>> 3912 3911\n",
      ">>> 3913 3911\n",
      ">>> 3914 3911\n",
      ">>> 3915 3911\n"
     ]
    },
    {
     "name": "stderr",
     "output_type": "stream",
     "text": [
      "gid=x Start paren present but and is not a new concept\n"
     ]
    },
    {
     "name": "stdout",
     "output_type": "stream",
     "text": [
      ">>> 3916 3911\n",
      ">>> 3917 3911\n",
      ">>> 3918 3911\n",
      ">>> 3919 3911\n",
      ">>> 3920 3911\n",
      ">>> 3921 3921\n",
      ">>> 3922 3921\n"
     ]
    },
    {
     "name": "stderr",
     "output_type": "stream",
     "text": [
      "gid=x Start paren present but be-located-at-91 is not a new concept\n"
     ]
    },
    {
     "name": "stdout",
     "output_type": "stream",
     "text": [
      ">>> 3923 3921\n",
      ">>> 3924 3921\n",
      ">>> 3925 3921\n",
      ">>> 3926 3921\n",
      ">>> 3927 3921\n",
      ">>> 3928 3921\n",
      ">>> 3929 3921\n",
      ">>> 3930 3921\n",
      ">>> 3931 3931\n",
      ">>> 3932 3931\n",
      ">>> 3933 3931\n",
      ">>> 3934 3931\n",
      ">>> 3935 3931\n",
      ">>> 3936 3931\n",
      ">>> 3937 3931\n"
     ]
    },
    {
     "name": "stderr",
     "output_type": "stream",
     "text": [
      "gid=x Start paren present but sink is not a new concept\n"
     ]
    },
    {
     "name": "stdout",
     "output_type": "stream",
     "text": [
      ">>> 3938 3931\n",
      ">>> 3939 3931\n",
      ">>> 3940 3931\n",
      ">>> 3941 3941\n",
      ">>> 3942 3941\n",
      ">>> 3943 3941\n",
      ">>> 3944 3941\n",
      ">>> 3945 3941\n",
      ">>> 3946 3941\n",
      ">>> 3947 3941\n",
      ">>> 3948 3941\n",
      ">>> 3949 3941\n",
      ">>> 3950 3941\n",
      ">>> 3951 3951\n",
      ">>> 3952 3951\n",
      ">>> 3953 3951\n",
      ">>> 3954 3951\n",
      ">>> 3955 3951\n",
      ">>> 3956 3951\n",
      ">>> 3957 3951\n"
     ]
    },
    {
     "name": "stderr",
     "output_type": "stream",
     "text": [
      "gid=x Start paren present but sink-01 is not a new concept\n"
     ]
    },
    {
     "name": "stdout",
     "output_type": "stream",
     "text": [
      ">>> 3958 3951\n",
      ">>> 3959 3951\n",
      ">>> 3960 3951\n",
      ">>> 3961 3961\n",
      ">>> 3962 3961\n",
      ">>> 3963 3961\n",
      ">>> 3964 3961\n",
      ">>> 3965 3961\n",
      ">>> 3966 3961\n",
      ">>> 3967 3961\n"
     ]
    },
    {
     "name": "stderr",
     "output_type": "stream",
     "text": [
      "gid=x Missing starting paren for node ii2/i\n",
      "gid=x Start paren present but temperature is not a new concept\n",
      "gid=x Start paren present but distance-quantity is not a new concept\n",
      "gid=x Start paren present but space is not a new concept\n"
     ]
    },
    {
     "name": "stdout",
     "output_type": "stream",
     "text": [
      ">>> 3968 3961\n",
      ">>> 3969 3961\n",
      ">>> 3970 3961\n"
     ]
    },
    {
     "name": "stderr",
     "output_type": "stream",
     "text": [
      "gid=x Missing starting paren for node t2/temperature-quantity\n"
     ]
    },
    {
     "name": "stdout",
     "output_type": "stream",
     "text": [
      ">>> 3971 3971\n",
      ">>> 3972 3971\n",
      ">>> 3973 3971\n",
      ">>> 3974 3971\n",
      ">>> 3975 3971\n",
      ">>> 3976 3971\n",
      ">>> 3977 3971\n"
     ]
    },
    {
     "name": "stderr",
     "output_type": "stream",
     "text": [
      "gid=x Start paren present but small is not a new concept\n"
     ]
    },
    {
     "name": "stdout",
     "output_type": "stream",
     "text": [
      ">>> 3978 3971\n",
      ">>> 3979 3971\n",
      ">>> 3980 3971\n",
      ">>> 3981 3981\n",
      ">>> 3982 3981\n"
     ]
    },
    {
     "name": "stderr",
     "output_type": "stream",
     "text": [
      "gid=x Start paren present but it is not a new concept\n"
     ]
    },
    {
     "name": "stdout",
     "output_type": "stream",
     "text": [
      ">>> 3983 3981\n",
      ">>> 3984 3981\n",
      ">>> 3985 3981\n",
      ">>> 3986 3981\n",
      ">>> 3987 3981\n"
     ]
    },
    {
     "name": "stderr",
     "output_type": "stream",
     "text": [
      "gid=x Start paren present but centimeter is not a new concept\n"
     ]
    },
    {
     "name": "stdout",
     "output_type": "stream",
     "text": [
      ">>> 3988 3981\n",
      ">>> 3989 3981\n"
     ]
    },
    {
     "name": "stderr",
     "output_type": "stream",
     "text": [
      "gid=x Start paren present but between is not a new concept\n"
     ]
    },
    {
     "name": "stdout",
     "output_type": "stream",
     "text": [
      ">>> 3990 3981\n",
      ">>> 3991 3991\n",
      ">>> 3992 3991\n",
      ">>> 3993 3991\n",
      ">>> 3994 3991\n"
     ]
    },
    {
     "name": "stderr",
     "output_type": "stream",
     "text": [
      "gid=x Start paren present but have-degree-91 is not a new concept\n"
     ]
    },
    {
     "name": "stdout",
     "output_type": "stream",
     "text": [
      ">>> 3995 3991\n",
      ">>> 3996 3991\n",
      ">>> 3997 3991\n"
     ]
    },
    {
     "name": "stderr",
     "output_type": "stream",
     "text": [
      "gid=x Start paren present but temperature is not a new concept\n",
      "gid=x Start paren present but look-01 is not a new concept\n"
     ]
    },
    {
     "name": "stdout",
     "output_type": "stream",
     "text": [
      ">>> 3998 3991\n",
      ">>> 3999 3991\n"
     ]
    },
    {
     "name": "stderr",
     "output_type": "stream",
     "text": [
      "gid=x Start paren present but have-degree-91 is not a new concept\n"
     ]
    },
    {
     "name": "stdout",
     "output_type": "stream",
     "text": [
      ">>> 4000 3991\n",
      ">>> 4001 4001\n",
      ">>> 4002 4001\n"
     ]
    },
    {
     "name": "stderr",
     "output_type": "stream",
     "text": [
      "gid=x Replacing attrib 5, with \"5,\"\n"
     ]
    },
    {
     "name": "stdout",
     "output_type": "stream",
     "text": [
      ">>> 4003 4001\n",
      ">>> 4004 4001\n",
      ">>> 4005 4001\n"
     ]
    },
    {
     "name": "stderr",
     "output_type": "stream",
     "text": [
      "gid=x Start paren present but more is not a new concept\n"
     ]
    },
    {
     "name": "stdout",
     "output_type": "stream",
     "text": [
      ">>> 4006 4001\n",
      ">>> 4007 4001\n",
      ">>> 4008 4001\n",
      ">>> 4009 4001\n",
      ">>> 4010 4001\n",
      ">>> 4011 4011\n",
      ">>> 4012 4011\n",
      ">>> 4013 4011\n",
      ">>> 4014 4011\n",
      ">>> 4015 4011\n",
      ">>> 4016 4011\n",
      ">>> 4017 4011\n",
      ">>> 4018 4011\n",
      ">>> 4019 4011\n",
      ">>> 4020 4011\n",
      ">>> 4021 4021\n",
      ">>> 4022 4021\n",
      ">>> 4023 4021\n",
      ">>> 4024 4021\n",
      ">>> 4025 4021\n",
      ">>> 4026 4021\n",
      ">>> 4027 4021\n",
      ">>> 4028 4021\n",
      ">>> 4029 4021\n",
      ">>> 4030 4021\n"
     ]
    },
    {
     "name": "stderr",
     "output_type": "stream",
     "text": [
      "gid=x Missing starting paren for node w/water\n"
     ]
    },
    {
     "name": "stdout",
     "output_type": "stream",
     "text": [
      ">>> 4031 4031\n",
      ">>> 4032 4031\n",
      ">>> 4033 4031\n"
     ]
    },
    {
     "name": "stderr",
     "output_type": "stream",
     "text": [
      "gid=x Missing starting paren for node a/absorb-01\n",
      "gid=x Start paren present but absorb-01 is not a new concept\n",
      "gid=x Missing starting paren for node c3/cover\n"
     ]
    },
    {
     "name": "stdout",
     "output_type": "stream",
     "text": [
      ">>> 4034 4031\n",
      ">>> 4035 4031\n",
      ">>> 4036 4031\n"
     ]
    },
    {
     "name": "stderr",
     "output_type": "stream",
     "text": [
      "gid=x Start paren present but cause-01 is not a new concept\n"
     ]
    },
    {
     "name": "stdout",
     "output_type": "stream",
     "text": [
      ">>> 4037 4031\n",
      ">>> 4038 4031\n",
      ">>> 4039 4031\n",
      ">>> 4040 4031\n",
      ">>> 4041 4041\n",
      ">>> 4042 4041\n",
      ">>> 4043 4041\n",
      ">>> 4044 4041\n",
      ">>> 4045 4041\n"
     ]
    },
    {
     "name": "stderr",
     "output_type": "stream",
     "text": [
      "gid=x Start paren present but have-degree-91 is not a new concept\n",
      "gid=x Start paren present but more is not a new concept\n"
     ]
    },
    {
     "name": "stdout",
     "output_type": "stream",
     "text": [
      ">>> 4046 4041\n",
      ">>> 4047 4041\n",
      ">>> 4048 4041\n",
      ">>> 4049 4041\n",
      ">>> 4050 4041\n"
     ]
    },
    {
     "name": "stderr",
     "output_type": "stream",
     "text": [
      "gid=x Start paren present but have-degree-91 is not a new concept\n",
      "gid=x Start paren present but more is not a new concept\n",
      "gid=x Start paren present but red-02 is not a new concept\n",
      "ignoring epigraph data for duplicate triple: ('h2', ':ARG1', 'c3')\n"
     ]
    },
    {
     "name": "stdout",
     "output_type": "stream",
     "text": [
      ">>> 4051 4051\n"
     ]
    },
    {
     "name": "stderr",
     "output_type": "stream",
     "text": [
      "gid=x Start paren present but more is not a new concept\n"
     ]
    },
    {
     "name": "stdout",
     "output_type": "stream",
     "text": [
      ">>> 4052 4051\n",
      ">>> 4053 4051\n",
      ">>> 4054 4051\n",
      ">>> 4055 4051\n",
      ">>> 4056 4051\n",
      ">>> 4057 4051\n",
      ">>> 4058 4051\n"
     ]
    },
    {
     "name": "stderr",
     "output_type": "stream",
     "text": [
      "gid=x Missing starting paren for node b3/blue\n"
     ]
    },
    {
     "name": "stdout",
     "output_type": "stream",
     "text": [
      ">>> 4059 4051\n",
      ">>> 4060 4051\n",
      ">>> 4061 4061\n",
      ">>> 4062 4061\n",
      ">>> 4063 4061\n",
      ">>> 4064 4061\n",
      ">>> 4065 4061\n",
      ">>> 4066 4061\n"
     ]
    },
    {
     "name": "stderr",
     "output_type": "stream",
     "text": [
      "gid=x Start paren present but have-degree-91 is not a new concept\n",
      "gid=x Start paren present but more is not a new concept\n"
     ]
    },
    {
     "name": "stdout",
     "output_type": "stream",
     "text": [
      ">>> 4067 4061\n",
      ">>> 4068 4061\n",
      ">>> 4069 4061\n",
      ">>> 4070 4061\n",
      ">>> 4071 4071\n",
      ">>> 4072 4071\n",
      ">>> 4073 4071\n",
      ">>> 4074 4071\n",
      ">>> 4075 4071\n",
      ">>> 4076 4071\n",
      ">>> 4077 4071\n",
      ">>> 4078 4071\n",
      ">>> 4079 4071\n",
      ">>> 4080 4071\n",
      ">>> 4081 4081\n",
      ">>> 4082 4081\n",
      ">>> 4083 4081\n",
      ">>> 4084 4081\n",
      ">>> 4085 4081\n",
      ">>> 4086 4081\n",
      ">>> 4087 4081\n",
      ">>> 4088 4081\n",
      ">>> 4089 4081\n",
      ">>> 4090 4081\n",
      ">>> 4091 4091\n",
      ">>> 4092 4091\n",
      ">>> 4093 4091\n",
      ">>> 4094 4091\n",
      ">>> 4095 4091\n",
      ">>> 4096 4091\n",
      ">>> 4097 4091\n",
      ">>> 4098 4091\n",
      ">>> 4099 4091\n",
      ">>> 4100 4091\n",
      ">>> 4101 4101\n",
      ">>> 4102 4101\n",
      ">>> 4103 4101\n"
     ]
    },
    {
     "name": "stderr",
     "output_type": "stream",
     "text": [
      "gid=x Start paren present but have-degree-91 is not a new concept\n",
      "gid=x Start paren present but more is not a new concept\n",
      "ignoring epigraph data for duplicate triple: ('h', ':ARG3', 'm')\n"
     ]
    },
    {
     "name": "stdout",
     "output_type": "stream",
     "text": [
      ">>> 4104 4101\n",
      ">>> 4105 4101\n",
      ">>> 4106 4101\n",
      ">>> 4107 4101\n",
      ">>> 4108 4101\n",
      ">>> 4109 4101\n",
      ">>> 4110 4101\n",
      ">>> 4111 4111\n",
      ">>> 4112 4111\n",
      ">>> 4113 4111\n",
      ">>> 4114 4111\n",
      ">>> 4115 4111\n",
      ">>> 4116 4111\n",
      ">>> 4117 4111\n",
      ">>> 4118 4111\n",
      ">>> 4119 4111\n",
      ">>> 4120 4111\n",
      ">>> 4121 4121\n",
      ">>> 4122 4121\n",
      ">>> 4123 4121\n"
     ]
    },
    {
     "name": "stderr",
     "output_type": "stream",
     "text": [
      "gid=x Start paren present but color is not a new concept\n"
     ]
    },
    {
     "name": "stdout",
     "output_type": "stream",
     "text": [
      ">>> 4124 4121\n",
      ">>> 4125 4121\n",
      ">>> 4126 4121\n",
      ">>> 4127 4121\n",
      ">>> 4128 4121\n",
      ">>> 4129 4121\n",
      ">>> 4130 4121\n",
      ">>> 4131 4131\n",
      ">>> 4132 4131\n",
      ">>> 4133 4131\n",
      ">>> 4134 4131\n",
      ">>> 4135 4131\n",
      ">>> 4136 4131\n"
     ]
    },
    {
     "name": "stderr",
     "output_type": "stream",
     "text": [
      "gid=x Start paren present but heat is not a new concept\n"
     ]
    },
    {
     "name": "stdout",
     "output_type": "stream",
     "text": [
      ">>> 4137 4131\n",
      ">>> 4138 4131\n",
      ">>> 4139 4131\n",
      ">>> 4140 4131\n"
     ]
    },
    {
     "name": "stderr",
     "output_type": "stream",
     "text": [
      "gid=x Start paren present but have-degree-91 is not a new concept\n",
      "gid=x Start paren present but more is not a new concept\n"
     ]
    },
    {
     "name": "stdout",
     "output_type": "stream",
     "text": [
      ">>> 4141 4141\n",
      ">>> 4142 4141\n",
      ">>> 4143 4141\n",
      ">>> 4144 4141\n",
      ">>> 4145 4141\n",
      ">>> 4146 4141\n",
      ">>> 4147 4141\n",
      ">>> 4148 4141\n",
      ">>> 4149 4141\n",
      ">>> 4150 4141\n",
      ">>> 4151 4151\n",
      ">>> 4152 4151\n",
      ">>> 4153 4151\n",
      ">>> 4154 4151\n",
      ">>> 4155 4151\n",
      ">>> 4156 4151\n",
      ">>> 4157 4151\n",
      ">>> 4158 4151\n",
      ">>> 4159 4151\n",
      ">>> 4160 4151\n",
      ">>> 4161 4161\n",
      ">>> 4162 4161\n",
      ">>> 4163 4161\n",
      ">>> 4164 4161\n",
      ">>> 4165 4161\n",
      ">>> 4166 4161\n",
      ">>> 4167 4161\n",
      ">>> 4168 4161\n",
      ">>> 4169 4161\n",
      ">>> 4170 4161\n",
      ">>> 4171 4171\n",
      ">>> 4172 4171\n",
      ">>> 4173 4171\n",
      ">>> 4174 4171\n",
      ">>> 4175 4171\n",
      ">>> 4176 4171\n",
      ">>> 4177 4171\n",
      ">>> 4178 4171\n",
      ">>> 4179 4171\n",
      ">>> 4180 4171\n",
      ">>> 4181 4181\n"
     ]
    },
    {
     "name": "stderr",
     "output_type": "stream",
     "text": [
      "gid=x Start paren present but more is not a new concept\n"
     ]
    },
    {
     "name": "stdout",
     "output_type": "stream",
     "text": [
      ">>> 4182 4181\n",
      ">>> 4183 4181\n",
      ">>> 4184 4181\n",
      ">>> 4185 4181\n",
      ">>> 4186 4181\n",
      ">>> 4187 4181\n",
      ">>> 4188 4181\n",
      ">>> 4189 4181\n",
      ">>> 4190 4181\n",
      ">>> 4191 4191\n"
     ]
    },
    {
     "name": "stderr",
     "output_type": "stream",
     "text": [
      "gid=x Missing starting paren for node s5/slow-05\n"
     ]
    },
    {
     "name": "stdout",
     "output_type": "stream",
     "text": [
      ">>> 4192 4191\n",
      ">>> 4193 4191\n",
      ">>> 4194 4191\n"
     ]
    },
    {
     "name": "stderr",
     "output_type": "stream",
     "text": [
      "gid=x Start paren present but soil is not a new concept\n",
      "gid=x Missing starting paren for node c3/celsius\n"
     ]
    },
    {
     "name": "stdout",
     "output_type": "stream",
     "text": [
      ">>> 4195 4191\n",
      ">>> 4196 4191\n",
      ">>> 4197 4191\n",
      ">>> 4198 4191\n",
      ">>> 4199 4191\n"
     ]
    },
    {
     "name": "stderr",
     "output_type": "stream",
     "text": [
      "gid=x Missing starting paren for node b2/bring-01\n"
     ]
    },
    {
     "name": "stdout",
     "output_type": "stream",
     "text": [
      ">>> 4200 4191\n"
     ]
    },
    {
     "name": "stderr",
     "output_type": "stream",
     "text": [
      "gid=x Start paren present but dry-02 is not a new concept\n"
     ]
    },
    {
     "name": "stdout",
     "output_type": "stream",
     "text": [
      ">>> 4201 4201\n",
      ">>> 4202 4201\n",
      ">>> 4203 4201\n"
     ]
    },
    {
     "name": "stderr",
     "output_type": "stream",
     "text": [
      "gid=x Start paren present but more is not a new concept\n"
     ]
    },
    {
     "name": "stdout",
     "output_type": "stream",
     "text": [
      ">>> 4204 4201\n",
      ">>> 4205 4201\n",
      ">>> 4206 4201\n",
      ">>> 4207 4201\n"
     ]
    },
    {
     "name": "stderr",
     "output_type": "stream",
     "text": [
      "gid=x Start paren present but cause-01 is not a new concept\n"
     ]
    },
    {
     "name": "stdout",
     "output_type": "stream",
     "text": [
      ">>> 4208 4201\n",
      ">>> 4209 4201\n",
      ">>> 4210 4201\n",
      ">>> 4211 4211\n"
     ]
    },
    {
     "name": "stderr",
     "output_type": "stream",
     "text": [
      "gid=x Start paren present but have-degree-91 is not a new concept\n"
     ]
    },
    {
     "name": "stdout",
     "output_type": "stream",
     "text": [
      ">>> 4212 4211\n"
     ]
    },
    {
     "name": "stderr",
     "output_type": "stream",
     "text": [
      "gid=x Start paren present but cause-01 is not a new concept\n",
      "gid=x Missing starting paren for node o/or\n"
     ]
    },
    {
     "name": "stdout",
     "output_type": "stream",
     "text": [
      ">>> 4213 4211\n"
     ]
    },
    {
     "name": "stderr",
     "output_type": "stream",
     "text": [
      "gid=x Start paren present but have-degree-91 is not a new concept\n",
      "gid=x Start paren present but more is not a new concept\n"
     ]
    },
    {
     "name": "stdout",
     "output_type": "stream",
     "text": [
      ">>> 4214 4211\n",
      ">>> 4215 4211\n",
      ">>> 4216 4211\n",
      ">>> 4217 4211\n",
      ">>> 4218 4211\n",
      ">>> 4219 4211\n",
      ">>> 4220 4211\n",
      ">>> 4221 4221\n",
      ">>> 4222 4221\n",
      ">>> 4223 4221\n",
      ">>> 4224 4221\n"
     ]
    },
    {
     "name": "stderr",
     "output_type": "stream",
     "text": [
      "gid=x Start paren present but have-concession-91 is not a new concept\n"
     ]
    },
    {
     "name": "stdout",
     "output_type": "stream",
     "text": [
      ">>> 4225 4221\n",
      ">>> 4226 4221\n",
      ">>> 4227 4221\n",
      ">>> 4228 4221\n"
     ]
    },
    {
     "name": "stderr",
     "output_type": "stream",
     "text": [
      "gid=x Start paren present but name is not a new concept\n",
      "gid=x Start paren present but big is not a new concept\n"
     ]
    },
    {
     "name": "stdout",
     "output_type": "stream",
     "text": [
      ">>> 4229 4221\n",
      ">>> 4230 4221\n"
     ]
    },
    {
     "name": "stderr",
     "output_type": "stream",
     "text": [
      "gid=x Start paren present but they is not a new concept\n"
     ]
    },
    {
     "name": "stdout",
     "output_type": "stream",
     "text": [
      ">>> 4231 4231\n",
      ">>> 4232 4231\n",
      ">>> 4233 4231\n"
     ]
    },
    {
     "name": "stderr",
     "output_type": "stream",
     "text": [
      "gid=x Start paren present but have-degree-91 is not a new concept\n",
      "gid=x Start paren present but hot-05 is not a new concept\n",
      "gid=x Start paren present but more is not a new concept\n"
     ]
    },
    {
     "name": "stdout",
     "output_type": "stream",
     "text": [
      ">>> 4234 4231\n"
     ]
    },
    {
     "name": "stderr",
     "output_type": "stream",
     "text": [
      "gid=x Start paren present but heat-01 is not a new concept\n",
      "gid=x Start paren present but heat-01 is not a new concept\n",
      "gid=x Missing starting paren for node w/water\n"
     ]
    },
    {
     "name": "stdout",
     "output_type": "stream",
     "text": [
      ">>> 4235 4231\n",
      ">>> 4236 4231\n"
     ]
    },
    {
     "name": "stderr",
     "output_type": "stream",
     "text": [
      "gid=x Missing starting paren for node m3/more\n"
     ]
    },
    {
     "name": "stdout",
     "output_type": "stream",
     "text": [
      ">>> 4237 4231\n",
      ">>> 4238 4231\n",
      ">>> 4239 4231\n"
     ]
    },
    {
     "name": "stderr",
     "output_type": "stream",
     "text": [
      "gid=x Start paren present but name is not a new concept\n"
     ]
    },
    {
     "name": "stdout",
     "output_type": "stream",
     "text": [
      ">>> 4240 4231\n",
      ">>> 4241 4241\n"
     ]
    },
    {
     "name": "stderr",
     "output_type": "stream",
     "text": [
      "gid=x Start paren present but have-degree-91 is not a new concept\n",
      "gid=x Start paren present but person is not a new concept\n",
      "gid=x Start paren present but name is not a new concept\n"
     ]
    },
    {
     "name": "stdout",
     "output_type": "stream",
     "text": [
      ">>> 4242 4241\n",
      ">>> 4243 4241\n"
     ]
    },
    {
     "name": "stderr",
     "output_type": "stream",
     "text": [
      "gid=x Start paren present but more is not a new concept\n"
     ]
    },
    {
     "name": "stdout",
     "output_type": "stream",
     "text": [
      ">>> 4244 4241\n"
     ]
    },
    {
     "name": "stderr",
     "output_type": "stream",
     "text": [
      "gid=x Start paren present but table is not a new concept\n"
     ]
    },
    {
     "name": "stdout",
     "output_type": "stream",
     "text": [
      ">>> 4245 4241\n",
      ">>> 4246 4241\n",
      ">>> 4247 4241\n",
      ">>> 4248 4241\n"
     ]
    },
    {
     "name": "stderr",
     "output_type": "stream",
     "text": [
      "gid=x Start paren present but chart is not a new concept\n",
      "gid=x Start paren present but table is not a new concept\n"
     ]
    },
    {
     "name": "stdout",
     "output_type": "stream",
     "text": [
      ">>> 4249 4241\n",
      ">>> 4250 4241\n"
     ]
    },
    {
     "name": "stderr",
     "output_type": "stream",
     "text": [
      "gid=x Start paren present but it is not a new concept\n"
     ]
    },
    {
     "name": "stdout",
     "output_type": "stream",
     "text": [
      ">>> 4251 4251\n",
      ">>> 4252 4251\n",
      ">>> 4253 4251\n",
      ">>> 4254 4251\n",
      ">>> 4255 4251\n",
      ">>> 4256 4251\n"
     ]
    },
    {
     "name": "stderr",
     "output_type": "stream",
     "text": [
      "gid=x Start paren present but it is not a new concept\n"
     ]
    },
    {
     "name": "stdout",
     "output_type": "stream",
     "text": [
      ">>> 4257 4251\n",
      ">>> 4258 4251\n",
      ">>> 4259 4251\n"
     ]
    },
    {
     "name": "stderr",
     "output_type": "stream",
     "text": [
      "gid=x Start paren present but differ-02 is not a new concept\n"
     ]
    },
    {
     "name": "stdout",
     "output_type": "stream",
     "text": [
      ">>> 4260 4251\n",
      ">>> 4261 4261\n",
      ">>> 4262 4261\n",
      ">>> 4263 4261\n",
      ">>> 4264 4261\n",
      ">>> 4265 4261\n"
     ]
    },
    {
     "name": "stderr",
     "output_type": "stream",
     "text": [
      "gid=x Missing starting paren for node e2/east\n"
     ]
    },
    {
     "name": "stdout",
     "output_type": "stream",
     "text": [
      ">>> 4266 4261\n",
      ">>> 4267 4261\n",
      ">>> 4268 4261\n",
      ">>> 4269 4261\n",
      ">>> 4270 4261\n",
      ">>> 4271 4271\n",
      ">>> 4272 4271\n"
     ]
    },
    {
     "name": "stderr",
     "output_type": "stream",
     "text": [
      "gid=x Start paren present but west is not a new concept\n"
     ]
    },
    {
     "name": "stdout",
     "output_type": "stream",
     "text": [
      ">>> 4273 4271\n",
      ">>> 4274 4271\n",
      ">>> 4275 4271\n",
      ">>> 4276 4271\n",
      ">>> 4277 4271\n",
      ">>> 4278 4271\n",
      ">>> 4279 4271\n",
      ">>> 4280 4271\n"
     ]
    },
    {
     "name": "stderr",
     "output_type": "stream",
     "text": [
      "gid=x Missing starting paren for node e2/east\n"
     ]
    },
    {
     "name": "stdout",
     "output_type": "stream",
     "text": [
      ">>> 4281 4281\n",
      ">>> 4282 4281\n",
      ">>> 4283 4281\n",
      ">>> 4284 4281\n",
      ">>> 4285 4281\n",
      ">>> 4286 4281\n",
      ">>> 4287 4281\n",
      ">>> 4288 4281\n"
     ]
    },
    {
     "name": "stderr",
     "output_type": "stream",
     "text": [
      "gid=x Start paren present but black-04 is not a new concept\n",
      "gid=x Start paren present but more is not a new concept\n"
     ]
    },
    {
     "name": "stdout",
     "output_type": "stream",
     "text": [
      ">>> 4289 4281\n",
      ">>> 4290 4281\n",
      ">>> 4291 4291\n",
      ">>> 4292 4291\n",
      ">>> 4293 4291\n",
      ">>> 4294 4291\n",
      ">>> 4295 4291\n",
      ">>> 4296 4291\n",
      ">>> 4297 4291\n",
      ">>> 4298 4291\n",
      ">>> 4299 4291\n",
      ">>> 4300 4291\n",
      ">>> 4301 4301\n",
      ">>> 4302 4301\n",
      ">>> 4303 4301\n",
      ">>> 4304 4301\n",
      ">>> 4305 4301\n",
      ">>> 4306 4301\n",
      ">>> 4307 4301\n",
      ">>> 4308 4301\n",
      ">>> 4309 4301\n"
     ]
    },
    {
     "name": "stderr",
     "output_type": "stream",
     "text": [
      "gid=x Start paren present but heat is not a new concept\n"
     ]
    },
    {
     "name": "stdout",
     "output_type": "stream",
     "text": [
      ">>> 4310 4301\n"
     ]
    },
    {
     "name": "stderr",
     "output_type": "stream",
     "text": [
      "gid=x Missing starting paren for node h2/heat-up-03\n",
      "gid=x Start paren present but have-degree-91 is not a new concept\n",
      "gid=x Start paren present but more is not a new concept\n",
      "ignoring epigraph data for duplicate triple: ('h', ':ARG1', 'b')\n"
     ]
    },
    {
     "name": "stdout",
     "output_type": "stream",
     "text": [
      ">>> 4311 4311\n"
     ]
    },
    {
     "name": "stderr",
     "output_type": "stream",
     "text": [
      "gid=x Start paren present but box is not a new concept\n"
     ]
    },
    {
     "name": "stdout",
     "output_type": "stream",
     "text": [
      ">>> 4312 4311\n",
      ">>> 4313 4311\n",
      ">>> 4314 4311\n"
     ]
    },
    {
     "name": "stderr",
     "output_type": "stream",
     "text": [
      "gid=x Start paren present but more is not a new concept\n"
     ]
    },
    {
     "name": "stdout",
     "output_type": "stream",
     "text": [
      ">>> 4315 4311\n",
      ">>> 4316 4311\n",
      ">>> 4317 4311\n",
      ">>> 4318 4311\n",
      ">>> 4319 4311\n",
      ">>> 4320 4311\n"
     ]
    },
    {
     "name": "stderr",
     "output_type": "stream",
     "text": [
      "gid=x Start paren present but black-05 is not a new concept\n"
     ]
    },
    {
     "name": "stdout",
     "output_type": "stream",
     "text": [
      ">>> 4321 4321\n"
     ]
    },
    {
     "name": "stderr",
     "output_type": "stream",
     "text": [
      "gid=x Start paren present but white-02 is not a new concept\n"
     ]
    },
    {
     "name": "stdout",
     "output_type": "stream",
     "text": [
      ">>> 4322 4321\n"
     ]
    },
    {
     "name": "stderr",
     "output_type": "stream",
     "text": [
      "gid=x Start paren present but black-05 is not a new concept\n"
     ]
    },
    {
     "name": "stdout",
     "output_type": "stream",
     "text": [
      ">>> 4323 4321\n"
     ]
    },
    {
     "name": "stderr",
     "output_type": "stream",
     "text": [
      "gid=x Start paren present but yes is not a new concept\n"
     ]
    },
    {
     "name": "stdout",
     "output_type": "stream",
     "text": [
      ">>> 4324 4321\n",
      ">>> 4325 4321\n",
      ">>> 4326 4321\n",
      ">>> 4327 4321\n",
      ">>> 4328 4321\n"
     ]
    },
    {
     "name": "stderr",
     "output_type": "stream",
     "text": [
      "gid=x Start paren present but have-03 is not a new concept\n",
      "gid=x Start paren present but heat-01 is not a new concept\n",
      "gid=x Start paren present but sun is not a new concept\n"
     ]
    },
    {
     "name": "stdout",
     "output_type": "stream",
     "text": [
      ">>> 4329 4321\n",
      ">>> 4330 4321\n",
      ">>> 4331 4331\n"
     ]
    },
    {
     "name": "stderr",
     "output_type": "stream",
     "text": [
      "gid=x Start paren present but name is not a new concept\n"
     ]
    },
    {
     "name": "stdout",
     "output_type": "stream",
     "text": [
      ">>> 4332 4331\n",
      ">>> 4333 4331\n",
      ">>> 4334 4331\n",
      ">>> 4335 4331\n",
      ">>> 4336 4331\n",
      ">>> 4337 4331\n",
      ">>> 4338 4331\n"
     ]
    },
    {
     "name": "stderr",
     "output_type": "stream",
     "text": [
      "gid=x Start paren present but more is not a new concept\n"
     ]
    },
    {
     "name": "stdout",
     "output_type": "stream",
     "text": [
      ">>> 4339 4331\n",
      ">>> 4340 4331\n",
      ">>> 4341 4341\n",
      ">>> 4342 4341\n",
      ">>> 4343 4341\n",
      ">>> 4344 4341\n"
     ]
    },
    {
     "name": "stderr",
     "output_type": "stream",
     "text": [
      "gid=x Start paren present but name is not a new concept\n"
     ]
    },
    {
     "name": "stdout",
     "output_type": "stream",
     "text": [
      ">>> 4345 4341\n",
      ">>> 4346 4341\n",
      ">>> 4347 4341\n",
      ">>> 4348 4341\n",
      ">>> 4349 4341\n",
      ">>> 4350 4341\n",
      ">>> 4351 4351\n",
      ">>> 4352 4351\n",
      ">>> 4353 4351\n",
      ">>> 4354 4351\n",
      ">>> 4355 4351\n",
      ">>> 4356 4351\n",
      ">>> 4357 4351\n",
      ">>> 4358 4351\n",
      ">>> 4359 4351\n",
      ">>> 4360 4351\n",
      ">>> 4361 4361\n",
      ">>> 4362 4361\n",
      ">>> 4363 4361\n",
      ">>> 4364 4361\n",
      ">>> 4365 4361\n",
      ">>> 4366 4361\n",
      ">>> 4367 4361\n",
      ">>> 4368 4361\n",
      ">>> 4369 4361\n",
      ">>> 4370 4361\n",
      ">>> 4371 4371\n",
      ">>> 4372 4371\n",
      ">>> 4373 4371\n",
      ">>> 4374 4371\n",
      ">>> 4375 4371\n",
      ">>> 4376 4371\n",
      ">>> 4377 4371\n",
      ">>> 4378 4371\n",
      ">>> 4379 4371\n",
      ">>> 4380 4371\n",
      ">>> 4381 4381\n",
      ">>> 4382 4381\n",
      ">>> 4383 4381\n",
      ">>> 4384 4381\n",
      ">>> 4385 4381\n",
      ">>> 4386 4381\n",
      ">>> 4387 4381\n",
      ">>> 4388 4381\n",
      ">>> 4389 4381\n",
      ">>> 4390 4381\n",
      ">>> 4391 4391\n",
      ">>> 4392 4391\n",
      ">>> 4393 4391\n",
      ">>> 4394 4391\n",
      ">>> 4395 4391\n",
      ">>> 4396 4391\n",
      ">>> 4397 4391\n",
      ">>> 4398 4391\n",
      ">>> 4399 4391\n",
      ">>> 4400 4391\n",
      ">>> 4401 4401\n",
      ">>> 4402 4401\n",
      ">>> 4403 4401\n",
      ">>> 4404 4401\n",
      ">>> 4405 4401\n",
      ">>> 4406 4401\n",
      ">>> 4407 4401\n",
      ">>> 4408 4401\n",
      ">>> 4409 4401\n",
      ">>> 4410 4401\n",
      ">>> 4411 4411\n",
      ">>> 4412 4411\n",
      ">>> 4413 4411\n",
      ">>> 4414 4411\n",
      ">>> 4415 4411\n",
      ">>> 4416 4411\n",
      ">>> 4417 4411\n",
      ">>> 4418 4411\n",
      ">>> 4419 4411\n",
      ">>> 4420 4411\n",
      ">>> 4421 4421\n",
      ">>> 4422 4421\n",
      ">>> 4423 4421\n",
      ">>> 4424 4421\n",
      ">>> 4425 4421\n",
      ">>> 4426 4421\n",
      ">>> 4427 4421\n",
      ">>> 4428 4421\n",
      ">>> 4429 4421\n",
      ">>> 4430 4421\n",
      ">>> 4431 4431\n",
      ">>> 4432 4431\n",
      ">>> 4433 4431\n",
      ">>> 4434 4431\n",
      ">>> 4435 4431\n",
      ">>> 4436 4431\n",
      ">>> 4437 4431\n",
      ">>> 4438 4431\n",
      ">>> 4439 4431\n",
      ">>> 4440 4431\n",
      ">>> 4441 4441\n",
      ">>> 4442 4441\n",
      ">>> 4443 4441\n",
      ">>> 4444 4441\n",
      ">>> 4445 4441\n",
      ">>> 4446 4441\n",
      ">>> 4447 4441\n",
      ">>> 4448 4441\n",
      ">>> 4449 4441\n",
      ">>> 4450 4441\n",
      ">>> 4451 4451\n",
      ">>> 4452 4451\n",
      ">>> 4453 4451\n",
      ">>> 4454 4451\n",
      ">>> 4455 4451\n",
      ">>> 4456 4451\n",
      ">>> 4457 4451\n",
      ">>> 4458 4451\n",
      ">>> 4459 4451\n",
      ">>> 4460 4451\n",
      ">>> 4461 4461\n",
      ">>> 4462 4461\n",
      ">>> 4463 4461\n",
      ">>> 4464 4461\n",
      ">>> 4465 4461\n",
      ">>> 4466 4461\n",
      ">>> 4467 4461\n",
      ">>> 4468 4461\n",
      ">>> 4469 4461\n",
      ">>> 4470 4461\n",
      ">>> 4471 4471\n",
      ">>> 4472 4471\n",
      ">>> 4473 4471\n",
      ">>> 4474 4471\n",
      ">>> 4475 4471\n",
      ">>> 4476 4471\n",
      ">>> 4477 4471\n",
      ">>> 4478 4471\n",
      ">>> 4479 4471\n",
      ">>> 4480 4471\n",
      ">>> 4481 4481\n",
      ">>> 4482 4481\n",
      ">>> 4483 4481\n",
      ">>> 4484 4481\n",
      ">>> 4485 4481\n",
      ">>> 4486 4481\n",
      ">>> 4487 4481\n",
      ">>> 4488 4481\n",
      ">>> 4489 4481\n",
      ">>> 4490 4481\n",
      ">>> 4491 4491\n",
      ">>> 4492 4491\n",
      ">>> 4493 4491\n",
      ">>> 4494 4491\n",
      ">>> 4495 4491\n",
      ">>> 4496 4491\n",
      ">>> 4497 4491\n",
      ">>> 4498 4491\n",
      ">>> 4499 4491\n",
      ">>> 4500 4491\n",
      ">>> 4501 4501\n",
      ">>> 4502 4501\n",
      ">>> 4503 4501\n",
      ">>> 4504 4501\n",
      ">>> 4505 4501\n",
      ">>> 4506 4501\n",
      ">>> 4507 4501\n",
      ">>> 4508 4501\n",
      ">>> 4509 4501\n",
      ">>> 4510 4501\n",
      ">>> 4511 4511\n",
      ">>> 4512 4511\n",
      ">>> 4513 4511\n",
      ">>> 4514 4511\n",
      ">>> 4515 4511\n",
      ">>> 4516 4511\n",
      ">>> 4517 4511\n",
      ">>> 4518 4511\n",
      ">>> 4519 4511\n",
      ">>> 4520 4511\n",
      ">>> 4521 4521\n",
      ">>> 4522 4521\n",
      ">>> 4523 4521\n",
      ">>> 4524 4521\n",
      ">>> 4525 4521\n",
      ">>> 4526 4521\n",
      ">>> 4527 4521\n",
      ">>> 4528 4521\n",
      ">>> 4529 4521\n",
      ">>> 4530 4521\n",
      ">>> 4531 4531\n",
      ">>> 4532 4531\n",
      ">>> 4533 4531\n",
      ">>> 4534 4531\n",
      ">>> 4535 4531\n",
      ">>> 4536 4531\n",
      ">>> 4537 4531\n",
      ">>> 4538 4531\n",
      ">>> 4539 4531\n",
      ">>> 4540 4531\n",
      ">>> 4541 4541\n",
      ">>> 4542 4541\n",
      ">>> 4543 4541\n",
      ">>> 4544 4541\n",
      ">>> 4545 4541\n",
      ">>> 4546 4541\n",
      ">>> 4547 4541\n",
      ">>> 4548 4541\n",
      ">>> 4549 4541\n",
      ">>> 4550 4541\n",
      ">>> 4551 4551\n",
      ">>> 4552 4551\n",
      ">>> 4553 4551\n",
      ">>> 4554 4551\n",
      ">>> 4555 4551\n",
      ">>> 4556 4551\n",
      ">>> 4557 4551\n",
      ">>> 4558 4551\n",
      ">>> 4559 4551\n",
      ">>> 4560 4551\n",
      ">>> 4561 4561\n",
      ">>> 4562 4561\n",
      ">>> 4563 4561\n",
      ">>> 4564 4561\n",
      ">>> 4565 4561\n",
      ">>> 4566 4561\n",
      ">>> 4567 4561\n",
      ">>> 4568 4561\n",
      ">>> 4569 4561\n",
      ">>> 4570 4561\n",
      ">>> 4571 4571\n",
      ">>> 4572 4571\n",
      ">>> 4573 4571\n",
      ">>> 4574 4571\n",
      ">>> 4575 4571\n",
      ">>> 4576 4571\n",
      ">>> 4577 4571\n",
      ">>> 4578 4571\n",
      ">>> 4579 4571\n",
      ">>> 4580 4571\n",
      ">>> 4581 4581\n",
      ">>> 4582 4581\n",
      ">>> 4583 4581\n",
      ">>> 4584 4581\n",
      ">>> 4585 4581\n",
      ">>> 4586 4581\n",
      ">>> 4587 4581\n",
      ">>> 4588 4581\n",
      ">>> 4589 4581\n",
      ">>> 4590 4581\n",
      ">>> 4591 4591\n",
      ">>> 4592 4591\n",
      ">>> 4593 4591\n",
      ">>> 4594 4591\n",
      ">>> 4595 4591\n",
      ">>> 4596 4591\n",
      ">>> 4597 4591\n",
      ">>> 4598 4591\n",
      ">>> 4599 4591\n",
      ">>> 4600 4591\n",
      ">>> 4601 4601\n",
      ">>> 4602 4601\n",
      ">>> 4603 4601\n",
      ">>> 4604 4601\n",
      ">>> 4605 4601\n",
      ">>> 4606 4601\n",
      ">>> 4607 4601\n",
      ">>> 4608 4601\n",
      ">>> 4609 4601\n",
      ">>> 4610 4601\n",
      ">>> 4611 4611\n",
      ">>> 4612 4611\n",
      ">>> 4613 4611\n",
      ">>> 4614 4611\n",
      ">>> 4615 4611\n",
      ">>> 4616 4611\n",
      ">>> 4617 4611\n",
      ">>> 4618 4611\n",
      ">>> 4619 4611\n",
      ">>> 4620 4611\n",
      ">>> 4621 4621\n",
      ">>> 4622 4621\n",
      ">>> 4623 4621\n",
      ">>> 4624 4621\n",
      ">>> 4625 4621\n",
      ">>> 4626 4621\n",
      ">>> 4627 4621\n",
      ">>> 4628 4621\n",
      ">>> 4629 4621\n",
      ">>> 4630 4621\n",
      ">>> 4631 4631\n",
      ">>> 4632 4631\n",
      ">>> 4633 4631\n",
      ">>> 4634 4631\n",
      ">>> 4635 4631\n",
      ">>> 4636 4631\n",
      ">>> 4637 4631\n",
      ">>> 4638 4631\n",
      ">>> 4639 4631\n",
      ">>> 4640 4631\n",
      ">>> 4641 4641\n",
      ">>> 4642 4641\n",
      ">>> 4643 4641\n"
     ]
    },
    {
     "name": "stderr",
     "output_type": "stream",
     "text": [
      "gid=x Start paren present but there is not a new concept\n"
     ]
    },
    {
     "name": "stdout",
     "output_type": "stream",
     "text": [
      ">>> 4644 4641\n"
     ]
    },
    {
     "name": "stderr",
     "output_type": "stream",
     "text": [
      "gid=x Start paren present but thing is not a new concept\n",
      "gid=x Start paren present but towel is not a new concept\n"
     ]
    },
    {
     "name": "stdout",
     "output_type": "stream",
     "text": [
      ">>> 4645 4641\n"
     ]
    },
    {
     "name": "stderr",
     "output_type": "stream",
     "text": [
      "gid=x Start paren present but habitat is not a new concept\n"
     ]
    },
    {
     "name": "stdout",
     "output_type": "stream",
     "text": [
      ">>> 4646 4641\n",
      ">>> 4647 4641\n",
      ">>> 4648 4641\n",
      ">>> 4649 4641\n",
      ">>> 4650 4641\n",
      ">>> 4651 4651\n",
      ">>> 4652 4651\n"
     ]
    },
    {
     "name": "stderr",
     "output_type": "stream",
     "text": [
      "gid=x Start paren present but observe-01 is not a new concept\n"
     ]
    },
    {
     "name": "stdout",
     "output_type": "stream",
     "text": [
      ">>> 4653 4651\n",
      ">>> 4654 4651\n",
      ">>> 4655 4651\n",
      ">>> 4656 4651\n",
      ">>> 4657 4651\n",
      ">>> 4658 4651\n",
      ">>> 4659 4651\n",
      ">>> 4660 4651\n",
      ">>> 4661 4661\n",
      ">>> 4662 4661\n",
      ">>> 4663 4661\n",
      ">>> 4664 4661\n",
      ">>> 4665 4661\n"
     ]
    },
    {
     "name": "stderr",
     "output_type": "stream",
     "text": [
      "gid=x Start paren present but other is not a new concept\n",
      "gid=x Start paren present but put-01 is not a new concept\n"
     ]
    },
    {
     "name": "stdout",
     "output_type": "stream",
     "text": [
      ">>> 4666 4661\n"
     ]
    },
    {
     "name": "stderr",
     "output_type": "stream",
     "text": [
      "gid=x Start paren present but other is not a new concept\n"
     ]
    },
    {
     "name": "stdout",
     "output_type": "stream",
     "text": [
      ">>> 4667 4661\n",
      ">>> 4668 4661\n",
      ">>> 4669 4661\n",
      ">>> 4670 4661\n",
      ">>> 4671 4671\n",
      ">>> 4672 4671\n",
      ">>> 4673 4671\n",
      ">>> 4674 4671\n",
      ">>> 4675 4671\n",
      ">>> 4676 4671\n",
      ">>> 4677 4671\n",
      ">>> 4678 4671\n",
      ">>> 4679 4671\n",
      ">>> 4680 4671\n",
      ">>> 4681 4681\n",
      ">>> 4682 4681\n"
     ]
    },
    {
     "name": "stderr",
     "output_type": "stream",
     "text": [
      "gid=x Start paren present but prefer-01 is not a new concept\n"
     ]
    },
    {
     "name": "stdout",
     "output_type": "stream",
     "text": [
      ">>> 4683 4681\n",
      ">>> 4684 4681\n",
      ">>> 4685 4681\n",
      ">>> 4686 4681\n",
      ">>> 4687 4681\n",
      ">>> 4688 4681\n",
      ">>> 4689 4681\n",
      ">>> 4690 4681\n",
      ">>> 4691 4691\n",
      ">>> 4692 4691\n",
      ">>> 4693 4691\n",
      ">>> 4694 4691\n",
      ">>> 4695 4691\n",
      ">>> 4696 4691\n",
      ">>> 4697 4691\n",
      ">>> 4698 4691\n",
      ">>> 4699 4691\n",
      ">>> 4700 4691\n",
      ">>> 4701 4701\n",
      ">>> 4702 4701\n",
      ">>> 4703 4701\n",
      ">>> 4704 4701\n"
     ]
    },
    {
     "name": "stderr",
     "output_type": "stream",
     "text": [
      "gid=x Start paren present but leaf is not a new concept\n",
      "gid=x Start paren present but cause-01 is not a new concept\n"
     ]
    },
    {
     "name": "stdout",
     "output_type": "stream",
     "text": [
      ">>> 4705 4701\n"
     ]
    },
    {
     "name": "stderr",
     "output_type": "stream",
     "text": [
      "gid=x Start paren present but rock is not a new concept\n",
      "gid=x Start paren present but leaf is not a new concept\n"
     ]
    },
    {
     "name": "stdout",
     "output_type": "stream",
     "text": [
      ">>> 4706 4701\n",
      ">>> 4707 4701\n"
     ]
    },
    {
     "name": "stderr",
     "output_type": "stream",
     "text": [
      "gid=x Start paren present but differ-02 is not a new concept\n"
     ]
    },
    {
     "name": "stdout",
     "output_type": "stream",
     "text": [
      ">>> 4708 4701\n",
      ">>> 4709 4701\n",
      ">>> 4710 4701\n"
     ]
    },
    {
     "name": "stderr",
     "output_type": "stream",
     "text": [
      "gid=x Start paren present but then is not a new concept\n",
      "ignoring epigraph data for duplicate triple: ('c', ':time', 't2')\n"
     ]
    },
    {
     "name": "stdout",
     "output_type": "stream",
     "text": [
      ">>> 4711 4711\n",
      ">>> 4712 4711\n"
     ]
    },
    {
     "name": "stderr",
     "output_type": "stream",
     "text": [
      "gid=x Start paren present but stick is not a new concept\n"
     ]
    },
    {
     "name": "stdout",
     "output_type": "stream",
     "text": [
      ">>> 4713 4711\n",
      ">>> 4714 4711\n",
      ">>> 4715 4711\n",
      ">>> 4716 4711\n",
      ">>> 4717 4711\n",
      ">>> 4718 4711\n",
      ">>> 4719 4711\n",
      ">>> 4720 4711\n",
      ">>> 4721 4721\n",
      ">>> 4722 4721\n",
      ">>> 4723 4721\n",
      ">>> 4724 4721\n",
      ">>> 4725 4721\n",
      ">>> 4726 4721\n",
      ">>> 4727 4721\n",
      ">>> 4728 4721\n",
      ">>> 4729 4721\n",
      ">>> 4730 4721\n",
      ">>> 4731 4731\n",
      ">>> 4732 4731\n",
      ">>> 4733 4731\n",
      ">>> 4734 4731\n",
      ">>> 4735 4731\n",
      ">>> 4736 4731\n",
      ">>> 4737 4731\n",
      ">>> 4738 4731\n",
      ">>> 4739 4731\n",
      ">>> 4740 4731\n",
      ">>> 4741 4741\n",
      ">>> 4742 4741\n",
      ">>> 4743 4741\n",
      ">>> 4744 4741\n",
      ">>> 4745 4741\n",
      ">>> 4746 4741\n",
      ">>> 4747 4741\n",
      ">>> 4748 4741\n",
      ">>> 4749 4741\n",
      ">>> 4750 4741\n",
      ">>> 4751 4751\n",
      ">>> 4752 4751\n",
      ">>> 4753 4751\n",
      ">>> 4754 4751\n",
      ">>> 4755 4751\n",
      ">>> 4756 4751\n",
      ">>> 4757 4751\n",
      ">>> 4758 4751\n",
      ">>> 4759 4751\n",
      ">>> 4760 4751\n",
      ">>> 4761 4761\n",
      ">>> 4762 4761\n",
      ">>> 4763 4761\n",
      ">>> 4764 4761\n",
      ">>> 4765 4761\n",
      ">>> 4766 4761\n",
      ">>> 4767 4761\n",
      ">>> 4768 4761\n",
      ">>> 4769 4761\n",
      ">>> 4770 4761\n",
      ">>> 4771 4771\n",
      ">>> 4772 4771\n",
      ">>> 4773 4771\n",
      ">>> 4774 4771\n",
      ">>> 4775 4771\n",
      ">>> 4776 4771\n",
      ">>> 4777 4771\n",
      ">>> 4778 4771\n",
      ">>> 4779 4771\n",
      ">>> 4780 4771\n",
      ">>> 4781 4781\n",
      ">>> 4782 4781\n",
      ">>> 4783 4781\n",
      ">>> 4784 4781\n",
      ">>> 4785 4781\n",
      ">>> 4786 4781\n",
      ">>> 4787 4781\n",
      ">>> 4788 4781\n",
      ">>> 4789 4781\n",
      ">>> 4790 4781\n",
      ">>> 4791 4791\n",
      ">>> 4792 4791\n"
     ]
    },
    {
     "name": "stderr",
     "output_type": "stream",
     "text": [
      "gid=x Missing starting paren for node g2/go-01\n"
     ]
    },
    {
     "name": "stdout",
     "output_type": "stream",
     "text": [
      ">>> 4793 4791\n",
      ">>> 4794 4791\n",
      ">>> 4795 4791\n",
      ">>> 4796 4791\n",
      ">>> 4797 4791\n",
      ">>> 4798 4791\n",
      ">>> 4799 4791\n",
      ">>> 4800 4791\n",
      ">>> 4801 4801\n"
     ]
    },
    {
     "name": "stderr",
     "output_type": "stream",
     "text": [
      "gid=x Start paren present but string is not a new concept\n"
     ]
    },
    {
     "name": "stdout",
     "output_type": "stream",
     "text": [
      ">>> 4802 4801\n"
     ]
    },
    {
     "name": "stderr",
     "output_type": "stream",
     "text": [
      "gid=x Start paren present but more is not a new concept\n"
     ]
    },
    {
     "name": "stdout",
     "output_type": "stream",
     "text": [
      ">>> 4803 4801\n"
     ]
    },
    {
     "name": "stderr",
     "output_type": "stream",
     "text": [
      "gid=x Missing starting paren for node g/go-01\n"
     ]
    },
    {
     "name": "stdout",
     "output_type": "stream",
     "text": [
      ">>> 4804 4801\n",
      ">>> 4805 4801\n",
      ">>> 4806 4801\n",
      ">>> 4807 4801\n",
      ">>> 4808 4801\n",
      ">>> 4809 4801\n",
      ">>> 4810 4801\n"
     ]
    },
    {
     "name": "stderr",
     "output_type": "stream",
     "text": [
      "gid=x Start paren present but swing-01 is not a new concept\n",
      "gid=x Missing starting paren for node l2/long-03\n"
     ]
    },
    {
     "name": "stdout",
     "output_type": "stream",
     "text": [
      ">>> 4811 4811\n",
      ">>> 4812 4811\n",
      ">>> 4813 4811\n",
      ">>> 4814 4811\n",
      ">>> 4815 4811\n",
      ">>> 4816 4811\n",
      ">>> 4817 4811\n",
      ">>> 4818 4811\n",
      ">>> 4819 4811\n",
      ">>> 4820 4811\n",
      ">>> 4821 4821\n",
      ">>> 4822 4821\n",
      ">>> 4823 4821\n",
      ">>> 4824 4821\n",
      ">>> 4825 4821\n",
      ">>> 4826 4821\n",
      ">>> 4827 4821\n",
      ">>> 4828 4821\n",
      ">>> 4829 4821\n",
      ">>> 4830 4821\n",
      ">>> 4831 4831\n",
      ">>> 4832 4831\n",
      ">>> 4833 4831\n",
      ">>> 4834 4831\n",
      ">>> 4835 4831\n",
      ">>> 4836 4831\n",
      ">>> 4837 4831\n",
      ">>> 4838 4831\n",
      ">>> 4839 4831\n",
      ">>> 4840 4831\n",
      ">>> 4841 4841\n",
      ">>> 4842 4841\n",
      ">>> 4843 4841\n",
      ">>> 4844 4841\n",
      ">>> 4845 4841\n",
      ">>> 4846 4841\n",
      ">>> 4847 4841\n",
      ">>> 4848 4841\n",
      ">>> 4849 4841\n",
      ">>> 4850 4841\n",
      ">>> 4851 4851\n",
      ">>> 4852 4851\n",
      ">>> 4853 4851\n",
      ">>> 4854 4851\n",
      ">>> 4855 4851\n",
      ">>> 4856 4851\n",
      ">>> 4857 4851\n",
      ">>> 4858 4851\n",
      ">>> 4859 4851\n",
      ">>> 4860 4851\n",
      ">>> 4861 4861\n",
      ">>> 4862 4861\n",
      ">>> 4863 4861\n",
      ">>> 4864 4861\n",
      ">>> 4865 4861\n",
      ">>> 4866 4861\n",
      ">>> 4867 4861\n",
      ">>> 4868 4861\n",
      ">>> 4869 4861\n",
      ">>> 4870 4861\n",
      ">>> 4871 4871\n",
      ">>> 4872 4871\n",
      ">>> 4873 4871\n",
      ">>> 4874 4871\n",
      ">>> 4875 4871\n",
      ">>> 4876 4871\n",
      ">>> 4877 4871\n",
      ">>> 4878 4871\n",
      ">>> 4879 4871\n",
      ">>> 4880 4871\n",
      ">>> 4881 4881\n",
      ">>> 4882 4881\n",
      ">>> 4883 4881\n",
      ">>> 4884 4881\n",
      ">>> 4885 4881\n",
      ">>> 4886 4881\n",
      ">>> 4887 4881\n",
      ">>> 4888 4881\n",
      ">>> 4889 4881\n",
      ">>> 4890 4881\n",
      ">>> 4891 4891\n",
      ">>> 4892 4891\n",
      ">>> 4893 4891\n",
      ">>> 4894 4891\n",
      ">>> 4895 4891\n",
      ">>> 4896 4891\n",
      ">>> 4897 4891\n",
      ">>> 4898 4891\n",
      ">>> 4899 4891\n",
      ">>> 4900 4891\n",
      ">>> 4901 4901\n",
      ">>> 4902 4901\n",
      ">>> 4903 4901\n"
     ]
    },
    {
     "name": "stderr",
     "output_type": "stream",
     "text": [
      "gid=x Start paren present but second is not a new concept\n"
     ]
    },
    {
     "name": "stdout",
     "output_type": "stream",
     "text": [
      ">>> 4904 4901\n",
      ">>> 4905 4901\n",
      ">>> 4906 4901\n",
      ">>> 4907 4901\n",
      ">>> 4908 4901\n",
      ">>> 4909 4901\n",
      ">>> 4910 4901\n",
      ">>> 4911 4911\n",
      ">>> 4912 4911\n",
      ">>> 4913 4911\n",
      ">>> 4914 4911\n",
      ">>> 4915 4911\n",
      ">>> 4916 4911\n",
      ">>> 4917 4911\n",
      ">>> 4918 4911\n",
      ">>> 4919 4911\n",
      ">>> 4920 4911\n",
      ">>> 4921 4921\n",
      ">>> 4922 4921\n",
      ">>> 4923 4921\n",
      ">>> 4924 4921\n",
      ">>> 4925 4921\n",
      ">>> 4926 4921\n",
      ">>> 4927 4921\n",
      ">>> 4928 4921\n",
      ">>> 4929 4921\n",
      ">>> 4930 4921\n",
      ">>> 4931 4931\n",
      ">>> 4932 4931\n",
      ">>> 4933 4931\n"
     ]
    },
    {
     "name": "stderr",
     "output_type": "stream",
     "text": [
      "gid=x Start paren present but circle-01 is not a new concept\n",
      "gid=x Start paren present but big is not a new concept\n",
      "ignoring epigraph data for duplicate triple: ('c3', ':ARG0', 'ii')\n"
     ]
    },
    {
     "name": "stdout",
     "output_type": "stream",
     "text": [
      ">>> 4934 4931\n",
      ">>> 4935 4931\n",
      ">>> 4936 4931\n",
      ">>> 4937 4931\n",
      ">>> 4938 4931\n",
      ">>> 4939 4931\n",
      ">>> 4940 4931\n",
      ">>> 4941 4941\n",
      ">>> 4942 4941\n",
      ">>> 4943 4941\n",
      ">>> 4944 4941\n",
      ">>> 4945 4941\n",
      ">>> 4946 4941\n",
      ">>> 4947 4941\n",
      ">>> 4948 4941\n",
      ">>> 4949 4941\n"
     ]
    },
    {
     "name": "stderr",
     "output_type": "stream",
     "text": [
      "gid=x Start paren present but top is not a new concept\n",
      "gid=x Start paren present but bottom is not a new concept\n",
      "gid=x Start paren present but right-08 is not a new concept\n"
     ]
    },
    {
     "name": "stdout",
     "output_type": "stream",
     "text": [
      ">>> 4950 4941\n",
      ">>> 4951 4951\n",
      ">>> 4952 4951\n"
     ]
    },
    {
     "name": "stderr",
     "output_type": "stream",
     "text": [
      "gid=x Start paren present but cause-01 is not a new concept\n",
      "ignoring epigraph data for duplicate triple: ('c4', ':ARG0', 'p2')\n"
     ]
    },
    {
     "name": "stdout",
     "output_type": "stream",
     "text": [
      ">>> 4953 4951\n",
      ">>> 4954 4951\n",
      ">>> 4955 4951\n"
     ]
    },
    {
     "name": "stderr",
     "output_type": "stream",
     "text": [
      "gid=x Start paren present but small is not a new concept\n"
     ]
    },
    {
     "name": "stdout",
     "output_type": "stream",
     "text": [
      ">>> 4956 4951\n"
     ]
    },
    {
     "name": "stderr",
     "output_type": "stream",
     "text": [
      "gid=x Start paren present but right-08 is not a new concept\n",
      "gid=x Missing starting paren for node w2/wheel\n",
      "gid=x Start paren present but travel-01 is not a new concept\n",
      "ignoring epigraph data for duplicate triple: ('t4', ':ARG1', 'd')\n"
     ]
    },
    {
     "name": "stdout",
     "output_type": "stream",
     "text": [
      ">>> 4957 4951\n",
      ">>> 4958 4951\n",
      ">>> 4959 4951\n",
      ">>> 4960 4951\n",
      ">>> 4961 4961\n",
      ">>> 4962 4961\n",
      ">>> 4963 4961\n",
      ">>> 4964 4961\n",
      ">>> 4965 4961\n"
     ]
    },
    {
     "name": "stderr",
     "output_type": "stream",
     "text": [
      "gid=x Start paren present but ordinal-entity is not a new concept\n",
      "gid=x Start paren present but top is not a new concept\n"
     ]
    },
    {
     "name": "stdout",
     "output_type": "stream",
     "text": [
      ">>> 4966 4961\n",
      ">>> 4967 4961\n",
      ">>> 4968 4961\n",
      ">>> 4969 4961\n",
      ">>> 4970 4961\n",
      ">>> 4971 4971\n",
      ">>> 4972 4971\n",
      ">>> 4973 4971\n",
      ">>> 4974 4971\n",
      ">>> 4975 4971\n",
      ">>> 4976 4971\n",
      ">>> 4977 4971\n",
      ">>> 4978 4971\n",
      ">>> 4979 4971\n"
     ]
    },
    {
     "name": "stderr",
     "output_type": "stream",
     "text": [
      "gid=x Start paren present but short-06 is not a new concept\n"
     ]
    },
    {
     "name": "stdout",
     "output_type": "stream",
     "text": [
      ">>> 4980 4971\n",
      ">>> 4981 4981\n",
      ">>> 4982 4981\n"
     ]
    },
    {
     "name": "stderr",
     "output_type": "stream",
     "text": [
      "gid=x Start paren present but one is not a new concept\n"
     ]
    },
    {
     "name": "stdout",
     "output_type": "stream",
     "text": [
      ">>> 4983 4981\n",
      ">>> 4984 4981\n",
      ">>> 4985 4981\n",
      ">>> 4986 4981\n",
      ">>> 4987 4981\n"
     ]
    },
    {
     "name": "stderr",
     "output_type": "stream",
     "text": [
      "gid=x Start paren present but car is not a new concept\n"
     ]
    },
    {
     "name": "stdout",
     "output_type": "stream",
     "text": [
      ">>> 4988 4981\n",
      ">>> 4989 4981\n",
      ">>> 4990 4981\n",
      ">>> 4991 4991\n",
      ">>> 4992 4991\n",
      ">>> 4993 4991\n",
      ">>> 4994 4991\n",
      ">>> 4995 4991\n",
      ">>> 4996 4991\n",
      ">>> 4997 4991\n",
      ">>> 4998 4991\n",
      ">>> 4999 4991\n",
      ">>> 5000 4991\n",
      ">>> 5001 5001\n",
      ">>> 5002 5001\n",
      ">>> 5003 5001\n",
      ">>> 5004 5001\n",
      ">>> 5005 5001\n",
      ">>> 5006 5001\n",
      ">>> 5007 5001\n",
      ">>> 5008 5001\n",
      ">>> 5009 5001\n",
      ">>> 5010 5001\n",
      ">>> 5011 5011\n",
      ">>> 5012 5011\n",
      ">>> 5013 5011\n",
      ">>> 5014 5011\n",
      ">>> 5015 5011\n",
      ">>> 5016 5011\n",
      ">>> 5017 5011\n",
      ">>> 5018 5011\n",
      ">>> 5019 5011\n"
     ]
    },
    {
     "name": "stderr",
     "output_type": "stream",
     "text": [
      "gid=x Start paren present but mass is not a new concept\n"
     ]
    },
    {
     "name": "stdout",
     "output_type": "stream",
     "text": [
      ">>> 5020 5011\n",
      ">>> 5021 5021\n",
      ">>> 5022 5021\n",
      ">>> 5023 5021\n",
      ">>> 5024 5021\n",
      ">>> 5025 5021\n",
      ">>> 5026 5021\n",
      ">>> 5027 5021\n",
      ">>> 5028 5021\n",
      ">>> 5029 5021\n",
      ">>> 5030 5021\n",
      ">>> 5031 5031\n",
      ">>> 5032 5031\n",
      ">>> 5033 5031\n",
      ">>> 5034 5031\n",
      ">>> 5035 5031\n",
      ">>> 5036 5031\n",
      ">>> 5037 5031\n",
      ">>> 5038 5031\n",
      ">>> 5039 5031\n",
      ">>> 5040 5031\n",
      ">>> 5041 5041\n",
      ">>> 5042 5041\n",
      ">>> 5043 5041\n",
      ">>> 5044 5041\n",
      ">>> 5045 5041\n"
     ]
    },
    {
     "name": "stderr",
     "output_type": "stream",
     "text": [
      "gid=x Start paren present but more is not a new concept\n"
     ]
    },
    {
     "name": "stdout",
     "output_type": "stream",
     "text": [
      ">>> 5046 5041\n",
      ">>> 5047 5041\n",
      ">>> 5048 5041\n"
     ]
    },
    {
     "name": "stderr",
     "output_type": "stream",
     "text": [
      "gid=x Start paren present but variable is not a new concept\n"
     ]
    },
    {
     "name": "stdout",
     "output_type": "stream",
     "text": [
      ">>> 5049 5041\n",
      ">>> 5050 5041\n",
      ">>> 5051 5051\n",
      ">>> 5052 5051\n"
     ]
    },
    {
     "name": "stderr",
     "output_type": "stream",
     "text": [
      "gid=x Missing starting paren for node g2/go-01\n"
     ]
    },
    {
     "name": "stdout",
     "output_type": "stream",
     "text": [
      ">>> 5053 5051\n",
      ">>> 5054 5051\n",
      ">>> 5055 5051\n",
      ">>> 5056 5051\n",
      ">>> 5057 5051\n",
      ">>> 5058 5051\n"
     ]
    },
    {
     "name": "stderr",
     "output_type": "stream",
     "text": [
      "gid=x Start paren present but have-quant-91 is not a new concept\n"
     ]
    },
    {
     "name": "stdout",
     "output_type": "stream",
     "text": [
      ">>> 5059 5051\n",
      ">>> 5060 5051\n",
      ">>> 5061 5061\n",
      ">>> 5062 5061\n",
      ">>> 5063 5061\n",
      ">>> 5064 5061\n",
      ">>> 5065 5061\n",
      ">>> 5066 5061\n",
      ">>> 5067 5061\n",
      ">>> 5068 5061\n",
      ">>> 5069 5061\n"
     ]
    },
    {
     "name": "stderr",
     "output_type": "stream",
     "text": [
      "gid=x Start paren present but have-quant-91 is not a new concept\n"
     ]
    },
    {
     "name": "stdout",
     "output_type": "stream",
     "text": [
      ">>> 5070 5061\n",
      ">>> 5071 5071\n",
      ">>> 5072 5071\n"
     ]
    },
    {
     "name": "stderr",
     "output_type": "stream",
     "text": [
      "gid=x Start paren present but have-quant-91 is not a new concept\n"
     ]
    },
    {
     "name": "stdout",
     "output_type": "stream",
     "text": [
      ">>> 5073 5071\n",
      ">>> 5074 5071\n",
      ">>> 5075 5071\n",
      ">>> 5076 5071\n",
      ">>> 5077 5071\n",
      ">>> 5078 5071\n",
      ">>> 5079 5071\n",
      ">>> 5080 5071\n",
      ">>> 5081 5081\n",
      ">>> 5082 5081\n",
      ">>> 5083 5081\n",
      ">>> 5084 5081\n",
      ">>> 5085 5081\n",
      ">>> 5086 5081\n",
      ">>> 5087 5081\n",
      ">>> 5088 5081\n",
      ">>> 5089 5081\n",
      ">>> 5090 5081\n",
      ">>> 5091 5091\n",
      ">>> 5092 5091\n",
      ">>> 5093 5091\n",
      ">>> 5094 5091\n",
      ">>> 5095 5091\n"
     ]
    },
    {
     "name": "stderr",
     "output_type": "stream",
     "text": [
      "gid=x Start paren present but it is not a new concept\n"
     ]
    },
    {
     "name": "stdout",
     "output_type": "stream",
     "text": [
      ">>> 5096 5091\n",
      ">>> 5097 5091\n"
     ]
    },
    {
     "name": "stderr",
     "output_type": "stream",
     "text": [
      "gid=x Missing starting paren for node t/thing\n"
     ]
    },
    {
     "name": "stdout",
     "output_type": "stream",
     "text": [
      ">>> 5098 5091\n"
     ]
    },
    {
     "name": "stderr",
     "output_type": "stream",
     "text": [
      "gid=x Start paren present but more is not a new concept\n"
     ]
    },
    {
     "name": "stdout",
     "output_type": "stream",
     "text": [
      ">>> 5099 5091\n",
      ">>> 5100 5091\n",
      ">>> 5101 5101\n",
      ">>> 5102 5101\n",
      ">>> 5103 5101\n",
      ">>> 5104 5101\n",
      ">>> 5105 5101\n",
      ">>> 5106 5101\n",
      ">>> 5107 5101\n",
      ">>> 5108 5101\n",
      ">>> 5109 5101\n",
      ">>> 5110 5101\n",
      ">>> 5111 5111\n",
      ">>> 5112 5111\n",
      ">>> 5113 5111\n",
      ">>> 5114 5111\n",
      ">>> 5115 5111\n",
      ">>> 5116 5111\n",
      ">>> 5117 5111\n",
      ">>> 5118 5111\n",
      ">>> 5119 5111\n",
      ">>> 5120 5111\n",
      ">>> 5121 5121\n",
      ">>> 5122 5121\n",
      ">>> 5123 5121\n",
      ">>> 5124 5121\n",
      ">>> 5125 5121\n",
      ">>> 5126 5121\n",
      ">>> 5127 5121\n",
      ">>> 5128 5121\n",
      ">>> 5129 5121\n",
      ">>> 5130 5121\n",
      ">>> 5131 5131\n",
      ">>> 5132 5131\n",
      ">>> 5133 5131\n",
      ">>> 5134 5131\n",
      ">>> 5135 5131\n",
      ">>> 5136 5131\n",
      ">>> 5137 5131\n",
      ">>> 5138 5131\n",
      ">>> 5139 5131\n",
      ">>> 5140 5131\n",
      ">>> 5141 5141\n",
      ">>> 5142 5141\n",
      ">>> 5143 5141\n",
      ">>> 5144 5141\n",
      ">>> 5145 5141\n",
      ">>> 5146 5141\n",
      ">>> 5147 5141\n",
      ">>> 5148 5141\n"
     ]
    },
    {
     "name": "stderr",
     "output_type": "stream",
     "text": [
      "gid=x Start paren present but have-03 is not a new concept\n"
     ]
    },
    {
     "name": "stdout",
     "output_type": "stream",
     "text": [
      ">>> 5149 5141\n",
      ">>> 5150 5141\n",
      ">>> 5151 5151\n",
      ">>> 5152 5151\n",
      ">>> 5153 5151\n",
      ">>> 5154 5151\n",
      ">>> 5155 5151\n",
      ">>> 5156 5151\n",
      ">>> 5157 5151\n",
      ">>> 5158 5151\n",
      ">>> 5159 5151\n",
      ">>> 5160 5151\n",
      ">>> 5161 5161\n",
      ">>> 5162 5161\n",
      ">>> 5163 5161\n",
      ">>> 5164 5161\n",
      ">>> 5165 5161\n",
      ">>> 5166 5161\n",
      ">>> 5167 5161\n",
      ">>> 5168 5161\n",
      ">>> 5169 5161\n",
      ">>> 5170 5161\n",
      ">>> 5171 5171\n",
      ">>> 5172 5171\n",
      ">>> 5173 5171\n",
      ">>> 5174 5171\n",
      ">>> 5175 5171\n",
      ">>> 5176 5171\n",
      ">>> 5177 5171\n",
      ">>> 5178 5171\n",
      ">>> 5179 5171\n",
      ">>> 5180 5171\n",
      ">>> 5181 5181\n",
      ">>> 5182 5181\n",
      ">>> 5183 5181\n",
      ">>> 5184 5181\n",
      ">>> 5185 5181\n",
      ">>> 5186 5181\n",
      ">>> 5187 5181\n",
      ">>> 5188 5181\n"
     ]
    },
    {
     "name": "stderr",
     "output_type": "stream",
     "text": [
      "gid=x Start paren present but baseball is not a new concept\n"
     ]
    },
    {
     "name": "stdout",
     "output_type": "stream",
     "text": [
      ">>> 5189 5181\n",
      ">>> 5190 5181\n",
      ">>> 5191 5191\n"
     ]
    },
    {
     "name": "stderr",
     "output_type": "stream",
     "text": [
      "gid=x Start paren present but you is not a new concept\n"
     ]
    },
    {
     "name": "stdout",
     "output_type": "stream",
     "text": [
      ">>> 5192 5191\n",
      ">>> 5193 5191\n",
      ">>> 5194 5191\n",
      ">>> 5195 5191\n",
      ">>> 5196 5191\n",
      ">>> 5197 5191\n",
      ">>> 5198 5191\n",
      ">>> 5199 5191\n",
      ">>> 5200 5191\n",
      ">>> 5201 5201\n",
      ">>> 5202 5201\n",
      ">>> 5203 5201\n",
      ">>> 5204 5201\n",
      ">>> 5205 5201\n",
      ">>> 5206 5201\n",
      ">>> 5207 5201\n",
      ">>> 5208 5201\n",
      ">>> 5209 5201\n",
      ">>> 5210 5201\n",
      ">>> 5211 5211\n",
      ">>> 5212 5211\n",
      ">>> 5213 5211\n",
      ">>> 5214 5211\n",
      ">>> 5215 5211\n",
      ">>> 5216 5211\n",
      ">>> 5217 5211\n",
      ">>> 5218 5211\n",
      ">>> 5219 5211\n",
      ">>> 5220 5211\n",
      ">>> 5221 5221\n",
      ">>> 5222 5221\n",
      ">>> 5223 5221\n",
      ">>> 5224 5221\n",
      ">>> 5225 5221\n",
      ">>> 5226 5221\n",
      ">>> 5227 5221\n",
      ">>> 5228 5221\n",
      ">>> 5229 5221\n",
      ">>> 5230 5221\n",
      ">>> 5231 5231\n",
      ">>> 5232 5231\n",
      ">>> 5233 5231\n",
      ">>> 5234 5231\n",
      ">>> 5235 5231\n"
     ]
    },
    {
     "name": "stderr",
     "output_type": "stream",
     "text": [
      "gid=x Missing starting paren for node s/standard\n"
     ]
    },
    {
     "name": "stdout",
     "output_type": "stream",
     "text": [
      ">>> 5236 5231\n"
     ]
    },
    {
     "name": "stderr",
     "output_type": "stream",
     "text": [
      "gid=x Start paren present but standard-02 is not a new concept\n"
     ]
    },
    {
     "name": "stdout",
     "output_type": "stream",
     "text": [
      ">>> 5237 5231\n",
      ">>> 5238 5231\n",
      ">>> 5239 5231\n",
      ">>> 5240 5231\n",
      ">>> 5241 5241\n",
      ">>> 5242 5241\n",
      ">>> 5243 5241\n",
      ">>> 5244 5241\n",
      ">>> 5245 5241\n",
      ">>> 5246 5241\n",
      ">>> 5247 5241\n",
      ">>> 5248 5241\n",
      ">>> 5249 5241\n",
      ">>> 5250 5241\n",
      ">>> 5251 5251\n"
     ]
    }
   ],
   "source": [
    "import amrlib\n",
    "import tqdm\n",
    "import pandas as pd\n",
    "\n",
    "stog = amrlib.load_stog_model()\n",
    "df= pd.read_csv(\"scientsbank_core.csv\")\n",
    "count = 1\n",
    "start = 1\n",
    "for i, j in df[:].iterrows():\n",
    "    print('>>>',count,start)\n",
    "    graphs = stog.parse_sents([j['student_answer']])\n",
    "    df.at[i, 'student_amr'] = graphs[0]\n",
    "    if count%10 == 0:\n",
    "        df.iloc[start-1:start+9].to_csv(\"sci_checkpoint\"+str(count//10)+\".csv\")\n",
    "        start += 10\n",
    "    count+=1"
   ]
  },
  {
   "cell_type": "code",
   "execution_count": 2,
   "metadata": {},
   "outputs": [],
   "source": [
    "df.to_csv('SCI_AMR.csv')"
   ]
  },
  {
   "cell_type": "code",
   "execution_count": 3,
   "metadata": {},
   "outputs": [
    {
     "data": {
      "text/html": [
       "<div>\n",
       "<style scoped>\n",
       "    .dataframe tbody tr th:only-of-type {\n",
       "        vertical-align: middle;\n",
       "    }\n",
       "\n",
       "    .dataframe tbody tr th {\n",
       "        vertical-align: top;\n",
       "    }\n",
       "\n",
       "    .dataframe thead th {\n",
       "        text-align: right;\n",
       "    }\n",
       "</style>\n",
       "<table border=\"1\" class=\"dataframe\">\n",
       "  <thead>\n",
       "    <tr style=\"text-align: right;\">\n",
       "      <th></th>\n",
       "      <th>question_id</th>\n",
       "      <th>question_text</th>\n",
       "      <th>model_answer</th>\n",
       "      <th>answer_id</th>\n",
       "      <th>student_answer</th>\n",
       "      <th>accuracy</th>\n",
       "      <th>score</th>\n",
       "      <th>student_amr</th>\n",
       "    </tr>\n",
       "  </thead>\n",
       "  <tbody>\n",
       "    <tr>\n",
       "      <td>0</td>\n",
       "      <td>EM_45b</td>\n",
       "      <td>You used several methods to separate and ident...</td>\n",
       "      <td>The water was evaporated, leaving the salt.</td>\n",
       "      <td>EM.45b.110.1</td>\n",
       "      <td>By letting it sit in a dish for a day.</td>\n",
       "      <td>irrelevant</td>\n",
       "      <td>1</td>\n",
       "      <td># ::snt By letting it sit in a dish for a day....</td>\n",
       "    </tr>\n",
       "    <tr>\n",
       "      <td>1</td>\n",
       "      <td>NaN</td>\n",
       "      <td>NaN</td>\n",
       "      <td>NaN</td>\n",
       "      <td>EM.45b.113.1</td>\n",
       "      <td>Let the water evaporate and the salt is left b...</td>\n",
       "      <td>correct</td>\n",
       "      <td>4</td>\n",
       "      <td># ::snt Let the water evaporate and the salt i...</td>\n",
       "    </tr>\n",
       "    <tr>\n",
       "      <td>2</td>\n",
       "      <td>NaN</td>\n",
       "      <td>NaN</td>\n",
       "      <td>NaN</td>\n",
       "      <td>EM.45b.114.1</td>\n",
       "      <td>The water evaporated and left salt crystals.</td>\n",
       "      <td>correct</td>\n",
       "      <td>4</td>\n",
       "      <td># ::snt The water evaporated and left salt cry...</td>\n",
       "    </tr>\n",
       "    <tr>\n",
       "      <td>3</td>\n",
       "      <td>NaN</td>\n",
       "      <td>NaN</td>\n",
       "      <td>NaN</td>\n",
       "      <td>EM.45b.261.1</td>\n",
       "      <td>I saw a pinkish grayish color that was blockin...</td>\n",
       "      <td>irrelevant</td>\n",
       "      <td>1</td>\n",
       "      <td># ::snt I saw a pinkish grayish color that was...</td>\n",
       "    </tr>\n",
       "    <tr>\n",
       "      <td>4</td>\n",
       "      <td>NaN</td>\n",
       "      <td>NaN</td>\n",
       "      <td>NaN</td>\n",
       "      <td>EM.45b.383.1</td>\n",
       "      <td>You have to slowly tip the vial for only the w...</td>\n",
       "      <td>irrelevant</td>\n",
       "      <td>1</td>\n",
       "      <td># ::snt You have to slowly tip the vial for on...</td>\n",
       "    </tr>\n",
       "    <tr>\n",
       "      <td>...</td>\n",
       "      <td>...</td>\n",
       "      <td>...</td>\n",
       "      <td>...</td>\n",
       "      <td>...</td>\n",
       "      <td>...</td>\n",
       "      <td>...</td>\n",
       "      <td>...</td>\n",
       "      <td>...</td>\n",
       "    </tr>\n",
       "    <tr>\n",
       "      <td>5246</td>\n",
       "      <td>NaN</td>\n",
       "      <td>NaN</td>\n",
       "      <td>NaN</td>\n",
       "      <td>VB.29.537.1</td>\n",
       "      <td>To see if the standard might be faster than th...</td>\n",
       "      <td>partially_correct_incomplete</td>\n",
       "      <td>3</td>\n",
       "      <td># ::snt To see if the standard might be faster...</td>\n",
       "    </tr>\n",
       "    <tr>\n",
       "      <td>5247</td>\n",
       "      <td>NaN</td>\n",
       "      <td>NaN</td>\n",
       "      <td>NaN</td>\n",
       "      <td>VB.29.542.1</td>\n",
       "      <td>Because you can compare the results.</td>\n",
       "      <td>partially_correct_incomplete</td>\n",
       "      <td>3</td>\n",
       "      <td># ::snt Because you can compare the results.\\n...</td>\n",
       "    </tr>\n",
       "    <tr>\n",
       "      <td>5248</td>\n",
       "      <td>NaN</td>\n",
       "      <td>NaN</td>\n",
       "      <td>NaN</td>\n",
       "      <td>VB.29.626.1</td>\n",
       "      <td>To help control the controlled experiment.</td>\n",
       "      <td>irrelevant</td>\n",
       "      <td>1</td>\n",
       "      <td># ::snt To help control the controlled experim...</td>\n",
       "    </tr>\n",
       "    <tr>\n",
       "      <td>5249</td>\n",
       "      <td>NaN</td>\n",
       "      <td>NaN</td>\n",
       "      <td>NaN</td>\n",
       "      <td>VB.29.628.1</td>\n",
       "      <td>To control any experiment.</td>\n",
       "      <td>irrelevant</td>\n",
       "      <td>1</td>\n",
       "      <td># ::snt To control any experiment.\\n(c / contr...</td>\n",
       "    </tr>\n",
       "    <tr>\n",
       "      <td>5250</td>\n",
       "      <td>NaN</td>\n",
       "      <td>NaN</td>\n",
       "      <td>NaN</td>\n",
       "      <td>VB.29.634.1</td>\n",
       "      <td>Because without a standard you will not know t...</td>\n",
       "      <td>irrelevant</td>\n",
       "      <td>1</td>\n",
       "      <td># ::snt Because without a standard you will no...</td>\n",
       "    </tr>\n",
       "  </tbody>\n",
       "</table>\n",
       "<p>5251 rows × 8 columns</p>\n",
       "</div>"
      ],
      "text/plain": [
       "     question_id                                      question_text  \\\n",
       "0         EM_45b  You used several methods to separate and ident...   \n",
       "1            NaN                                                NaN   \n",
       "2            NaN                                                NaN   \n",
       "3            NaN                                                NaN   \n",
       "4            NaN                                                NaN   \n",
       "...          ...                                                ...   \n",
       "5246         NaN                                                NaN   \n",
       "5247         NaN                                                NaN   \n",
       "5248         NaN                                                NaN   \n",
       "5249         NaN                                                NaN   \n",
       "5250         NaN                                                NaN   \n",
       "\n",
       "                                     model_answer     answer_id  \\\n",
       "0     The water was evaporated, leaving the salt.  EM.45b.110.1   \n",
       "1                                             NaN  EM.45b.113.1   \n",
       "2                                             NaN  EM.45b.114.1   \n",
       "3                                             NaN  EM.45b.261.1   \n",
       "4                                             NaN  EM.45b.383.1   \n",
       "...                                           ...           ...   \n",
       "5246                                          NaN   VB.29.537.1   \n",
       "5247                                          NaN   VB.29.542.1   \n",
       "5248                                          NaN   VB.29.626.1   \n",
       "5249                                          NaN   VB.29.628.1   \n",
       "5250                                          NaN   VB.29.634.1   \n",
       "\n",
       "                                         student_answer  \\\n",
       "0                By letting it sit in a dish for a day.   \n",
       "1     Let the water evaporate and the salt is left b...   \n",
       "2          The water evaporated and left salt crystals.   \n",
       "3     I saw a pinkish grayish color that was blockin...   \n",
       "4     You have to slowly tip the vial for only the w...   \n",
       "...                                                 ...   \n",
       "5246  To see if the standard might be faster than th...   \n",
       "5247               Because you can compare the results.   \n",
       "5248         To help control the controlled experiment.   \n",
       "5249                         To control any experiment.   \n",
       "5250  Because without a standard you will not know t...   \n",
       "\n",
       "                          accuracy  score  \\\n",
       "0                       irrelevant      1   \n",
       "1                          correct      4   \n",
       "2                          correct      4   \n",
       "3                       irrelevant      1   \n",
       "4                       irrelevant      1   \n",
       "...                            ...    ...   \n",
       "5246  partially_correct_incomplete      3   \n",
       "5247  partially_correct_incomplete      3   \n",
       "5248                    irrelevant      1   \n",
       "5249                    irrelevant      1   \n",
       "5250                    irrelevant      1   \n",
       "\n",
       "                                            student_amr  \n",
       "0     # ::snt By letting it sit in a dish for a day....  \n",
       "1     # ::snt Let the water evaporate and the salt i...  \n",
       "2     # ::snt The water evaporated and left salt cry...  \n",
       "3     # ::snt I saw a pinkish grayish color that was...  \n",
       "4     # ::snt You have to slowly tip the vial for on...  \n",
       "...                                                 ...  \n",
       "5246  # ::snt To see if the standard might be faster...  \n",
       "5247  # ::snt Because you can compare the results.\\n...  \n",
       "5248  # ::snt To help control the controlled experim...  \n",
       "5249  # ::snt To control any experiment.\\n(c / contr...  \n",
       "5250  # ::snt Because without a standard you will no...  \n",
       "\n",
       "[5251 rows x 8 columns]"
      ]
     },
     "execution_count": 3,
     "metadata": {},
     "output_type": "execute_result"
    }
   ],
   "source": [
    "df"
   ]
  },
  {
   "cell_type": "code",
   "execution_count": null,
   "metadata": {},
   "outputs": [],
   "source": []
  }
 ],
 "metadata": {
  "kernelspec": {
   "display_name": "Python 3",
   "language": "python",
   "name": "python3"
  },
  "language_info": {
   "codemirror_mode": {
    "name": "ipython",
    "version": 3
   },
   "file_extension": ".py",
   "mimetype": "text/x-python",
   "name": "python",
   "nbconvert_exporter": "python",
   "pygments_lexer": "ipython3",
   "version": "3.6.8"
  }
 },
 "nbformat": 4,
 "nbformat_minor": 5
}
